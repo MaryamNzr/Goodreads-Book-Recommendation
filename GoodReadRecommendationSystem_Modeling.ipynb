{
 "cells": [
  {
   "cell_type": "code",
   "execution_count": 1,
   "id": "4e60dda6",
   "metadata": {},
   "outputs": [],
   "source": [
    "import pandas as pd\n",
    "import numpy as np\n",
    "import os\n",
    "import matplotlib.pyplot as plt\n",
    "import seaborn as sns\n",
    "from sklearn.decomposition import PCA\n",
    "from sklearn.preprocessing import scale"
   ]
  },
  {
   "cell_type": "code",
   "execution_count": 2,
   "id": "7c484b90",
   "metadata": {},
   "outputs": [],
   "source": [
    "df = pd.read_csv('ClusterVisualization.csv',on_bad_lines = 'skip')"
   ]
  },
  {
   "cell_type": "code",
   "execution_count": 3,
   "id": "0c7f99f9",
   "metadata": {},
   "outputs": [
    {
     "name": "stdout",
     "output_type": "stream",
     "text": [
      "['Unnamed: 0.1', 'Unnamed: 0', 'book_id', 'author_id', 'authors', 'title', 'description', 'publisher', 'genres', 'avg_rating', 'ratings_count', 'num_pages', 'pub_year', 'similar_books', 'url', 'tokens', 'f_0', 'f_1', 'f_2', 'f_3', 'f_4', 'f_5', 'f_6', 'f_7', 'f_8', 'f_9', 'f_10', 'f_11', 'f_12', 'f_13', 'f_14', 'f_15', 'f_16', 'f_17', 'f_18', 'f_19', 'f_20', 'f_21', 'f_22', 'f_23', 'f_24', 'f_25', 'f_26', 'f_27', 'f_28', 'f_29', 'f_30', 'f_31', 'f_32', 'f_33', 'f_34', 'f_35', 'f_36', 'f_37', 'f_38', 'f_39', 'f_40', 'f_41', 'f_42', 'f_43', 'f_44', 'f_45', 'f_46', 'f_47', 'f_48', 'f_49', 'f_50', 'f_51', 'f_52', 'f_53', 'f_54', 'f_55', 'f_56', 'f_57', 'f_58', 'f_59', 'f_60', 'f_61', 'f_62', 'f_63', 'f_64', 'f_65', 'f_66', 'f_67', 'f_68', 'f_69', 'f_70', 'f_71', 'f_72', 'f_73', 'f_74', 'f_75', 'f_76', 'f_77', 'f_78', 'f_79', 'f_80', 'f_81', 'f_82', 'f_83', 'f_84', 'f_85', 'f_86', 'f_87', 'f_88', 'f_89', 'f_90', 'f_91', 'f_92', 'f_93', 'f_94', 'f_95', 'f_96', 'f_97', 'f_98', 'f_99', 'kmeans_cluster', 'tsne_1', 'tsne_2']\n"
     ]
    }
   ],
   "source": [
    "print(list(df.columns))"
   ]
  },
  {
   "cell_type": "code",
   "execution_count": 4,
   "id": "a1b7f998",
   "metadata": {},
   "outputs": [],
   "source": [
    "df= df[['book_id', 'author_id', 'authors', 'title', 'description', 'publisher', 'genres', 'avg_rating', 'ratings_count', 'num_pages', 'pub_year','kmeans_cluster']]\n",
    "\n",
    "\n",
    "\n"
   ]
  },
  {
   "cell_type": "code",
   "execution_count": 5,
   "id": "8b052b65",
   "metadata": {},
   "outputs": [
    {
     "data": {
      "text/plain": [
       "Index(['book_id', 'author_id', 'authors', 'title', 'description', 'publisher',\n",
       "       'genres', 'avg_rating', 'ratings_count', 'num_pages', 'pub_year',\n",
       "       'kmeans_cluster'],\n",
       "      dtype='object')"
      ]
     },
     "execution_count": 5,
     "metadata": {},
     "output_type": "execute_result"
    }
   ],
   "source": [
    "df.columns"
   ]
  },
  {
   "cell_type": "code",
   "execution_count": 6,
   "id": "4816b8b8",
   "metadata": {},
   "outputs": [
    {
     "name": "stdout",
     "output_type": "stream",
     "text": [
      "<class 'pandas.core.frame.DataFrame'>\n",
      "RangeIndex: 19907 entries, 0 to 19906\n",
      "Data columns (total 12 columns):\n",
      " #   Column          Non-Null Count  Dtype  \n",
      "---  ------          --------------  -----  \n",
      " 0   book_id         19907 non-null  int64  \n",
      " 1   author_id       19907 non-null  int64  \n",
      " 2   authors         19907 non-null  object \n",
      " 3   title           19907 non-null  object \n",
      " 4   description     19907 non-null  object \n",
      " 5   publisher       19907 non-null  object \n",
      " 6   genres          19907 non-null  object \n",
      " 7   avg_rating      19907 non-null  float64\n",
      " 8   ratings_count   19907 non-null  int64  \n",
      " 9   num_pages       19907 non-null  int64  \n",
      " 10  pub_year        19907 non-null  float64\n",
      " 11  kmeans_cluster  19907 non-null  int64  \n",
      "dtypes: float64(2), int64(5), object(5)\n",
      "memory usage: 1.8+ MB\n"
     ]
    }
   ],
   "source": [
    "df.info()"
   ]
  },
  {
   "cell_type": "code",
   "execution_count": 7,
   "id": "26fdc545",
   "metadata": {},
   "outputs": [
    {
     "data": {
      "text/html": [
       "<div>\n",
       "<style scoped>\n",
       "    .dataframe tbody tr th:only-of-type {\n",
       "        vertical-align: middle;\n",
       "    }\n",
       "\n",
       "    .dataframe tbody tr th {\n",
       "        vertical-align: top;\n",
       "    }\n",
       "\n",
       "    .dataframe thead th {\n",
       "        text-align: right;\n",
       "    }\n",
       "</style>\n",
       "<table border=\"1\" class=\"dataframe\">\n",
       "  <thead>\n",
       "    <tr style=\"text-align: right;\">\n",
       "      <th></th>\n",
       "      <th>book_id</th>\n",
       "      <th>author_id</th>\n",
       "      <th>avg_rating</th>\n",
       "      <th>ratings_count</th>\n",
       "      <th>num_pages</th>\n",
       "      <th>pub_year</th>\n",
       "      <th>kmeans_cluster</th>\n",
       "    </tr>\n",
       "  </thead>\n",
       "  <tbody>\n",
       "    <tr>\n",
       "      <th>count</th>\n",
       "      <td>1.990700e+04</td>\n",
       "      <td>1.990700e+04</td>\n",
       "      <td>19907.000000</td>\n",
       "      <td>1.990700e+04</td>\n",
       "      <td>19907.000000</td>\n",
       "      <td>19907.000000</td>\n",
       "      <td>19907.000000</td>\n",
       "    </tr>\n",
       "    <tr>\n",
       "      <th>mean</th>\n",
       "      <td>7.800824e+06</td>\n",
       "      <td>1.544133e+06</td>\n",
       "      <td>3.990864</td>\n",
       "      <td>2.631630e+04</td>\n",
       "      <td>309.877078</td>\n",
       "      <td>2007.239916</td>\n",
       "      <td>2.198875</td>\n",
       "    </tr>\n",
       "    <tr>\n",
       "      <th>std</th>\n",
       "      <td>9.335106e+06</td>\n",
       "      <td>2.762749e+06</td>\n",
       "      <td>0.256652</td>\n",
       "      <td>1.091256e+05</td>\n",
       "      <td>207.734692</td>\n",
       "      <td>16.501540</td>\n",
       "      <td>1.709861</td>\n",
       "    </tr>\n",
       "    <tr>\n",
       "      <th>min</th>\n",
       "      <td>1.000000e+00</td>\n",
       "      <td>4.000000e+00</td>\n",
       "      <td>2.470000</td>\n",
       "      <td>3.741000e+03</td>\n",
       "      <td>0.000000</td>\n",
       "      <td>17.000000</td>\n",
       "      <td>0.000000</td>\n",
       "    </tr>\n",
       "    <tr>\n",
       "      <th>25%</th>\n",
       "      <td>1.095105e+05</td>\n",
       "      <td>1.001600e+04</td>\n",
       "      <td>3.830000</td>\n",
       "      <td>5.150000e+03</td>\n",
       "      <td>206.000000</td>\n",
       "      <td>2004.000000</td>\n",
       "      <td>1.000000</td>\n",
       "    </tr>\n",
       "    <tr>\n",
       "      <th>50%</th>\n",
       "      <td>1.819717e+06</td>\n",
       "      <td>5.120400e+04</td>\n",
       "      <td>4.000000</td>\n",
       "      <td>8.052000e+03</td>\n",
       "      <td>310.000000</td>\n",
       "      <td>2010.000000</td>\n",
       "      <td>2.000000</td>\n",
       "    </tr>\n",
       "    <tr>\n",
       "      <th>75%</th>\n",
       "      <td>1.579539e+07</td>\n",
       "      <td>2.001717e+06</td>\n",
       "      <td>4.170000</td>\n",
       "      <td>1.663100e+04</td>\n",
       "      <td>391.000000</td>\n",
       "      <td>2014.000000</td>\n",
       "      <td>4.000000</td>\n",
       "    </tr>\n",
       "    <tr>\n",
       "      <th>max</th>\n",
       "      <td>3.610751e+07</td>\n",
       "      <td>1.731591e+07</td>\n",
       "      <td>4.820000</td>\n",
       "      <td>4.899965e+06</td>\n",
       "      <td>7852.000000</td>\n",
       "      <td>2020.000000</td>\n",
       "      <td>5.000000</td>\n",
       "    </tr>\n",
       "  </tbody>\n",
       "</table>\n",
       "</div>"
      ],
      "text/plain": [
       "            book_id     author_id    avg_rating  ratings_count     num_pages  \\\n",
       "count  1.990700e+04  1.990700e+04  19907.000000   1.990700e+04  19907.000000   \n",
       "mean   7.800824e+06  1.544133e+06      3.990864   2.631630e+04    309.877078   \n",
       "std    9.335106e+06  2.762749e+06      0.256652   1.091256e+05    207.734692   \n",
       "min    1.000000e+00  4.000000e+00      2.470000   3.741000e+03      0.000000   \n",
       "25%    1.095105e+05  1.001600e+04      3.830000   5.150000e+03    206.000000   \n",
       "50%    1.819717e+06  5.120400e+04      4.000000   8.052000e+03    310.000000   \n",
       "75%    1.579539e+07  2.001717e+06      4.170000   1.663100e+04    391.000000   \n",
       "max    3.610751e+07  1.731591e+07      4.820000   4.899965e+06   7852.000000   \n",
       "\n",
       "           pub_year  kmeans_cluster  \n",
       "count  19907.000000    19907.000000  \n",
       "mean    2007.239916        2.198875  \n",
       "std       16.501540        1.709861  \n",
       "min       17.000000        0.000000  \n",
       "25%     2004.000000        1.000000  \n",
       "50%     2010.000000        2.000000  \n",
       "75%     2014.000000        4.000000  \n",
       "max     2020.000000        5.000000  "
      ]
     },
     "execution_count": 7,
     "metadata": {},
     "output_type": "execute_result"
    }
   ],
   "source": [
    "df.describe()"
   ]
  },
  {
   "cell_type": "markdown",
   "id": "78594e5f",
   "metadata": {},
   "source": [
    "## One-hot Encode Clusters"
   ]
  },
  {
   "cell_type": "code",
   "execution_count": 8,
   "id": "41cc342e",
   "metadata": {},
   "outputs": [],
   "source": [
    "cluster_onehot = pd.get_dummies(df['kmeans_cluster'], prefix='cluster')"
   ]
  },
  {
   "cell_type": "code",
   "execution_count": 9,
   "id": "6665f5ea",
   "metadata": {},
   "outputs": [],
   "source": [
    "df = pd.concat([df, cluster_onehot], axis = 1)"
   ]
  },
  {
   "cell_type": "code",
   "execution_count": 10,
   "id": "5cf84028",
   "metadata": {},
   "outputs": [
    {
     "data": {
      "text/html": [
       "<div>\n",
       "<style scoped>\n",
       "    .dataframe tbody tr th:only-of-type {\n",
       "        vertical-align: middle;\n",
       "    }\n",
       "\n",
       "    .dataframe tbody tr th {\n",
       "        vertical-align: top;\n",
       "    }\n",
       "\n",
       "    .dataframe thead th {\n",
       "        text-align: right;\n",
       "    }\n",
       "</style>\n",
       "<table border=\"1\" class=\"dataframe\">\n",
       "  <thead>\n",
       "    <tr style=\"text-align: right;\">\n",
       "      <th></th>\n",
       "      <th>book_id</th>\n",
       "      <th>author_id</th>\n",
       "      <th>authors</th>\n",
       "      <th>title</th>\n",
       "      <th>description</th>\n",
       "      <th>publisher</th>\n",
       "      <th>genres</th>\n",
       "      <th>avg_rating</th>\n",
       "      <th>ratings_count</th>\n",
       "      <th>num_pages</th>\n",
       "      <th>pub_year</th>\n",
       "      <th>kmeans_cluster</th>\n",
       "      <th>cluster_0</th>\n",
       "      <th>cluster_1</th>\n",
       "      <th>cluster_2</th>\n",
       "      <th>cluster_3</th>\n",
       "      <th>cluster_4</th>\n",
       "      <th>cluster_5</th>\n",
       "    </tr>\n",
       "  </thead>\n",
       "  <tbody>\n",
       "    <tr>\n",
       "      <th>0</th>\n",
       "      <td>2767052</td>\n",
       "      <td>153394</td>\n",
       "      <td>Suzanne Collins</td>\n",
       "      <td>The Hunger Games (The Hunger Games, #1)</td>\n",
       "      <td>Winning will make you famous.\\nLosing means ce...</td>\n",
       "      <td>Scholastic Press</td>\n",
       "      <td>['favorites', 'currently-reading', 'to-read', ...</td>\n",
       "      <td>4.34</td>\n",
       "      <td>4899965</td>\n",
       "      <td>374</td>\n",
       "      <td>2008.0</td>\n",
       "      <td>3</td>\n",
       "      <td>0</td>\n",
       "      <td>0</td>\n",
       "      <td>0</td>\n",
       "      <td>1</td>\n",
       "      <td>0</td>\n",
       "      <td>0</td>\n",
       "    </tr>\n",
       "    <tr>\n",
       "      <th>1</th>\n",
       "      <td>3</td>\n",
       "      <td>1077326</td>\n",
       "      <td>J.K. Rowling</td>\n",
       "      <td>Harry Potter and the Sorcerer's Stone (Harry P...</td>\n",
       "      <td>Harry Potter's life is miserable. His parents ...</td>\n",
       "      <td>Scholastic Inc</td>\n",
       "      <td>['to-read', 'favorites', 'fantasy', 'young-adu...</td>\n",
       "      <td>4.45</td>\n",
       "      <td>4765497</td>\n",
       "      <td>320</td>\n",
       "      <td>1997.0</td>\n",
       "      <td>3</td>\n",
       "      <td>0</td>\n",
       "      <td>0</td>\n",
       "      <td>0</td>\n",
       "      <td>1</td>\n",
       "      <td>0</td>\n",
       "      <td>0</td>\n",
       "    </tr>\n",
       "    <tr>\n",
       "      <th>2</th>\n",
       "      <td>2657</td>\n",
       "      <td>1825</td>\n",
       "      <td>Harper Lee</td>\n",
       "      <td>To Kill a Mockingbird</td>\n",
       "      <td>The unforgettable novel of a childhood in a sl...</td>\n",
       "      <td>Harper Perennial Modern Classics</td>\n",
       "      <td>['to-read', 'favorites', 'classics', 'classic'...</td>\n",
       "      <td>4.26</td>\n",
       "      <td>3255518</td>\n",
       "      <td>324</td>\n",
       "      <td>2006.0</td>\n",
       "      <td>4</td>\n",
       "      <td>0</td>\n",
       "      <td>0</td>\n",
       "      <td>0</td>\n",
       "      <td>0</td>\n",
       "      <td>1</td>\n",
       "      <td>0</td>\n",
       "    </tr>\n",
       "    <tr>\n",
       "      <th>3</th>\n",
       "      <td>4671</td>\n",
       "      <td>3190</td>\n",
       "      <td>F. Scott Fitzgerald</td>\n",
       "      <td>The Great Gatsby</td>\n",
       "      <td>THE GREAT GATSBY, F. Scott Fitzgerald's third ...</td>\n",
       "      <td>Scribner</td>\n",
       "      <td>['to-read', 'classics', 'favorites', 'fiction'...</td>\n",
       "      <td>3.89</td>\n",
       "      <td>2758812</td>\n",
       "      <td>180</td>\n",
       "      <td>2004.0</td>\n",
       "      <td>4</td>\n",
       "      <td>0</td>\n",
       "      <td>0</td>\n",
       "      <td>0</td>\n",
       "      <td>0</td>\n",
       "      <td>1</td>\n",
       "      <td>0</td>\n",
       "    </tr>\n",
       "    <tr>\n",
       "      <th>4</th>\n",
       "      <td>11870085</td>\n",
       "      <td>1406384</td>\n",
       "      <td>John Green</td>\n",
       "      <td>The Fault in Our Stars</td>\n",
       "      <td>There is an alternate cover edition \u0001.\\n\"I fel...</td>\n",
       "      <td>Dutton Books</td>\n",
       "      <td>['to-read', 'favorites', 'young-adult', 'ficti...</td>\n",
       "      <td>4.26</td>\n",
       "      <td>2429317</td>\n",
       "      <td>313</td>\n",
       "      <td>2012.0</td>\n",
       "      <td>0</td>\n",
       "      <td>1</td>\n",
       "      <td>0</td>\n",
       "      <td>0</td>\n",
       "      <td>0</td>\n",
       "      <td>0</td>\n",
       "      <td>0</td>\n",
       "    </tr>\n",
       "  </tbody>\n",
       "</table>\n",
       "</div>"
      ],
      "text/plain": [
       "    book_id  author_id              authors  \\\n",
       "0   2767052     153394      Suzanne Collins   \n",
       "1         3    1077326         J.K. Rowling   \n",
       "2      2657       1825           Harper Lee   \n",
       "3      4671       3190  F. Scott Fitzgerald   \n",
       "4  11870085    1406384           John Green   \n",
       "\n",
       "                                               title  \\\n",
       "0            The Hunger Games (The Hunger Games, #1)   \n",
       "1  Harry Potter and the Sorcerer's Stone (Harry P...   \n",
       "2                              To Kill a Mockingbird   \n",
       "3                                   The Great Gatsby   \n",
       "4                             The Fault in Our Stars   \n",
       "\n",
       "                                         description  \\\n",
       "0  Winning will make you famous.\\nLosing means ce...   \n",
       "1  Harry Potter's life is miserable. His parents ...   \n",
       "2  The unforgettable novel of a childhood in a sl...   \n",
       "3  THE GREAT GATSBY, F. Scott Fitzgerald's third ...   \n",
       "4  There is an alternate cover edition \u0001.\\n\"I fel...   \n",
       "\n",
       "                          publisher  \\\n",
       "0                  Scholastic Press   \n",
       "1                    Scholastic Inc   \n",
       "2  Harper Perennial Modern Classics   \n",
       "3                          Scribner   \n",
       "4                      Dutton Books   \n",
       "\n",
       "                                              genres  avg_rating  \\\n",
       "0  ['favorites', 'currently-reading', 'to-read', ...        4.34   \n",
       "1  ['to-read', 'favorites', 'fantasy', 'young-adu...        4.45   \n",
       "2  ['to-read', 'favorites', 'classics', 'classic'...        4.26   \n",
       "3  ['to-read', 'classics', 'favorites', 'fiction'...        3.89   \n",
       "4  ['to-read', 'favorites', 'young-adult', 'ficti...        4.26   \n",
       "\n",
       "   ratings_count  num_pages  pub_year  kmeans_cluster  cluster_0  cluster_1  \\\n",
       "0        4899965        374    2008.0               3          0          0   \n",
       "1        4765497        320    1997.0               3          0          0   \n",
       "2        3255518        324    2006.0               4          0          0   \n",
       "3        2758812        180    2004.0               4          0          0   \n",
       "4        2429317        313    2012.0               0          1          0   \n",
       "\n",
       "   cluster_2  cluster_3  cluster_4  cluster_5  \n",
       "0          0          1          0          0  \n",
       "1          0          1          0          0  \n",
       "2          0          0          1          0  \n",
       "3          0          0          1          0  \n",
       "4          0          0          0          0  "
      ]
     },
     "execution_count": 10,
     "metadata": {},
     "output_type": "execute_result"
    }
   ],
   "source": [
    "df.head()"
   ]
  },
  {
   "cell_type": "code",
   "execution_count": 11,
   "id": "10a0f94a",
   "metadata": {},
   "outputs": [
    {
     "data": {
      "text/plain": [
       "Index(['book_id', 'author_id', 'authors', 'title', 'description', 'publisher',\n",
       "       'genres', 'avg_rating', 'ratings_count', 'num_pages', 'pub_year',\n",
       "       'kmeans_cluster', 'cluster_0', 'cluster_1', 'cluster_2', 'cluster_3',\n",
       "       'cluster_4', 'cluster_5'],\n",
       "      dtype='object')"
      ]
     },
     "execution_count": 11,
     "metadata": {},
     "output_type": "execute_result"
    }
   ],
   "source": [
    "df.columns"
   ]
  },
  {
   "cell_type": "markdown",
   "id": "38a4e673",
   "metadata": {},
   "source": [
    "## Recommendation Engine"
   ]
  },
  {
   "cell_type": "code",
   "execution_count": 13,
   "id": "ba006d63",
   "metadata": {},
   "outputs": [],
   "source": [
    "features = df[['book_id','avg_rating', 'ratings_count', 'cluster_0', 'cluster_1', 'cluster_2', 'cluster_3','cluster_4', 'cluster_5']]\n",
    "\n",
    "features.set_index('book_id', inplace = True)\n",
    "\n",
    "\n"
   ]
  },
  {
   "cell_type": "code",
   "execution_count": 14,
   "id": "50146816",
   "metadata": {},
   "outputs": [
    {
     "data": {
      "text/html": [
       "<div>\n",
       "<style scoped>\n",
       "    .dataframe tbody tr th:only-of-type {\n",
       "        vertical-align: middle;\n",
       "    }\n",
       "\n",
       "    .dataframe tbody tr th {\n",
       "        vertical-align: top;\n",
       "    }\n",
       "\n",
       "    .dataframe thead th {\n",
       "        text-align: right;\n",
       "    }\n",
       "</style>\n",
       "<table border=\"1\" class=\"dataframe\">\n",
       "  <thead>\n",
       "    <tr style=\"text-align: right;\">\n",
       "      <th></th>\n",
       "      <th>avg_rating</th>\n",
       "      <th>ratings_count</th>\n",
       "      <th>cluster_0</th>\n",
       "      <th>cluster_1</th>\n",
       "      <th>cluster_2</th>\n",
       "      <th>cluster_3</th>\n",
       "      <th>cluster_4</th>\n",
       "      <th>cluster_5</th>\n",
       "    </tr>\n",
       "    <tr>\n",
       "      <th>book_id</th>\n",
       "      <th></th>\n",
       "      <th></th>\n",
       "      <th></th>\n",
       "      <th></th>\n",
       "      <th></th>\n",
       "      <th></th>\n",
       "      <th></th>\n",
       "      <th></th>\n",
       "    </tr>\n",
       "  </thead>\n",
       "  <tbody>\n",
       "    <tr>\n",
       "      <th>2767052</th>\n",
       "      <td>4.34</td>\n",
       "      <td>4899965</td>\n",
       "      <td>0</td>\n",
       "      <td>0</td>\n",
       "      <td>0</td>\n",
       "      <td>1</td>\n",
       "      <td>0</td>\n",
       "      <td>0</td>\n",
       "    </tr>\n",
       "    <tr>\n",
       "      <th>3</th>\n",
       "      <td>4.45</td>\n",
       "      <td>4765497</td>\n",
       "      <td>0</td>\n",
       "      <td>0</td>\n",
       "      <td>0</td>\n",
       "      <td>1</td>\n",
       "      <td>0</td>\n",
       "      <td>0</td>\n",
       "    </tr>\n",
       "    <tr>\n",
       "      <th>2657</th>\n",
       "      <td>4.26</td>\n",
       "      <td>3255518</td>\n",
       "      <td>0</td>\n",
       "      <td>0</td>\n",
       "      <td>0</td>\n",
       "      <td>0</td>\n",
       "      <td>1</td>\n",
       "      <td>0</td>\n",
       "    </tr>\n",
       "    <tr>\n",
       "      <th>4671</th>\n",
       "      <td>3.89</td>\n",
       "      <td>2758812</td>\n",
       "      <td>0</td>\n",
       "      <td>0</td>\n",
       "      <td>0</td>\n",
       "      <td>0</td>\n",
       "      <td>1</td>\n",
       "      <td>0</td>\n",
       "    </tr>\n",
       "    <tr>\n",
       "      <th>11870085</th>\n",
       "      <td>4.26</td>\n",
       "      <td>2429317</td>\n",
       "      <td>1</td>\n",
       "      <td>0</td>\n",
       "      <td>0</td>\n",
       "      <td>0</td>\n",
       "      <td>0</td>\n",
       "      <td>0</td>\n",
       "    </tr>\n",
       "  </tbody>\n",
       "</table>\n",
       "</div>"
      ],
      "text/plain": [
       "          avg_rating  ratings_count  cluster_0  cluster_1  cluster_2  \\\n",
       "book_id                                                                \n",
       "2767052         4.34        4899965          0          0          0   \n",
       "3               4.45        4765497          0          0          0   \n",
       "2657            4.26        3255518          0          0          0   \n",
       "4671            3.89        2758812          0          0          0   \n",
       "11870085        4.26        2429317          1          0          0   \n",
       "\n",
       "          cluster_3  cluster_4  cluster_5  \n",
       "book_id                                    \n",
       "2767052           1          0          0  \n",
       "3                 1          0          0  \n",
       "2657              0          1          0  \n",
       "4671              0          1          0  \n",
       "11870085          0          0          0  "
      ]
     },
     "execution_count": 14,
     "metadata": {},
     "output_type": "execute_result"
    }
   ],
   "source": [
    "features.head()"
   ]
  },
  {
   "cell_type": "code",
   "execution_count": 15,
   "id": "65835fa6",
   "metadata": {},
   "outputs": [
    {
     "data": {
      "text/plain": [
       "Index(['avg_rating', 'ratings_count', 'cluster_0', 'cluster_1', 'cluster_2',\n",
       "       'cluster_3', 'cluster_4', 'cluster_5'],\n",
       "      dtype='object')"
      ]
     },
     "execution_count": 15,
     "metadata": {},
     "output_type": "execute_result"
    }
   ],
   "source": [
    "features.columns"
   ]
  },
  {
   "cell_type": "markdown",
   "id": "6301ab58",
   "metadata": {},
   "source": [
    "## #1 Euclidean Distance Matrix"
   ]
  },
  {
   "cell_type": "code",
   "execution_count": 16,
   "id": "11d67974",
   "metadata": {},
   "outputs": [],
   "source": [
    "from scipy.spatial.distance import cdist"
   ]
  },
  {
   "cell_type": "code",
   "execution_count": 17,
   "id": "900802db",
   "metadata": {},
   "outputs": [],
   "source": [
    "\n",
    "# Normalize the features to have zero mean and unit variance\n",
    "features_norm = features - features.mean()/ features.std()\n",
    "\n"
   ]
  },
  {
   "cell_type": "code",
   "execution_count": 18,
   "id": "9c1f701e",
   "metadata": {},
   "outputs": [
    {
     "data": {
      "text/html": [
       "<div>\n",
       "<style scoped>\n",
       "    .dataframe tbody tr th:only-of-type {\n",
       "        vertical-align: middle;\n",
       "    }\n",
       "\n",
       "    .dataframe tbody tr th {\n",
       "        vertical-align: top;\n",
       "    }\n",
       "\n",
       "    .dataframe thead th {\n",
       "        text-align: right;\n",
       "    }\n",
       "</style>\n",
       "<table border=\"1\" class=\"dataframe\">\n",
       "  <thead>\n",
       "    <tr style=\"text-align: right;\">\n",
       "      <th></th>\n",
       "      <th>avg_rating</th>\n",
       "      <th>ratings_count</th>\n",
       "      <th>cluster_0</th>\n",
       "      <th>cluster_1</th>\n",
       "      <th>cluster_2</th>\n",
       "      <th>cluster_3</th>\n",
       "      <th>cluster_4</th>\n",
       "      <th>cluster_5</th>\n",
       "    </tr>\n",
       "    <tr>\n",
       "      <th>book_id</th>\n",
       "      <th></th>\n",
       "      <th></th>\n",
       "      <th></th>\n",
       "      <th></th>\n",
       "      <th></th>\n",
       "      <th></th>\n",
       "      <th></th>\n",
       "      <th></th>\n",
       "    </tr>\n",
       "  </thead>\n",
       "  <tbody>\n",
       "    <tr>\n",
       "      <th>2767052</th>\n",
       "      <td>-11.209708</td>\n",
       "      <td>4.899965e+06</td>\n",
       "      <td>-0.509983</td>\n",
       "      <td>-0.52613</td>\n",
       "      <td>-0.419407</td>\n",
       "      <td>0.546491</td>\n",
       "      <td>-0.354902</td>\n",
       "      <td>-0.411343</td>\n",
       "    </tr>\n",
       "    <tr>\n",
       "      <th>3</th>\n",
       "      <td>-11.099708</td>\n",
       "      <td>4.765497e+06</td>\n",
       "      <td>-0.509983</td>\n",
       "      <td>-0.52613</td>\n",
       "      <td>-0.419407</td>\n",
       "      <td>0.546491</td>\n",
       "      <td>-0.354902</td>\n",
       "      <td>-0.411343</td>\n",
       "    </tr>\n",
       "    <tr>\n",
       "      <th>2657</th>\n",
       "      <td>-11.289708</td>\n",
       "      <td>3.255518e+06</td>\n",
       "      <td>-0.509983</td>\n",
       "      <td>-0.52613</td>\n",
       "      <td>-0.419407</td>\n",
       "      <td>-0.453509</td>\n",
       "      <td>0.645098</td>\n",
       "      <td>-0.411343</td>\n",
       "    </tr>\n",
       "    <tr>\n",
       "      <th>4671</th>\n",
       "      <td>-11.659708</td>\n",
       "      <td>2.758812e+06</td>\n",
       "      <td>-0.509983</td>\n",
       "      <td>-0.52613</td>\n",
       "      <td>-0.419407</td>\n",
       "      <td>-0.453509</td>\n",
       "      <td>0.645098</td>\n",
       "      <td>-0.411343</td>\n",
       "    </tr>\n",
       "    <tr>\n",
       "      <th>11870085</th>\n",
       "      <td>-11.289708</td>\n",
       "      <td>2.429317e+06</td>\n",
       "      <td>0.490017</td>\n",
       "      <td>-0.52613</td>\n",
       "      <td>-0.419407</td>\n",
       "      <td>-0.453509</td>\n",
       "      <td>-0.354902</td>\n",
       "      <td>-0.411343</td>\n",
       "    </tr>\n",
       "    <tr>\n",
       "      <th>...</th>\n",
       "      <td>...</td>\n",
       "      <td>...</td>\n",
       "      <td>...</td>\n",
       "      <td>...</td>\n",
       "      <td>...</td>\n",
       "      <td>...</td>\n",
       "      <td>...</td>\n",
       "      <td>...</td>\n",
       "    </tr>\n",
       "    <tr>\n",
       "      <th>8202</th>\n",
       "      <td>-11.359708</td>\n",
       "      <td>3.742759e+03</td>\n",
       "      <td>-0.509983</td>\n",
       "      <td>0.47387</td>\n",
       "      <td>-0.419407</td>\n",
       "      <td>-0.453509</td>\n",
       "      <td>-0.354902</td>\n",
       "      <td>-0.411343</td>\n",
       "    </tr>\n",
       "    <tr>\n",
       "      <th>2437237</th>\n",
       "      <td>-11.939708</td>\n",
       "      <td>3.742759e+03</td>\n",
       "      <td>-0.509983</td>\n",
       "      <td>-0.52613</td>\n",
       "      <td>-0.419407</td>\n",
       "      <td>0.546491</td>\n",
       "      <td>-0.354902</td>\n",
       "      <td>-0.411343</td>\n",
       "    </tr>\n",
       "    <tr>\n",
       "      <th>877693</th>\n",
       "      <td>-11.909708</td>\n",
       "      <td>3.741759e+03</td>\n",
       "      <td>-0.509983</td>\n",
       "      <td>-0.52613</td>\n",
       "      <td>0.580593</td>\n",
       "      <td>-0.453509</td>\n",
       "      <td>-0.354902</td>\n",
       "      <td>-0.411343</td>\n",
       "    </tr>\n",
       "    <tr>\n",
       "      <th>30200</th>\n",
       "      <td>-11.539708</td>\n",
       "      <td>3.741759e+03</td>\n",
       "      <td>-0.509983</td>\n",
       "      <td>-0.52613</td>\n",
       "      <td>-0.419407</td>\n",
       "      <td>-0.453509</td>\n",
       "      <td>-0.354902</td>\n",
       "      <td>0.588657</td>\n",
       "    </tr>\n",
       "    <tr>\n",
       "      <th>17315638</th>\n",
       "      <td>-11.189708</td>\n",
       "      <td>3.740759e+03</td>\n",
       "      <td>-0.509983</td>\n",
       "      <td>0.47387</td>\n",
       "      <td>-0.419407</td>\n",
       "      <td>-0.453509</td>\n",
       "      <td>-0.354902</td>\n",
       "      <td>-0.411343</td>\n",
       "    </tr>\n",
       "  </tbody>\n",
       "</table>\n",
       "<p>19907 rows × 8 columns</p>\n",
       "</div>"
      ],
      "text/plain": [
       "          avg_rating  ratings_count  cluster_0  cluster_1  cluster_2  \\\n",
       "book_id                                                                \n",
       "2767052   -11.209708   4.899965e+06  -0.509983   -0.52613  -0.419407   \n",
       "3         -11.099708   4.765497e+06  -0.509983   -0.52613  -0.419407   \n",
       "2657      -11.289708   3.255518e+06  -0.509983   -0.52613  -0.419407   \n",
       "4671      -11.659708   2.758812e+06  -0.509983   -0.52613  -0.419407   \n",
       "11870085  -11.289708   2.429317e+06   0.490017   -0.52613  -0.419407   \n",
       "...              ...            ...        ...        ...        ...   \n",
       "8202      -11.359708   3.742759e+03  -0.509983    0.47387  -0.419407   \n",
       "2437237   -11.939708   3.742759e+03  -0.509983   -0.52613  -0.419407   \n",
       "877693    -11.909708   3.741759e+03  -0.509983   -0.52613   0.580593   \n",
       "30200     -11.539708   3.741759e+03  -0.509983   -0.52613  -0.419407   \n",
       "17315638  -11.189708   3.740759e+03  -0.509983    0.47387  -0.419407   \n",
       "\n",
       "          cluster_3  cluster_4  cluster_5  \n",
       "book_id                                    \n",
       "2767052    0.546491  -0.354902  -0.411343  \n",
       "3          0.546491  -0.354902  -0.411343  \n",
       "2657      -0.453509   0.645098  -0.411343  \n",
       "4671      -0.453509   0.645098  -0.411343  \n",
       "11870085  -0.453509  -0.354902  -0.411343  \n",
       "...             ...        ...        ...  \n",
       "8202      -0.453509  -0.354902  -0.411343  \n",
       "2437237    0.546491  -0.354902  -0.411343  \n",
       "877693    -0.453509  -0.354902  -0.411343  \n",
       "30200     -0.453509  -0.354902   0.588657  \n",
       "17315638  -0.453509  -0.354902  -0.411343  \n",
       "\n",
       "[19907 rows x 8 columns]"
      ]
     },
     "execution_count": 18,
     "metadata": {},
     "output_type": "execute_result"
    }
   ],
   "source": [
    "features_norm"
   ]
  },
  {
   "cell_type": "code",
   "execution_count": 19,
   "id": "e2bd2bdc",
   "metadata": {},
   "outputs": [],
   "source": [
    "# Calculate the Euclidean distance matrix between all pairs of books\n",
    "dist_matrix = cdist(features_norm, features_norm, 'euclidean')\n",
    "\n"
   ]
  },
  {
   "cell_type": "code",
   "execution_count": 20,
   "id": "ddf28617",
   "metadata": {},
   "outputs": [
    {
     "data": {
      "text/plain": [
       "array([[0.00000000e+00, 1.34468000e+05, 1.64444700e+06, ...,\n",
       "        4.89622300e+06, 4.89622300e+06, 4.89622400e+06],\n",
       "       [1.34468000e+05, 0.00000000e+00, 1.50997900e+06, ...,\n",
       "        4.76175500e+06, 4.76175500e+06, 4.76175600e+06],\n",
       "       [1.64444700e+06, 1.50997900e+06, 0.00000000e+00, ...,\n",
       "        3.25177600e+06, 3.25177600e+06, 3.25177700e+06],\n",
       "       ...,\n",
       "       [4.89622300e+06, 4.76175500e+06, 3.25177600e+06, ...,\n",
       "        0.00000000e+00, 1.46181394e+00, 1.87573985e+00],\n",
       "       [4.89622300e+06, 4.76175500e+06, 3.25177600e+06, ...,\n",
       "        1.46181394e+00, 0.00000000e+00, 1.76705970e+00],\n",
       "       [4.89622400e+06, 4.76175600e+06, 3.25177700e+06, ...,\n",
       "        1.87573985e+00, 1.76705970e+00, 0.00000000e+00]])"
      ]
     },
     "execution_count": 20,
     "metadata": {},
     "output_type": "execute_result"
    }
   ],
   "source": [
    "dist_matrix"
   ]
  },
  {
   "cell_type": "code",
   "execution_count": 21,
   "id": "b4362cea",
   "metadata": {},
   "outputs": [],
   "source": [
    "dis_df = pd.DataFrame(dist_matrix, index = features_norm.index, columns = list(features_norm.index))"
   ]
  },
  {
   "cell_type": "code",
   "execution_count": 22,
   "id": "438d835e",
   "metadata": {},
   "outputs": [],
   "source": [
    "book_id = 11870085"
   ]
  },
  {
   "cell_type": "code",
   "execution_count": 23,
   "id": "0bd34c68",
   "metadata": {},
   "outputs": [
    {
     "data": {
      "text/html": [
       "<div>\n",
       "<style scoped>\n",
       "    .dataframe tbody tr th:only-of-type {\n",
       "        vertical-align: middle;\n",
       "    }\n",
       "\n",
       "    .dataframe tbody tr th {\n",
       "        vertical-align: top;\n",
       "    }\n",
       "\n",
       "    .dataframe thead th {\n",
       "        text-align: right;\n",
       "    }\n",
       "</style>\n",
       "<table border=\"1\" class=\"dataframe\">\n",
       "  <thead>\n",
       "    <tr style=\"text-align: right;\">\n",
       "      <th></th>\n",
       "      <th>2767052</th>\n",
       "      <th>3</th>\n",
       "      <th>2657</th>\n",
       "      <th>4671</th>\n",
       "      <th>11870085</th>\n",
       "      <th>5107</th>\n",
       "      <th>1885</th>\n",
       "      <th>960</th>\n",
       "      <th>48855</th>\n",
       "      <th>5470</th>\n",
       "      <th>...</th>\n",
       "      <th>3453791</th>\n",
       "      <th>15821658</th>\n",
       "      <th>9461095</th>\n",
       "      <th>198289</th>\n",
       "      <th>25890956</th>\n",
       "      <th>8202</th>\n",
       "      <th>2437237</th>\n",
       "      <th>877693</th>\n",
       "      <th>30200</th>\n",
       "      <th>17315638</th>\n",
       "    </tr>\n",
       "    <tr>\n",
       "      <th>book_id</th>\n",
       "      <th></th>\n",
       "      <th></th>\n",
       "      <th></th>\n",
       "      <th></th>\n",
       "      <th></th>\n",
       "      <th></th>\n",
       "      <th></th>\n",
       "      <th></th>\n",
       "      <th></th>\n",
       "      <th></th>\n",
       "      <th></th>\n",
       "      <th></th>\n",
       "      <th></th>\n",
       "      <th></th>\n",
       "      <th></th>\n",
       "      <th></th>\n",
       "      <th></th>\n",
       "      <th></th>\n",
       "      <th></th>\n",
       "      <th></th>\n",
       "      <th></th>\n",
       "    </tr>\n",
       "  </thead>\n",
       "  <tbody>\n",
       "    <tr>\n",
       "      <th>11870085</th>\n",
       "      <td>2470648.0</td>\n",
       "      <td>2336180.0</td>\n",
       "      <td>826201.000001</td>\n",
       "      <td>329495.000003</td>\n",
       "      <td>0.0</td>\n",
       "      <td>342372.000003</td>\n",
       "      <td>350911.000003</td>\n",
       "      <td>382818.000003</td>\n",
       "      <td>401018.0</td>\n",
       "      <td>405380.000002</td>\n",
       "      <td>...</td>\n",
       "      <td>2.425573e+06</td>\n",
       "      <td>2425574.0</td>\n",
       "      <td>2425574.0</td>\n",
       "      <td>2425574.0</td>\n",
       "      <td>2425574.0</td>\n",
       "      <td>2425574.0</td>\n",
       "      <td>2425574.0</td>\n",
       "      <td>2425575.0</td>\n",
       "      <td>2425575.0</td>\n",
       "      <td>2425576.0</td>\n",
       "    </tr>\n",
       "  </tbody>\n",
       "</table>\n",
       "<p>1 rows × 19907 columns</p>\n",
       "</div>"
      ],
      "text/plain": [
       "           2767052    3              2657           4671      11870085  \\\n",
       "book_id                                                                  \n",
       "11870085  2470648.0  2336180.0  826201.000001  329495.000003       0.0   \n",
       "\n",
       "               5107           1885           960       48855     \\\n",
       "book_id                                                           \n",
       "11870085  342372.000003  350911.000003  382818.000003  401018.0   \n",
       "\n",
       "               5470      ...      3453791    15821658   9461095    198289    \\\n",
       "book_id                  ...                                                  \n",
       "11870085  405380.000002  ...  2.425573e+06  2425574.0  2425574.0  2425574.0   \n",
       "\n",
       "           25890956   8202       2437237    877693     30200      17315638  \n",
       "book_id                                                                     \n",
       "11870085  2425574.0  2425574.0  2425574.0  2425575.0  2425575.0  2425576.0  \n",
       "\n",
       "[1 rows x 19907 columns]"
      ]
     },
     "execution_count": 23,
     "metadata": {},
     "output_type": "execute_result"
    }
   ],
   "source": [
    "dis_df[dis_df.index == book_id]"
   ]
  },
  {
   "cell_type": "code",
   "execution_count": 24,
   "id": "31ef463b",
   "metadata": {},
   "outputs": [
    {
     "data": {
      "text/plain": [
       "book_id\n",
       "2767052     2.470648e+06\n",
       "3           2.336180e+06\n",
       "2657        8.262010e+05\n",
       "4671        3.294950e+05\n",
       "11870085    0.000000e+00\n",
       "                ...     \n",
       "8202        2.425574e+06\n",
       "2437237     2.425574e+06\n",
       "877693      2.425575e+06\n",
       "30200       2.425575e+06\n",
       "17315638    2.425576e+06\n",
       "Name: 11870085, Length: 19907, dtype: float64"
      ]
     },
     "execution_count": 24,
     "metadata": {},
     "output_type": "execute_result"
    }
   ],
   "source": [
    "dis_df[book_id]"
   ]
  },
  {
   "cell_type": "code",
   "execution_count": 25,
   "id": "ca99a2a3",
   "metadata": {},
   "outputs": [
    {
     "data": {
      "text/plain": [
       "book_id\n",
       "11870085    0.000000e+00\n",
       "4671        3.294950e+05\n",
       "5107        3.423720e+05\n",
       "1885        3.509110e+05\n",
       "960         3.828180e+05\n",
       "                ...     \n",
       "2437237     2.425574e+06\n",
       "30200       2.425575e+06\n",
       "877693      2.425575e+06\n",
       "17315638    2.425576e+06\n",
       "2767052     2.470648e+06\n",
       "Name: 11870085, Length: 19907, dtype: float64"
      ]
     },
     "execution_count": 25,
     "metadata": {},
     "output_type": "execute_result"
    }
   ],
   "source": [
    "dis_df[book_id].sort_values(ascending = True)"
   ]
  },
  {
   "cell_type": "code",
   "execution_count": 26,
   "id": "883b650d",
   "metadata": {},
   "outputs": [
    {
     "data": {
      "text/plain": [
       "book_id\n",
       "11870085         0.000000\n",
       "4671        329495.000003\n",
       "5107        342372.000003\n",
       "1885        350911.000003\n",
       "960         382818.000003\n",
       "48855       401018.000000\n",
       "5470        405380.000002\n",
       "13335037    466504.000002\n",
       "7613        500386.000002\n",
       "5           553065.000002\n",
       "Name: 11870085, dtype: float64"
      ]
     },
     "execution_count": 26,
     "metadata": {},
     "output_type": "execute_result"
    }
   ],
   "source": [
    "dis_df[book_id].sort_values(ascending = True).head(10)"
   ]
  },
  {
   "cell_type": "code",
   "execution_count": 27,
   "id": "aebc9dde",
   "metadata": {},
   "outputs": [],
   "source": [
    "similar_books = dis_df[book_id].sort_values(ascending = True).head(10).index.to_list()[1:]"
   ]
  },
  {
   "cell_type": "code",
   "execution_count": 28,
   "id": "eaff370c",
   "metadata": {},
   "outputs": [],
   "source": [
    "similar_titles =[]\n",
    "for i in similar_books:\n",
    "    similar_titles.append(df.loc[df['book_id']== i, 'title'].values[0])\n",
    "    "
   ]
  },
  {
   "cell_type": "code",
   "execution_count": 29,
   "id": "0dd40be2",
   "metadata": {},
   "outputs": [
    {
     "data": {
      "text/plain": [
       "['The Great Gatsby',\n",
       " 'The Catcher in the Rye',\n",
       " 'Pride and Prejudice',\n",
       " 'Angels & Demons  (Robert Langdon, #1)',\n",
       " 'The Diary of a Young Girl',\n",
       " '1984',\n",
       " 'Divergent (Divergent, #1)',\n",
       " 'Animal Farm',\n",
       " 'Harry Potter and the Prisoner of Azkaban (Harry Potter, #3)']"
      ]
     },
     "execution_count": 29,
     "metadata": {},
     "output_type": "execute_result"
    }
   ],
   "source": [
    "similar_titles"
   ]
  },
  {
   "cell_type": "markdown",
   "id": "36f732ac",
   "metadata": {},
   "source": [
    "## #2 Cosine Similarity "
   ]
  },
  {
   "cell_type": "code",
   "execution_count": 55,
   "id": "1440983e",
   "metadata": {},
   "outputs": [
    {
     "name": "stdout",
     "output_type": "stream",
     "text": [
      "['The Great Gatsby', 'The Diary of a Young Girl', 'Pride and Prejudice', 'The Catcher in the Rye', '1984', 'Angels & Demons  (Robert Langdon, #1)', 'To Kill a Mockingbird', 'Divergent (Divergent, #1)', 'Harry Potter and the Prisoner of Azkaban (Harry Potter, #3)', 'Catching Fire (The Hunger Games, #2)']\n"
     ]
    }
   ],
   "source": [
    "\n",
    "from sklearn.metrics.pairwise import cosine_similarity\n",
    "\n",
    "# Calculate cosine similarity matrix\n",
    "cos_sim_matrix = cosine_similarity(features_norm)\n",
    "\n",
    "# Choose a target book ID\n",
    "target_book_id = 11870085\n",
    "\n",
    "# Get the row index for the target book in the cosine similarity matrix\n",
    "target_book_idx = df.index[df['book_id'] == target_book_id][0]\n",
    "\n",
    "# Get the cosine similarity scores for the target book\n",
    "sim_scores = list(enumerate(cos_sim_matrix[target_book_idx]))\n",
    "\n",
    "# Sort the scores in descending order\n",
    "sim_scores = sorted(sim_scores, key=lambda x: x[1], reverse=True)\n",
    "\n",
    "# Get the top 10 most similar books (excluding the target book)\n",
    "top_similar_books = []\n",
    "for i in range(1, 11):\n",
    "    book_idx = sim_scores[i][0]\n",
    "    book_title = df.loc[df.index == book_idx, 'title'].values[0]\n",
    "    top_similar_books.append(book_title)\n",
    "\n",
    "# Print the top similar books\n",
    "print(top_similar_books)\n"
   ]
  },
  {
   "cell_type": "markdown",
   "id": "db43615e",
   "metadata": {},
   "source": [
    "## #3 Manhattan Distance"
   ]
  },
  {
   "cell_type": "code",
   "execution_count": 46,
   "id": "735213e4",
   "metadata": {},
   "outputs": [],
   "source": [
    "from sklearn.metrics.pairwise import pairwise_distances\n",
    "# Compute pairwise Manhattan distances between books in the same cluster\n",
    "manhattan_dists = pairwise_distances(features_norm, metric='manhattan')\n",
    "\n",
    "manhattan_df = pd.DataFrame(manhattan_dists, index = features_norm.index, columns = list(features_norm.index))\n",
    "\n",
    "\n",
    "book_id = 11870085\n",
    "\n",
    "manhattan_df[manhattan_df.index == book_id]\n",
    "manhattan_df[book_id].sort_values(ascending = True)\n",
    "manhattan_df[book_id].sort_values(ascending = True).head(10)\n",
    "\n",
    "similar_books = manhattan_df[book_id].sort_values(ascending = True).head(10).index.to_list()[1:]\n",
    "c =[]\n",
    "for i in similar_books:\n",
    "    similar_titles.append(df.loc[df['book_id']== i, 'title'].values[0])"
   ]
  },
  {
   "cell_type": "code",
   "execution_count": 47,
   "id": "0322aff5",
   "metadata": {},
   "outputs": [
    {
     "data": {
      "text/plain": [
       "['The Great Gatsby',\n",
       " 'The Catcher in the Rye',\n",
       " 'Pride and Prejudice',\n",
       " 'Angels & Demons  (Robert Langdon, #1)',\n",
       " 'The Diary of a Young Girl',\n",
       " '1984',\n",
       " 'Divergent (Divergent, #1)',\n",
       " 'Animal Farm',\n",
       " 'Harry Potter and the Prisoner of Azkaban (Harry Potter, #3)']"
      ]
     },
     "execution_count": 47,
     "metadata": {},
     "output_type": "execute_result"
    }
   ],
   "source": [
    "similar_titles =[]\n",
    "for i in similar_books:\n",
    "    similar_titles.append(df.loc[df['book_id']== i, 'title'].values[0])\n",
    "similar_titles"
   ]
  },
  {
   "cell_type": "markdown",
   "id": "37c663d2",
   "metadata": {},
   "source": [
    "## #3 K Nearest Neighbors"
   ]
  },
  {
   "cell_type": "code",
   "execution_count": 51,
   "id": "fad494d1",
   "metadata": {},
   "outputs": [
    {
     "data": {
      "text/plain": [
       "NearestNeighbors(metric='euclidean')"
      ]
     },
     "execution_count": 51,
     "metadata": {},
     "output_type": "execute_result"
    }
   ],
   "source": [
    "knn = NearestNeighbors(metric='euclidean')\n",
    "\n",
    "knn.fit(features_norm)\n"
   ]
  },
  {
   "cell_type": "code",
   "execution_count": 54,
   "id": "f7369d83",
   "metadata": {},
   "outputs": [
    {
     "data": {
      "text/plain": [
       "['The Great Gatsby',\n",
       " 'The Catcher in the Rye',\n",
       " 'Pride and Prejudice',\n",
       " 'Angels & Demons  (Robert Langdon, #1)',\n",
       " 'The Diary of a Young Girl',\n",
       " '1984',\n",
       " 'Divergent (Divergent, #1)',\n",
       " 'Animal Farm',\n",
       " 'Harry Potter and the Prisoner of Azkaban (Harry Potter, #3)']"
      ]
     },
     "execution_count": 54,
     "metadata": {},
     "output_type": "execute_result"
    }
   ],
   "source": [
    "from sklearn.neighbors import NearestNeighbors\n",
    "from sklearn.metrics.pairwise import pairwise_distances\n",
    "\n",
    "\n",
    "# Instantiate the KNN model\n",
    "knn = NearestNeighbors(metric='euclidean')\n",
    "\n",
    "\n",
    "\n",
    "# Fit the KNN model on the normalized features\n",
    "knn.fit(features_norm)\n",
    "\n",
    "# Construct the pairwise distance matrix\n",
    "distances = pairwise_distances(features_norm, metric='manhattan')\n",
    "knn_df = pd.DataFrame(distances, index=features_norm.index, columns=features_norm.index)\n",
    "\n",
    "book_id = 11870085\n",
    "\n",
    "# Get the top 10 most similar books\n",
    "similar_books = knn_df[book_id].sort_values(ascending=True).head(10).index.to_list()[1:]\n",
    "\n",
    "# Get the titles of the similar books\n",
    "similar_titles = []\n",
    "for i in similar_books:\n",
    "    similar_titles.append(df.loc[df['book_id']==i, 'title'].values[0])\n",
    "    \n",
    "similar_titles"
   ]
  },
  {
   "cell_type": "code",
   "execution_count": null,
   "id": "b602d237",
   "metadata": {},
   "outputs": [],
   "source": []
  }
 ],
 "metadata": {
  "kernelspec": {
   "display_name": "Python 3 (ipykernel)",
   "language": "python",
   "name": "python3"
  },
  "language_info": {
   "codemirror_mode": {
    "name": "ipython",
    "version": 3
   },
   "file_extension": ".py",
   "mimetype": "text/x-python",
   "name": "python",
   "nbconvert_exporter": "python",
   "pygments_lexer": "ipython3",
   "version": "3.9.12"
  }
 },
 "nbformat": 4,
 "nbformat_minor": 5
}
