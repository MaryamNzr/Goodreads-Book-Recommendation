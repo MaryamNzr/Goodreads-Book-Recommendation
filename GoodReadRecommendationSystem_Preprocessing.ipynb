{
 "cells": [
  {
   "cell_type": "code",
   "execution_count": 1,
   "id": "d2afee0c",
   "metadata": {},
   "outputs": [],
   "source": [
    "import numpy as np\n",
    "import pandas as pd\n",
    "import os\n",
    "import glob\n",
    "import json\n"
   ]
  },
  {
   "cell_type": "markdown",
   "id": "db98144b",
   "metadata": {},
   "source": [
    "## Data Science Problem\n",
    "Goodreads is a popular online platform where readers can discover new books, read reviews, and connect with other readers. However, with millions of books available on the platform, it can be overwhelming for users to find books that match their preferences. In this project, we aim to build a recommendation system for Goodreads users that suggests books based on their reading history, preferences, and ratings. Our goal is to provide a personalized and intuitive experience for users, helping them discover new books that they are likely to enjoy. Using supervised learning and NLP techniques, we will build a model that can predict the likelihood of a user liking a book based on features such as book title, author, genre, description, user reviews, and book ratings. The model will be trained on a subset of the Goodreads dataset and evaluated based on accuracy, precision, recall, and F1-score. The final output will be a recommendation engine that suggests books to users based on their input and history on the platform.\n",
    "\n",
    "Data Extracted from UCSD Goodreads data: https://sites.google.com/eng.ucsd.edu/ucsdbookgraph/home\n"
   ]
  },
  {
   "cell_type": "markdown",
   "id": "cfa3fd01",
   "metadata": {},
   "source": [
    "## Objectives\n",
    "\n",
    "In the preprocessing step, we aim to clean and transform the raw data into a format that is suitable for machine learning models. \n",
    "Here are some of the questions we aim to answer during the preprocessing step in this notebook:\n",
    "\n",
    "Data Cleaning:\n",
    "Are there any missing values in the dataset?\n",
    "Are there any duplicate entries in the dataset?\n",
    "Are there any irrelevant features in the dataset that can be removed?\n",
    "Are there any inconsistencies in the data that need to be corrected?\n",
    "\n",
    "Data Transformation:\n",
    "How can we extract relevant features from the dataset, such as book title, author, genre, description, user reviews, and book ratings?\n",
    "How can we preprocess the text data to make it suitable for machine learning models, such as tokenization, removing stop words, stemming, and lemmatization?\n",
    "How can we convert the text data into numerical features that can be used in machine learning models, such as TF-IDF, Bag of Words, or Word2Vec?\n",
    "\n",
    "Exploratory Data Analysis:\n",
    "What is the distribution of ratings in the dataset?\n",
    "What are the most popular genres and authors in the dataset?\n",
    "Are there any correlations between different features in the dataset?\n",
    "\n",
    "Data Preparation:\n",
    "How can we split the dataset into training and testing sets?\n",
    "How can we balance the dataset to handle class imbalance?\n",
    "How can we encode categorical variables into numerical variables?\n",
    "\n",
    "Answering these questions during the preprocessing step is crucial in building an accurate and robust recommendation system that can provide personalized recommendations to Goodreads users.|"
   ]
  },
  {
   "cell_type": "code",
   "execution_count": 2,
   "id": "bacd7cca",
   "metadata": {},
   "outputs": [],
   "source": [
    "# Create dataframe\n",
    "df = pd.read_csv('df_cleaned_highRatingCount.csv',on_bad_lines = 'skip')\n"
   ]
  },
  {
   "cell_type": "code",
   "execution_count": 3,
   "id": "7dae2349",
   "metadata": {},
   "outputs": [
    {
     "data": {
      "text/plain": [
       "(20000, 13)"
      ]
     },
     "execution_count": 3,
     "metadata": {},
     "output_type": "execute_result"
    }
   ],
   "source": [
    "df.head()\n",
    "df.shape"
   ]
  },
  {
   "cell_type": "code",
   "execution_count": 4,
   "id": "d4f5796f",
   "metadata": {},
   "outputs": [
    {
     "name": "stdout",
     "output_type": "stream",
     "text": [
      "<class 'pandas.core.frame.DataFrame'>\n",
      "RangeIndex: 20000 entries, 0 to 19999\n",
      "Data columns (total 13 columns):\n",
      " #   Column         Non-Null Count  Dtype  \n",
      "---  ------         --------------  -----  \n",
      " 0   book_id        20000 non-null  int64  \n",
      " 1   author_id      20000 non-null  int64  \n",
      " 2   authors        20000 non-null  object \n",
      " 3   title          20000 non-null  object \n",
      " 4   description    20000 non-null  object \n",
      " 5   publisher      20000 non-null  object \n",
      " 6   genres         20000 non-null  object \n",
      " 7   avg_rating     20000 non-null  float64\n",
      " 8   ratings_count  20000 non-null  int64  \n",
      " 9   num_pages      20000 non-null  int64  \n",
      " 10  pub_year       20000 non-null  float64\n",
      " 11  similar_books  20000 non-null  object \n",
      " 12  url            20000 non-null  object \n",
      "dtypes: float64(2), int64(4), object(7)\n",
      "memory usage: 2.0+ MB\n"
     ]
    }
   ],
   "source": [
    "df.info()"
   ]
  },
  {
   "cell_type": "markdown",
   "id": "a220fe59",
   "metadata": {},
   "source": [
    "## Number Of Missing Values By Column¶"
   ]
  },
  {
   "cell_type": "code",
   "execution_count": 5,
   "id": "64d5e701",
   "metadata": {},
   "outputs": [
    {
     "data": {
      "text/html": [
       "<div>\n",
       "<style scoped>\n",
       "    .dataframe tbody tr th:only-of-type {\n",
       "        vertical-align: middle;\n",
       "    }\n",
       "\n",
       "    .dataframe tbody tr th {\n",
       "        vertical-align: top;\n",
       "    }\n",
       "\n",
       "    .dataframe thead th {\n",
       "        text-align: right;\n",
       "    }\n",
       "</style>\n",
       "<table border=\"1\" class=\"dataframe\">\n",
       "  <thead>\n",
       "    <tr style=\"text-align: right;\">\n",
       "      <th></th>\n",
       "      <th>count</th>\n",
       "      <th>%</th>\n",
       "    </tr>\n",
       "  </thead>\n",
       "  <tbody>\n",
       "    <tr>\n",
       "      <th>book_id</th>\n",
       "      <td>0</td>\n",
       "      <td>0.0</td>\n",
       "    </tr>\n",
       "    <tr>\n",
       "      <th>author_id</th>\n",
       "      <td>0</td>\n",
       "      <td>0.0</td>\n",
       "    </tr>\n",
       "    <tr>\n",
       "      <th>authors</th>\n",
       "      <td>0</td>\n",
       "      <td>0.0</td>\n",
       "    </tr>\n",
       "    <tr>\n",
       "      <th>title</th>\n",
       "      <td>0</td>\n",
       "      <td>0.0</td>\n",
       "    </tr>\n",
       "    <tr>\n",
       "      <th>description</th>\n",
       "      <td>0</td>\n",
       "      <td>0.0</td>\n",
       "    </tr>\n",
       "    <tr>\n",
       "      <th>publisher</th>\n",
       "      <td>0</td>\n",
       "      <td>0.0</td>\n",
       "    </tr>\n",
       "    <tr>\n",
       "      <th>genres</th>\n",
       "      <td>0</td>\n",
       "      <td>0.0</td>\n",
       "    </tr>\n",
       "    <tr>\n",
       "      <th>avg_rating</th>\n",
       "      <td>0</td>\n",
       "      <td>0.0</td>\n",
       "    </tr>\n",
       "    <tr>\n",
       "      <th>ratings_count</th>\n",
       "      <td>0</td>\n",
       "      <td>0.0</td>\n",
       "    </tr>\n",
       "    <tr>\n",
       "      <th>num_pages</th>\n",
       "      <td>0</td>\n",
       "      <td>0.0</td>\n",
       "    </tr>\n",
       "    <tr>\n",
       "      <th>pub_year</th>\n",
       "      <td>0</td>\n",
       "      <td>0.0</td>\n",
       "    </tr>\n",
       "    <tr>\n",
       "      <th>similar_books</th>\n",
       "      <td>0</td>\n",
       "      <td>0.0</td>\n",
       "    </tr>\n",
       "    <tr>\n",
       "      <th>url</th>\n",
       "      <td>0</td>\n",
       "      <td>0.0</td>\n",
       "    </tr>\n",
       "  </tbody>\n",
       "</table>\n",
       "</div>"
      ],
      "text/plain": [
       "               count    %\n",
       "book_id            0  0.0\n",
       "author_id          0  0.0\n",
       "authors            0  0.0\n",
       "title              0  0.0\n",
       "description        0  0.0\n",
       "publisher          0  0.0\n",
       "genres             0  0.0\n",
       "avg_rating         0  0.0\n",
       "ratings_count      0  0.0\n",
       "num_pages          0  0.0\n",
       "pub_year           0  0.0\n",
       "similar_books      0  0.0\n",
       "url                0  0.0"
      ]
     },
     "execution_count": 5,
     "metadata": {},
     "output_type": "execute_result"
    }
   ],
   "source": [
    "missing = pd.concat([df.isna().sum(), 100* df.isna().mean()], axis = 1)\n",
    "missing.columns = ['count','%']\n",
    "missing.sort_values(by = 'count')"
   ]
  },
  {
   "cell_type": "code",
   "execution_count": 6,
   "id": "1c44d4a3",
   "metadata": {},
   "outputs": [
    {
     "data": {
      "text/plain": [
       "book_id          0\n",
       "author_id        0\n",
       "authors          0\n",
       "title            0\n",
       "description      0\n",
       "publisher        0\n",
       "genres           0\n",
       "avg_rating       0\n",
       "ratings_count    0\n",
       "num_pages        0\n",
       "pub_year         0\n",
       "similar_books    0\n",
       "url              0\n",
       "dtype: int64"
      ]
     },
     "execution_count": 6,
     "metadata": {},
     "output_type": "execute_result"
    }
   ],
   "source": [
    "df.isnull().sum()"
   ]
  },
  {
   "cell_type": "markdown",
   "id": "d386ead4",
   "metadata": {},
   "source": [
    "## Categorical Features"
   ]
  },
  {
   "cell_type": "code",
   "execution_count": 7,
   "id": "f003dbb5",
   "metadata": {},
   "outputs": [
    {
     "data": {
      "text/html": [
       "<div>\n",
       "<style scoped>\n",
       "    .dataframe tbody tr th:only-of-type {\n",
       "        vertical-align: middle;\n",
       "    }\n",
       "\n",
       "    .dataframe tbody tr th {\n",
       "        vertical-align: top;\n",
       "    }\n",
       "\n",
       "    .dataframe thead th {\n",
       "        text-align: right;\n",
       "    }\n",
       "</style>\n",
       "<table border=\"1\" class=\"dataframe\">\n",
       "  <thead>\n",
       "    <tr style=\"text-align: right;\">\n",
       "      <th></th>\n",
       "      <th>authors</th>\n",
       "      <th>title</th>\n",
       "      <th>description</th>\n",
       "      <th>publisher</th>\n",
       "      <th>genres</th>\n",
       "      <th>similar_books</th>\n",
       "      <th>url</th>\n",
       "    </tr>\n",
       "  </thead>\n",
       "  <tbody>\n",
       "    <tr>\n",
       "      <th>0</th>\n",
       "      <td>Suzanne Collins</td>\n",
       "      <td>The Hunger Games (The Hunger Games, #1)</td>\n",
       "      <td>Winning will make you famous.\\nLosing means ce...</td>\n",
       "      <td>Scholastic Press</td>\n",
       "      <td>['favorites', 'currently-reading', 'to-read', ...</td>\n",
       "      <td>['1902241', '146499', '954674', '9917938', '10...</td>\n",
       "      <td>https://www.goodreads.com/book/show/2767052-th...</td>\n",
       "    </tr>\n",
       "    <tr>\n",
       "      <th>1</th>\n",
       "      <td>J.K. Rowling</td>\n",
       "      <td>Harry Potter and the Sorcerer's Stone (Harry P...</td>\n",
       "      <td>Harry Potter's life is miserable. His parents ...</td>\n",
       "      <td>Scholastic Inc</td>\n",
       "      <td>['to-read', 'favorites', 'fantasy', 'young-adu...</td>\n",
       "      <td>['13830', '127586', '121822', '37586', '616435...</td>\n",
       "      <td>https://www.goodreads.com/book/show/3.Harry_Po...</td>\n",
       "    </tr>\n",
       "    <tr>\n",
       "      <th>2</th>\n",
       "      <td>Harper Lee</td>\n",
       "      <td>To Kill a Mockingbird</td>\n",
       "      <td>The unforgettable novel of a childhood in a sl...</td>\n",
       "      <td>Harper Perennial Modern Classics</td>\n",
       "      <td>['to-read', 'favorites', 'classics', 'classic'...</td>\n",
       "      <td>['1934', '2156', '15638', '53835', '77142', '5...</td>\n",
       "      <td>https://www.goodreads.com/book/show/2657.To_Ki...</td>\n",
       "    </tr>\n",
       "    <tr>\n",
       "      <th>3</th>\n",
       "      <td>F. Scott Fitzgerald</td>\n",
       "      <td>The Great Gatsby</td>\n",
       "      <td>THE GREAT GATSBY, F. Scott Fitzgerald's third ...</td>\n",
       "      <td>Scribner</td>\n",
       "      <td>['to-read', 'classics', 'favorites', 'fiction'...</td>\n",
       "      <td>['48203', '337113', '176972', '188087', '10956...</td>\n",
       "      <td>https://www.goodreads.com/book/show/4671.The_G...</td>\n",
       "    </tr>\n",
       "    <tr>\n",
       "      <th>4</th>\n",
       "      <td>John Green</td>\n",
       "      <td>The Fault in Our Stars</td>\n",
       "      <td>There is an alternate cover edition \u0001.\\n\"I fel...</td>\n",
       "      <td>Dutton Books</td>\n",
       "      <td>['to-read', 'favorites', 'young-adult', 'ficti...</td>\n",
       "      <td>['10051706', '11418182', '10327303', '9627755'...</td>\n",
       "      <td>https://www.goodreads.com/book/show/11870085-t...</td>\n",
       "    </tr>\n",
       "    <tr>\n",
       "      <th>...</th>\n",
       "      <td>...</td>\n",
       "      <td>...</td>\n",
       "      <td>...</td>\n",
       "      <td>...</td>\n",
       "      <td>...</td>\n",
       "      <td>...</td>\n",
       "      <td>...</td>\n",
       "    </tr>\n",
       "    <tr>\n",
       "      <th>19995</th>\n",
       "      <td>William Anderson</td>\n",
       "      <td>Laura Ingalls Wilder: A Biography</td>\n",
       "      <td>From her pioneer days on the prairie to her go...</td>\n",
       "      <td>HarperCollins</td>\n",
       "      <td>['to-read', 'biography', 'non-fiction', 'nonfi...</td>\n",
       "      <td>['8221', '1075370', '8220', '8244', '8200', '1...</td>\n",
       "      <td>https://www.goodreads.com/book/show/8202.Laura...</td>\n",
       "    </tr>\n",
       "    <tr>\n",
       "      <th>19996</th>\n",
       "      <td>Henry James</td>\n",
       "      <td>The Turn of the Screw and Other Stories</td>\n",
       "      <td>A young, inexperienced governess is charged wi...</td>\n",
       "      <td>Oxford University Press</td>\n",
       "      <td>['to-read', 'classics', 'fiction', 'short-stor...</td>\n",
       "      <td>['472', '370160', '933716', '386125', '1612142...</td>\n",
       "      <td>https://www.goodreads.com/book/show/2437237.Th...</td>\n",
       "    </tr>\n",
       "    <tr>\n",
       "      <th>19997</th>\n",
       "      <td>Jose Zorrilla</td>\n",
       "      <td>Don Juan Tenorio</td>\n",
       "      <td>Don Juan Tenorio, el drama romantico por excel...</td>\n",
       "      <td>Catedra</td>\n",
       "      <td>['classics', 'teatro', 'spanish', 'to-read', '...</td>\n",
       "      <td>['63627', '1639333', '144611', '264384', '2153...</td>\n",
       "      <td>https://www.goodreads.com/book/show/877693.Don...</td>\n",
       "    </tr>\n",
       "    <tr>\n",
       "      <th>19998</th>\n",
       "      <td>P.C. Cast</td>\n",
       "      <td>Elphame's Choice (Partholon, #4)</td>\n",
       "      <td>This follow-up to Goddess by Mistake returns t...</td>\n",
       "      <td>Luna Books</td>\n",
       "      <td>['to-read', 'fantasy', 'romance', 'owned', 'cu...</td>\n",
       "      <td>['74491', '672827', '710595', '2344218', '3141...</td>\n",
       "      <td>https://www.goodreads.com/book/show/30200.Elph...</td>\n",
       "    </tr>\n",
       "    <tr>\n",
       "      <th>19999</th>\n",
       "      <td>Elizabeth   Hunter</td>\n",
       "      <td>Blood and Sand (Elemental World, #2)</td>\n",
       "      <td>Alternate cover for this ASIN can be found \u0001\\n...</td>\n",
       "      <td>E. Hunter</td>\n",
       "      <td>['to-read', 'currently-reading', 'paranormal',...</td>\n",
       "      <td>['17907415', '15757065', '12729465', '6115281'...</td>\n",
       "      <td>https://www.goodreads.com/book/show/17315638-b...</td>\n",
       "    </tr>\n",
       "  </tbody>\n",
       "</table>\n",
       "<p>20000 rows × 7 columns</p>\n",
       "</div>"
      ],
      "text/plain": [
       "                   authors                                              title  \\\n",
       "0          Suzanne Collins            The Hunger Games (The Hunger Games, #1)   \n",
       "1             J.K. Rowling  Harry Potter and the Sorcerer's Stone (Harry P...   \n",
       "2               Harper Lee                              To Kill a Mockingbird   \n",
       "3      F. Scott Fitzgerald                                   The Great Gatsby   \n",
       "4               John Green                             The Fault in Our Stars   \n",
       "...                    ...                                                ...   \n",
       "19995     William Anderson                  Laura Ingalls Wilder: A Biography   \n",
       "19996          Henry James            The Turn of the Screw and Other Stories   \n",
       "19997        Jose Zorrilla                                   Don Juan Tenorio   \n",
       "19998            P.C. Cast                   Elphame's Choice (Partholon, #4)   \n",
       "19999   Elizabeth   Hunter               Blood and Sand (Elemental World, #2)   \n",
       "\n",
       "                                             description  \\\n",
       "0      Winning will make you famous.\\nLosing means ce...   \n",
       "1      Harry Potter's life is miserable. His parents ...   \n",
       "2      The unforgettable novel of a childhood in a sl...   \n",
       "3      THE GREAT GATSBY, F. Scott Fitzgerald's third ...   \n",
       "4      There is an alternate cover edition \u0001.\\n\"I fel...   \n",
       "...                                                  ...   \n",
       "19995  From her pioneer days on the prairie to her go...   \n",
       "19996  A young, inexperienced governess is charged wi...   \n",
       "19997  Don Juan Tenorio, el drama romantico por excel...   \n",
       "19998  This follow-up to Goddess by Mistake returns t...   \n",
       "19999  Alternate cover for this ASIN can be found \u0001\\n...   \n",
       "\n",
       "                              publisher  \\\n",
       "0                      Scholastic Press   \n",
       "1                        Scholastic Inc   \n",
       "2      Harper Perennial Modern Classics   \n",
       "3                              Scribner   \n",
       "4                          Dutton Books   \n",
       "...                                 ...   \n",
       "19995                     HarperCollins   \n",
       "19996           Oxford University Press   \n",
       "19997                           Catedra   \n",
       "19998                        Luna Books   \n",
       "19999                         E. Hunter   \n",
       "\n",
       "                                                  genres  \\\n",
       "0      ['favorites', 'currently-reading', 'to-read', ...   \n",
       "1      ['to-read', 'favorites', 'fantasy', 'young-adu...   \n",
       "2      ['to-read', 'favorites', 'classics', 'classic'...   \n",
       "3      ['to-read', 'classics', 'favorites', 'fiction'...   \n",
       "4      ['to-read', 'favorites', 'young-adult', 'ficti...   \n",
       "...                                                  ...   \n",
       "19995  ['to-read', 'biography', 'non-fiction', 'nonfi...   \n",
       "19996  ['to-read', 'classics', 'fiction', 'short-stor...   \n",
       "19997  ['classics', 'teatro', 'spanish', 'to-read', '...   \n",
       "19998  ['to-read', 'fantasy', 'romance', 'owned', 'cu...   \n",
       "19999  ['to-read', 'currently-reading', 'paranormal',...   \n",
       "\n",
       "                                           similar_books  \\\n",
       "0      ['1902241', '146499', '954674', '9917938', '10...   \n",
       "1      ['13830', '127586', '121822', '37586', '616435...   \n",
       "2      ['1934', '2156', '15638', '53835', '77142', '5...   \n",
       "3      ['48203', '337113', '176972', '188087', '10956...   \n",
       "4      ['10051706', '11418182', '10327303', '9627755'...   \n",
       "...                                                  ...   \n",
       "19995  ['8221', '1075370', '8220', '8244', '8200', '1...   \n",
       "19996  ['472', '370160', '933716', '386125', '1612142...   \n",
       "19997  ['63627', '1639333', '144611', '264384', '2153...   \n",
       "19998  ['74491', '672827', '710595', '2344218', '3141...   \n",
       "19999  ['17907415', '15757065', '12729465', '6115281'...   \n",
       "\n",
       "                                                     url  \n",
       "0      https://www.goodreads.com/book/show/2767052-th...  \n",
       "1      https://www.goodreads.com/book/show/3.Harry_Po...  \n",
       "2      https://www.goodreads.com/book/show/2657.To_Ki...  \n",
       "3      https://www.goodreads.com/book/show/4671.The_G...  \n",
       "4      https://www.goodreads.com/book/show/11870085-t...  \n",
       "...                                                  ...  \n",
       "19995  https://www.goodreads.com/book/show/8202.Laura...  \n",
       "19996  https://www.goodreads.com/book/show/2437237.Th...  \n",
       "19997  https://www.goodreads.com/book/show/877693.Don...  \n",
       "19998  https://www.goodreads.com/book/show/30200.Elph...  \n",
       "19999  https://www.goodreads.com/book/show/17315638-b...  \n",
       "\n",
       "[20000 rows x 7 columns]"
      ]
     },
     "execution_count": 7,
     "metadata": {},
     "output_type": "execute_result"
    }
   ],
   "source": [
    "df.select_dtypes('object')"
   ]
  },
  {
   "cell_type": "code",
   "execution_count": 8,
   "id": "8d194689",
   "metadata": {},
   "outputs": [
    {
     "data": {
      "text/plain": [
       "20000"
      ]
     },
     "execution_count": 8,
     "metadata": {},
     "output_type": "execute_result"
    }
   ],
   "source": [
    "df['book_id'].value_counts().sum()"
   ]
  },
  {
   "cell_type": "code",
   "execution_count": 9,
   "id": "f91f2457",
   "metadata": {},
   "outputs": [
    {
     "data": {
      "text/plain": [
       "James Patterson    110\n",
       "Nora Roberts        87\n",
       "Agatha Christie     78\n",
       "Stephen King        77\n",
       "Terry Pratchett     62\n",
       "Name: authors, dtype: int64"
      ]
     },
     "execution_count": 9,
     "metadata": {},
     "output_type": "execute_result"
    }
   ],
   "source": [
    "df['authors'].value_counts().head()"
   ]
  },
  {
   "cell_type": "code",
   "execution_count": 10,
   "id": "ac914fb6",
   "metadata": {},
   "outputs": [
    {
     "data": {
      "text/plain": [
       "Selected Poems          6\n",
       "The Complete Poems      5\n",
       "The Collected Poems     5\n",
       "Collected Poems         4\n",
       "Beauty and the Beast    4\n",
       "Name: title, dtype: int64"
      ]
     },
     "execution_count": 10,
     "metadata": {},
     "output_type": "execute_result"
    }
   ],
   "source": [
    "df['title'].value_counts().head()"
   ]
  },
  {
   "cell_type": "code",
   "execution_count": 11,
   "id": "2e49a791",
   "metadata": {},
   "outputs": [
    {
     "data": {
      "text/plain": [
       "title      19848\n",
       "authors     7117\n",
       "dtype: int64"
      ]
     },
     "execution_count": 11,
     "metadata": {},
     "output_type": "execute_result"
    }
   ],
   "source": [
    "df[['title','authors']].nunique()"
   ]
  },
  {
   "cell_type": "code",
   "execution_count": 12,
   "id": "5b647df7",
   "metadata": {},
   "outputs": [
    {
     "data": {
      "text/plain": [
       "The Hunger Games (The Hunger Games, #1), Suzanne Collins             1\n",
       "Sharpe's Company (Sharpe, #13), Bernard Cornwell                     1\n",
       "A Dying Fall (Ruth Galloway, #5), Elly Griffiths                     1\n",
       "The Swimming-Pool Library, Alan Hollinghurst                         1\n",
       "One Night with a Prince (Royal Brotherhood, #3), Sabrina Jeffries    1\n",
       "dtype: int64"
      ]
     },
     "execution_count": 12,
     "metadata": {},
     "output_type": "execute_result"
    }
   ],
   "source": [
    "(df['title'] + ', ' + df['authors']).value_counts().head()"
   ]
  },
  {
   "cell_type": "code",
   "execution_count": 13,
   "id": "904e6d9d",
   "metadata": {},
   "outputs": [
    {
     "data": {
      "text/html": [
       "<div>\n",
       "<style scoped>\n",
       "    .dataframe tbody tr th:only-of-type {\n",
       "        vertical-align: middle;\n",
       "    }\n",
       "\n",
       "    .dataframe tbody tr th {\n",
       "        vertical-align: top;\n",
       "    }\n",
       "\n",
       "    .dataframe thead th {\n",
       "        text-align: right;\n",
       "    }\n",
       "</style>\n",
       "<table border=\"1\" class=\"dataframe\">\n",
       "  <thead>\n",
       "    <tr style=\"text-align: right;\">\n",
       "      <th></th>\n",
       "      <th>book_id</th>\n",
       "      <th>author_id</th>\n",
       "      <th>authors</th>\n",
       "      <th>title</th>\n",
       "      <th>description</th>\n",
       "      <th>publisher</th>\n",
       "      <th>genres</th>\n",
       "      <th>avg_rating</th>\n",
       "      <th>ratings_count</th>\n",
       "      <th>num_pages</th>\n",
       "      <th>pub_year</th>\n",
       "      <th>similar_books</th>\n",
       "      <th>url</th>\n",
       "    </tr>\n",
       "  </thead>\n",
       "  <tbody>\n",
       "  </tbody>\n",
       "</table>\n",
       "</div>"
      ],
      "text/plain": [
       "Empty DataFrame\n",
       "Columns: [book_id, author_id, authors, title, description, publisher, genres, avg_rating, ratings_count, num_pages, pub_year, similar_books, url]\n",
       "Index: []"
      ]
     },
     "execution_count": 13,
     "metadata": {},
     "output_type": "execute_result"
    }
   ],
   "source": [
    "df[df[['title', 'authors']].duplicated()]"
   ]
  },
  {
   "cell_type": "code",
   "execution_count": 14,
   "id": "bc178df0",
   "metadata": {},
   "outputs": [
    {
     "data": {
      "text/plain": [
       "False    20000\n",
       "dtype: int64"
      ]
     },
     "execution_count": 14,
     "metadata": {},
     "output_type": "execute_result"
    }
   ],
   "source": [
    "df.duplicated(subset=['title','authors']).value_counts()"
   ]
  },
  {
   "cell_type": "code",
   "execution_count": 15,
   "id": "e4db7435",
   "metadata": {},
   "outputs": [
    {
     "data": {
      "text/html": [
       "<div>\n",
       "<style scoped>\n",
       "    .dataframe tbody tr th:only-of-type {\n",
       "        vertical-align: middle;\n",
       "    }\n",
       "\n",
       "    .dataframe tbody tr th {\n",
       "        vertical-align: top;\n",
       "    }\n",
       "\n",
       "    .dataframe thead th {\n",
       "        text-align: right;\n",
       "    }\n",
       "</style>\n",
       "<table border=\"1\" class=\"dataframe\">\n",
       "  <thead>\n",
       "    <tr style=\"text-align: right;\">\n",
       "      <th></th>\n",
       "      <th>book_id</th>\n",
       "      <th>author_id</th>\n",
       "      <th>authors</th>\n",
       "      <th>title</th>\n",
       "      <th>description</th>\n",
       "      <th>publisher</th>\n",
       "      <th>genres</th>\n",
       "      <th>avg_rating</th>\n",
       "      <th>ratings_count</th>\n",
       "      <th>num_pages</th>\n",
       "      <th>pub_year</th>\n",
       "      <th>similar_books</th>\n",
       "      <th>url</th>\n",
       "    </tr>\n",
       "  </thead>\n",
       "  <tbody>\n",
       "    <tr>\n",
       "      <th>3066</th>\n",
       "      <td>67</td>\n",
       "      <td>33</td>\n",
       "      <td>Edward P. Jones</td>\n",
       "      <td>The Known World</td>\n",
       "      <td>One of the most acclaimed novels in recent mem...</td>\n",
       "      <td>Amistad</td>\n",
       "      <td>['to-read', 'currently-reading', 'historical-f...</td>\n",
       "      <td>3.82</td>\n",
       "      <td>26960</td>\n",
       "      <td>432</td>\n",
       "      <td>2006.0</td>\n",
       "      <td>['274607', '538059', '748029', '1791813', '543...</td>\n",
       "      <td>https://www.goodreads.com/book/show/67.The_Kno...</td>\n",
       "    </tr>\n",
       "  </tbody>\n",
       "</table>\n",
       "</div>"
      ],
      "text/plain": [
       "      book_id  author_id          authors            title  \\\n",
       "3066       67         33  Edward P. Jones  The Known World   \n",
       "\n",
       "                                            description publisher  \\\n",
       "3066  One of the most acclaimed novels in recent mem...   Amistad   \n",
       "\n",
       "                                                 genres  avg_rating  \\\n",
       "3066  ['to-read', 'currently-reading', 'historical-f...        3.82   \n",
       "\n",
       "      ratings_count  num_pages  pub_year  \\\n",
       "3066          26960        432    2006.0   \n",
       "\n",
       "                                          similar_books  \\\n",
       "3066  ['274607', '538059', '748029', '1791813', '543...   \n",
       "\n",
       "                                                    url  \n",
       "3066  https://www.goodreads.com/book/show/67.The_Kno...  "
      ]
     },
     "execution_count": 15,
     "metadata": {},
     "output_type": "execute_result"
    }
   ],
   "source": [
    "df[df['title']=='The Known World']"
   ]
  },
  {
   "cell_type": "code",
   "execution_count": 16,
   "id": "cc954374",
   "metadata": {},
   "outputs": [
    {
     "data": {
      "text/html": [
       "<div>\n",
       "<style scoped>\n",
       "    .dataframe tbody tr th:only-of-type {\n",
       "        vertical-align: middle;\n",
       "    }\n",
       "\n",
       "    .dataframe tbody tr th {\n",
       "        vertical-align: top;\n",
       "    }\n",
       "\n",
       "    .dataframe thead th {\n",
       "        text-align: right;\n",
       "    }\n",
       "</style>\n",
       "<table border=\"1\" class=\"dataframe\">\n",
       "  <thead>\n",
       "    <tr style=\"text-align: right;\">\n",
       "      <th></th>\n",
       "      <th>book_id</th>\n",
       "      <th>author_id</th>\n",
       "      <th>authors</th>\n",
       "      <th>title</th>\n",
       "      <th>description</th>\n",
       "      <th>publisher</th>\n",
       "      <th>genres</th>\n",
       "      <th>avg_rating</th>\n",
       "      <th>ratings_count</th>\n",
       "      <th>num_pages</th>\n",
       "      <th>pub_year</th>\n",
       "      <th>similar_books</th>\n",
       "      <th>url</th>\n",
       "    </tr>\n",
       "  </thead>\n",
       "  <tbody>\n",
       "    <tr>\n",
       "      <th>1257</th>\n",
       "      <td>9557</td>\n",
       "      <td>3354</td>\n",
       "      <td>Haruki Murakami</td>\n",
       "      <td>Sputnik Sweetheart</td>\n",
       "      <td>Alternate cover edition \u0001.\\nSumire is in love ...</td>\n",
       "      <td>Vintage</td>\n",
       "      <td>['to-read', 'favorites', 'fiction', 'japan', '...</td>\n",
       "      <td>3.82</td>\n",
       "      <td>63880</td>\n",
       "      <td>229</td>\n",
       "      <td>2002.0</td>\n",
       "      <td>['14029', '50159', '62773', '502118', '34462',...</td>\n",
       "      <td>https://www.goodreads.com/book/show/9557.Sputn...</td>\n",
       "    </tr>\n",
       "  </tbody>\n",
       "</table>\n",
       "</div>"
      ],
      "text/plain": [
       "      book_id  author_id          authors               title  \\\n",
       "1257     9557       3354  Haruki Murakami  Sputnik Sweetheart   \n",
       "\n",
       "                                            description publisher  \\\n",
       "1257  Alternate cover edition \u0001.\\nSumire is in love ...   Vintage   \n",
       "\n",
       "                                                 genres  avg_rating  \\\n",
       "1257  ['to-read', 'favorites', 'fiction', 'japan', '...        3.82   \n",
       "\n",
       "      ratings_count  num_pages  pub_year  \\\n",
       "1257          63880        229    2002.0   \n",
       "\n",
       "                                          similar_books  \\\n",
       "1257  ['14029', '50159', '62773', '502118', '34462',...   \n",
       "\n",
       "                                                    url  \n",
       "1257  https://www.goodreads.com/book/show/9557.Sputn...  "
      ]
     },
     "execution_count": 16,
     "metadata": {},
     "output_type": "execute_result"
    }
   ],
   "source": [
    "df[df['title']=='Sputnik Sweetheart']"
   ]
  },
  {
   "cell_type": "code",
   "execution_count": 17,
   "id": "3e590b40",
   "metadata": {},
   "outputs": [
    {
     "data": {
      "text/plain": [
       "7117"
      ]
     },
     "execution_count": 17,
     "metadata": {},
     "output_type": "execute_result"
    }
   ],
   "source": [
    "\n",
    "len(df['authors'].unique())"
   ]
  },
  {
   "cell_type": "code",
   "execution_count": 18,
   "id": "c6a8505a",
   "metadata": {},
   "outputs": [
    {
     "data": {
      "text/plain": [
       "19848"
      ]
     },
     "execution_count": 18,
     "metadata": {},
     "output_type": "execute_result"
    }
   ],
   "source": [
    "len(df['title'].unique())"
   ]
  },
  {
   "cell_type": "markdown",
   "id": "25aff6c4",
   "metadata": {},
   "source": [
    "The dataset has been cleaned and we removed the duplicates in the previous notebook."
   ]
  },
  {
   "cell_type": "markdown",
   "id": "f5a8b18f",
   "metadata": {},
   "source": [
    "## Cluster the books based on the description."
   ]
  },
  {
   "cell_type": "code",
   "execution_count": 19,
   "id": "f974fa62",
   "metadata": {},
   "outputs": [],
   "source": [
    "#importing basic python libraries\n",
    "import matplotlib.pyplot as plt\n",
    "import seaborn as sns\n",
    "\n",
    "# text preprocessing\n",
    "import regex\n",
    "import nltk\n",
    "\n",
    "#word embedding\n",
    "import gensim\n",
    "\n",
    "#clustering\n",
    "import sklearn\n",
    "\n",
    "#connection to data scoursce in Hana cloud\n",
    "#import hana_ml"
   ]
  },
  {
   "cell_type": "code",
   "execution_count": 20,
   "id": "ef0576e6",
   "metadata": {},
   "outputs": [],
   "source": [
    "import re, string\n",
    "from nltk.stem import WordNetLemmatizer\n",
    "from nltk.corpus import stopwords\n",
    "#import contractions\n",
    "#from sklearn.feature_extraction.text import TfidVectorizer"
   ]
  },
  {
   "cell_type": "markdown",
   "id": "350a1903",
   "metadata": {},
   "source": [
    "## Cleaning Description Column"
   ]
  },
  {
   "cell_type": "code",
   "execution_count": 21,
   "id": "1c623cf9",
   "metadata": {},
   "outputs": [
    {
     "data": {
      "text/html": [
       "<div>\n",
       "<style scoped>\n",
       "    .dataframe tbody tr th:only-of-type {\n",
       "        vertical-align: middle;\n",
       "    }\n",
       "\n",
       "    .dataframe tbody tr th {\n",
       "        vertical-align: top;\n",
       "    }\n",
       "\n",
       "    .dataframe thead th {\n",
       "        text-align: right;\n",
       "    }\n",
       "</style>\n",
       "<table border=\"1\" class=\"dataframe\">\n",
       "  <thead>\n",
       "    <tr style=\"text-align: right;\">\n",
       "      <th></th>\n",
       "      <th>book_id</th>\n",
       "      <th>title</th>\n",
       "      <th>description</th>\n",
       "    </tr>\n",
       "  </thead>\n",
       "  <tbody>\n",
       "    <tr>\n",
       "      <th>0</th>\n",
       "      <td>2767052</td>\n",
       "      <td>The Hunger Games (The Hunger Games, #1)</td>\n",
       "      <td>Winning will make you famous.\\nLosing means ce...</td>\n",
       "    </tr>\n",
       "    <tr>\n",
       "      <th>1</th>\n",
       "      <td>3</td>\n",
       "      <td>Harry Potter and the Sorcerer's Stone (Harry P...</td>\n",
       "      <td>Harry Potter's life is miserable. His parents ...</td>\n",
       "    </tr>\n",
       "    <tr>\n",
       "      <th>2</th>\n",
       "      <td>2657</td>\n",
       "      <td>To Kill a Mockingbird</td>\n",
       "      <td>The unforgettable novel of a childhood in a sl...</td>\n",
       "    </tr>\n",
       "    <tr>\n",
       "      <th>3</th>\n",
       "      <td>4671</td>\n",
       "      <td>The Great Gatsby</td>\n",
       "      <td>THE GREAT GATSBY, F. Scott Fitzgerald's third ...</td>\n",
       "    </tr>\n",
       "    <tr>\n",
       "      <th>4</th>\n",
       "      <td>11870085</td>\n",
       "      <td>The Fault in Our Stars</td>\n",
       "      <td>There is an alternate cover edition \u0001.\\n\"I fel...</td>\n",
       "    </tr>\n",
       "  </tbody>\n",
       "</table>\n",
       "</div>"
      ],
      "text/plain": [
       "    book_id                                              title  \\\n",
       "0   2767052            The Hunger Games (The Hunger Games, #1)   \n",
       "1         3  Harry Potter and the Sorcerer's Stone (Harry P...   \n",
       "2      2657                              To Kill a Mockingbird   \n",
       "3      4671                                   The Great Gatsby   \n",
       "4  11870085                             The Fault in Our Stars   \n",
       "\n",
       "                                         description  \n",
       "0  Winning will make you famous.\\nLosing means ce...  \n",
       "1  Harry Potter's life is miserable. His parents ...  \n",
       "2  The unforgettable novel of a childhood in a sl...  \n",
       "3  THE GREAT GATSBY, F. Scott Fitzgerald's third ...  \n",
       "4  There is an alternate cover edition \u0001.\\n\"I fel...  "
      ]
     },
     "execution_count": 21,
     "metadata": {},
     "output_type": "execute_result"
    }
   ],
   "source": [
    "books_desc = df[['book_id','title','description']]\n",
    "books_desc.head()"
   ]
  },
  {
   "cell_type": "code",
   "execution_count": 22,
   "id": "3797469a",
   "metadata": {},
   "outputs": [
    {
     "data": {
      "text/plain": [
       "(20000, 3)"
      ]
     },
     "execution_count": 22,
     "metadata": {},
     "output_type": "execute_result"
    }
   ],
   "source": [
    "books_desc.shape"
   ]
  },
  {
   "cell_type": "markdown",
   "id": "1794cfee",
   "metadata": {},
   "source": [
    "## 1.Text Preprocessing"
   ]
  },
  {
   "cell_type": "markdown",
   "id": "d81bd5c3",
   "metadata": {},
   "source": [
    "Tokenization: The text in the descriotion column must be parsed and transform into a list of words.\n",
    "\n",
    "Remove special characters and punctuation\n",
    "\n",
    "Remove \"stop words\": Commonly used words without any specific connocation (e.g., \"the\",\"a\", \"an\", \"in\")\n",
    "\n",
    "Use Natural Language Toolkit (NLTK) and Regular Expressions (RegEx) to clean up and tokenize our text."
   ]
  },
  {
   "cell_type": "code",
   "execution_count": 23,
   "id": "907d7b0a",
   "metadata": {},
   "outputs": [
    {
     "name": "stderr",
     "output_type": "stream",
     "text": [
      "[nltk_data] Downloading package stopwords to\n",
      "[nltk_data]     /Users/maryamnozari/nltk_data...\n",
      "[nltk_data]   Package stopwords is already up-to-date!\n"
     ]
    }
   ],
   "source": [
    "# Prepare the book description column \n",
    "import nltk\n",
    "from nltk.corpus import stopwords\n",
    "nltk.download(\"stopwords\")\n",
    "stopwords=set(stopwords.words(\"english\")) \n",
    "import regex as re"
   ]
  },
  {
   "cell_type": "code",
   "execution_count": 24,
   "id": "1fa02ce6",
   "metadata": {},
   "outputs": [],
   "source": [
    "# Transform to the lowercase\n",
    "df['tokens'] = df['description'].apply(lambda x: x.lower())"
   ]
  },
  {
   "cell_type": "code",
   "execution_count": 25,
   "id": "d8e0b524",
   "metadata": {},
   "outputs": [
    {
     "data": {
      "text/plain": [
       "0        winning will make you famous.\\nlosing means ce...\n",
       "1        harry potter's life is miserable. his parents ...\n",
       "2        the unforgettable novel of a childhood in a sl...\n",
       "3        the great gatsby, f. scott fitzgerald's third ...\n",
       "4        there is an alternate cover edition \u0001.\\n\"i fel...\n",
       "                               ...                        \n",
       "19995    from her pioneer days on the prairie to her go...\n",
       "19996    a young, inexperienced governess is charged wi...\n",
       "19997    don juan tenorio, el drama romantico por excel...\n",
       "19998    this follow-up to goddess by mistake returns t...\n",
       "19999    alternate cover for this asin can be found \u0001\\n...\n",
       "Name: tokens, Length: 20000, dtype: object"
      ]
     },
     "execution_count": 25,
     "metadata": {},
     "output_type": "execute_result"
    }
   ],
   "source": [
    "df['tokens']"
   ]
  },
  {
   "cell_type": "code",
   "execution_count": 26,
   "id": "7098e6e5",
   "metadata": {},
   "outputs": [],
   "source": [
    "#Remove punctuations\n",
    "df['tokens']  = df['tokens'].map(lambda x: re.sub(\"[-,\\.!?;\\'\\(\\)]\", ' ',x))"
   ]
  },
  {
   "cell_type": "code",
   "execution_count": 27,
   "id": "80e5349c",
   "metadata": {},
   "outputs": [],
   "source": [
    "#Remove stopwords\n",
    "df['tokens']  = df['tokens'].apply(lambda x: ' '.join([t for t in x.split() if not t in stopwords]))"
   ]
  },
  {
   "cell_type": "code",
   "execution_count": 28,
   "id": "b6ade5a4",
   "metadata": {},
   "outputs": [],
   "source": [
    "#Remove short tokens\n",
    "df['tokens'] = df['tokens'].apply(lambda x:' '.join([t for t in x.split()if len(t)>1]))"
   ]
  },
  {
   "cell_type": "code",
   "execution_count": 29,
   "id": "2fe7595b",
   "metadata": {},
   "outputs": [],
   "source": [
    "#Remove extra spaces\n",
    "df['tokens'] = df['tokens'].map(lambda x: re.sub(' +', ' ', x))"
   ]
  },
  {
   "cell_type": "code",
   "execution_count": 30,
   "id": "e6b6db32",
   "metadata": {},
   "outputs": [],
   "source": [
    "#Remove duplicate tokens\n",
    "df['tokens'] = df['tokens'].apply(lambda x: ' '.join(list(dict.fromkeys(x.split()))))"
   ]
  },
  {
   "cell_type": "code",
   "execution_count": 31,
   "id": "5fda5b9e",
   "metadata": {},
   "outputs": [
    {
     "data": {
      "text/plain": [
       "<bound method Series.duplicated of 0        winning make famous losing means certain death...\n",
       "1        harry potter life miserable parents dead stuck...\n",
       "2        unforgettable novel childhood sleepy southern ...\n",
       "3        great gatsby scott fitzgerald third book stand...\n",
       "4        alternate cover edition \"i fell love way fall ...\n",
       "                               ...                        \n",
       "19995    pioneer days prairie golden years husband alma...\n",
       "19996    young inexperienced governess charged care mil...\n",
       "19997    juan tenorio el drama romantico por excelencia...\n",
       "19998    follow goddess mistake returns ancient greco r...\n",
       "19999    alternate cover asin found dead women showing ...\n",
       "Name: tokens, Length: 20000, dtype: object>"
      ]
     },
     "execution_count": 31,
     "metadata": {},
     "output_type": "execute_result"
    }
   ],
   "source": [
    "df['tokens'].duplicated"
   ]
  },
  {
   "cell_type": "code",
   "execution_count": 32,
   "id": "4cc86c8b",
   "metadata": {},
   "outputs": [
    {
     "data": {
      "text/plain": [
       "(20000, 14)"
      ]
     },
     "execution_count": 32,
     "metadata": {},
     "output_type": "execute_result"
    }
   ],
   "source": [
    "df.shape"
   ]
  },
  {
   "cell_type": "code",
   "execution_count": 33,
   "id": "bb1ee0ee",
   "metadata": {},
   "outputs": [],
   "source": [
    "#Drop the duplicates\n",
    "df = df.drop_duplicates('tokens')"
   ]
  },
  {
   "cell_type": "code",
   "execution_count": 34,
   "id": "9d013f88",
   "metadata": {},
   "outputs": [],
   "source": [
    "# Remove any non-alphanumeric characters\n",
    "#books['tokens']=books['tokens'].apply(lambda x: ' '.join([re.sub('[^A-Za-z]+','', x) for x in nltk.word_tokenize(x)]))"
   ]
  },
  {
   "cell_type": "markdown",
   "id": "a3803bff",
   "metadata": {},
   "source": [
    "## Rescources on techniques for pre-processing\n",
    "\n",
    "https://tutorialspoint.dev/language/python/removing-stop-words-nltk-python\n",
    "\n",
    "https://en.wikipedia.org/wiki/Regular_expression"
   ]
  },
  {
   "cell_type": "markdown",
   "id": "bd6a0754",
   "metadata": {},
   "source": [
    "## Word Embedding"
   ]
  },
  {
   "cell_type": "markdown",
   "id": "3fd9a98e",
   "metadata": {},
   "source": [
    "**Use Global Vectors for Word Representation (GloVe)**: GloVe is a word2vec model that is to say an unsupervised learning algorithm for obtaining vector representations for words.It allows you to take any corpus of text and transform each word into a position in high-dimentional space.\n",
    "\n",
    "**Download a pretrained model that was trained on a broder corpus**:Wikipidia Each line of text file contains a word follow by N number. The N number describe the vector of the word position. N is varid depending on which model you choose to download.\n",
    "\n",
    "More Resources:\n",
    "\n",
    "https://faculty.ai/tech-blog/glove/\n",
    "\n",
    "https://medium.com/analytics-vidhya/basics-of-using-pre-trained-glove-vectors-in-python-d38905f356db"
   ]
  },
  {
   "cell_type": "code",
   "execution_count": 35,
   "id": "3e91791b",
   "metadata": {},
   "outputs": [],
   "source": [
    "import gensim.downloader as gensim_api"
   ]
  },
  {
   "cell_type": "code",
   "execution_count": 36,
   "id": "aafdffdd",
   "metadata": {},
   "outputs": [],
   "source": [
    "model = gensim_api.load(\"glove-wiki-gigaword-100\")"
   ]
  },
  {
   "cell_type": "code",
   "execution_count": 37,
   "id": "12689a1c",
   "metadata": {},
   "outputs": [],
   "source": [
    "\n",
    "from scipy import spatial\n",
    "import matplotlib.pyplot as plt\n",
    "from sklearn.manifold import TSNE"
   ]
  },
  {
   "cell_type": "code",
   "execution_count": 38,
   "id": "70c5c38a",
   "metadata": {},
   "outputs": [],
   "source": [
    "embeddings_dict = {}\n",
    "with open(\"glove.6B.50d.txt\", 'r') as f:\n",
    "    for line in f:\n",
    "        values = line.split()\n",
    "        word = values[0]\n",
    "        vector = np.asarray(values[1:], \"float32\")\n",
    "        embeddings_dict[word] = vector"
   ]
  },
  {
   "cell_type": "code",
   "execution_count": 39,
   "id": "c70119a8",
   "metadata": {},
   "outputs": [],
   "source": [
    "import numpy as np\n",
    "from gensim.models import Word2Vec\n",
    "\n",
    "\n",
    "# generate embedded features for each book\n",
    "features = []\n",
    "for tokens in df['tokens']:\n",
    "    token_features = []\n",
    "    for token in tokens:\n",
    "        try:\n",
    "            token_features.append(model[token])\n",
    "        except KeyError:\n",
    "            continue\n",
    "    features.append(np.mean(token_features, axis=0))"
   ]
  },
  {
   "cell_type": "code",
   "execution_count": 40,
   "id": "7ecb3826",
   "metadata": {},
   "outputs": [
    {
     "name": "stderr",
     "output_type": "stream",
     "text": [
      "/var/folders/q1/5l3sndps6dj6yrp14kddr27w0000gn/T/ipykernel_10179/3419084579.py:4: PerformanceWarning: DataFrame is highly fragmented.  This is usually the result of calling `frame.insert` many times, which has poor performance.  Consider joining all columns at once using pd.concat(axis=1) instead. To get a de-fragmented frame, use `newframe = frame.copy()`\n",
      "  df.loc[:,feature] = [f[i] for f in features]\n",
      "/var/folders/q1/5l3sndps6dj6yrp14kddr27w0000gn/T/ipykernel_10179/3419084579.py:4: PerformanceWarning: DataFrame is highly fragmented.  This is usually the result of calling `frame.insert` many times, which has poor performance.  Consider joining all columns at once using pd.concat(axis=1) instead. To get a de-fragmented frame, use `newframe = frame.copy()`\n",
      "  df.loc[:,feature] = [f[i] for f in features]\n",
      "/var/folders/q1/5l3sndps6dj6yrp14kddr27w0000gn/T/ipykernel_10179/3419084579.py:4: PerformanceWarning: DataFrame is highly fragmented.  This is usually the result of calling `frame.insert` many times, which has poor performance.  Consider joining all columns at once using pd.concat(axis=1) instead. To get a de-fragmented frame, use `newframe = frame.copy()`\n",
      "  df.loc[:,feature] = [f[i] for f in features]\n"
     ]
    }
   ],
   "source": [
    "# add features to DataFrame\n",
    "for i in range(100):\n",
    "    feature = 'f_' + str(i)\n",
    "    df.loc[:,feature] = [f[i] for f in features]\n",
    "\n",
    "# define embedding column names\n",
    "embedding = ['f_' + str(i) for i in range(100)]"
   ]
  },
  {
   "cell_type": "code",
   "execution_count": 41,
   "id": "9d339bdf",
   "metadata": {},
   "outputs": [
    {
     "data": {
      "text/html": [
       "<div>\n",
       "<style scoped>\n",
       "    .dataframe tbody tr th:only-of-type {\n",
       "        vertical-align: middle;\n",
       "    }\n",
       "\n",
       "    .dataframe tbody tr th {\n",
       "        vertical-align: top;\n",
       "    }\n",
       "\n",
       "    .dataframe thead th {\n",
       "        text-align: right;\n",
       "    }\n",
       "</style>\n",
       "<table border=\"1\" class=\"dataframe\">\n",
       "  <thead>\n",
       "    <tr style=\"text-align: right;\">\n",
       "      <th></th>\n",
       "      <th>title</th>\n",
       "      <th>f_0</th>\n",
       "      <th>f_1</th>\n",
       "      <th>f_2</th>\n",
       "      <th>f_3</th>\n",
       "      <th>f_4</th>\n",
       "      <th>f_5</th>\n",
       "      <th>f_6</th>\n",
       "      <th>f_7</th>\n",
       "      <th>f_8</th>\n",
       "      <th>...</th>\n",
       "      <th>f_90</th>\n",
       "      <th>f_91</th>\n",
       "      <th>f_92</th>\n",
       "      <th>f_93</th>\n",
       "      <th>f_94</th>\n",
       "      <th>f_95</th>\n",
       "      <th>f_96</th>\n",
       "      <th>f_97</th>\n",
       "      <th>f_98</th>\n",
       "      <th>f_99</th>\n",
       "    </tr>\n",
       "  </thead>\n",
       "  <tbody>\n",
       "    <tr>\n",
       "      <th>0</th>\n",
       "      <td>The Hunger Games (The Hunger Games, #1)</td>\n",
       "      <td>-0.373169</td>\n",
       "      <td>0.350620</td>\n",
       "      <td>0.119413</td>\n",
       "      <td>-0.133217</td>\n",
       "      <td>-0.325976</td>\n",
       "      <td>0.143434</td>\n",
       "      <td>0.245777</td>\n",
       "      <td>0.178249</td>\n",
       "      <td>-0.411206</td>\n",
       "      <td>...</td>\n",
       "      <td>-0.554344</td>\n",
       "      <td>0.475560</td>\n",
       "      <td>0.332995</td>\n",
       "      <td>0.435598</td>\n",
       "      <td>-0.045632</td>\n",
       "      <td>-0.062133</td>\n",
       "      <td>-0.065313</td>\n",
       "      <td>-0.558776</td>\n",
       "      <td>0.220094</td>\n",
       "      <td>-0.172420</td>\n",
       "    </tr>\n",
       "    <tr>\n",
       "      <th>1</th>\n",
       "      <td>Harry Potter and the Sorcerer's Stone (Harry P...</td>\n",
       "      <td>-0.352381</td>\n",
       "      <td>0.401103</td>\n",
       "      <td>0.134197</td>\n",
       "      <td>-0.124104</td>\n",
       "      <td>-0.367576</td>\n",
       "      <td>0.137611</td>\n",
       "      <td>0.240948</td>\n",
       "      <td>0.171266</td>\n",
       "      <td>-0.451973</td>\n",
       "      <td>...</td>\n",
       "      <td>-0.527947</td>\n",
       "      <td>0.445088</td>\n",
       "      <td>0.367797</td>\n",
       "      <td>0.388028</td>\n",
       "      <td>-0.017222</td>\n",
       "      <td>-0.031716</td>\n",
       "      <td>-0.057656</td>\n",
       "      <td>-0.543721</td>\n",
       "      <td>0.230047</td>\n",
       "      <td>-0.169782</td>\n",
       "    </tr>\n",
       "    <tr>\n",
       "      <th>2</th>\n",
       "      <td>To Kill a Mockingbird</td>\n",
       "      <td>-0.367063</td>\n",
       "      <td>0.383555</td>\n",
       "      <td>0.116054</td>\n",
       "      <td>-0.122833</td>\n",
       "      <td>-0.318778</td>\n",
       "      <td>0.141613</td>\n",
       "      <td>0.269815</td>\n",
       "      <td>0.193826</td>\n",
       "      <td>-0.425557</td>\n",
       "      <td>...</td>\n",
       "      <td>-0.530788</td>\n",
       "      <td>0.469015</td>\n",
       "      <td>0.312722</td>\n",
       "      <td>0.429721</td>\n",
       "      <td>-0.043864</td>\n",
       "      <td>-0.055515</td>\n",
       "      <td>-0.059491</td>\n",
       "      <td>-0.555098</td>\n",
       "      <td>0.231740</td>\n",
       "      <td>-0.165736</td>\n",
       "    </tr>\n",
       "    <tr>\n",
       "      <th>3</th>\n",
       "      <td>The Great Gatsby</td>\n",
       "      <td>-0.332005</td>\n",
       "      <td>0.360995</td>\n",
       "      <td>0.115008</td>\n",
       "      <td>-0.110071</td>\n",
       "      <td>-0.293177</td>\n",
       "      <td>0.159606</td>\n",
       "      <td>0.274343</td>\n",
       "      <td>0.187480</td>\n",
       "      <td>-0.388977</td>\n",
       "      <td>...</td>\n",
       "      <td>-0.509817</td>\n",
       "      <td>0.460756</td>\n",
       "      <td>0.314595</td>\n",
       "      <td>0.368781</td>\n",
       "      <td>-0.034070</td>\n",
       "      <td>-0.052203</td>\n",
       "      <td>-0.079225</td>\n",
       "      <td>-0.560967</td>\n",
       "      <td>0.220970</td>\n",
       "      <td>-0.167123</td>\n",
       "    </tr>\n",
       "    <tr>\n",
       "      <th>4</th>\n",
       "      <td>The Fault in Our Stars</td>\n",
       "      <td>-0.388036</td>\n",
       "      <td>0.371054</td>\n",
       "      <td>0.145875</td>\n",
       "      <td>-0.119477</td>\n",
       "      <td>-0.337119</td>\n",
       "      <td>0.135948</td>\n",
       "      <td>0.247158</td>\n",
       "      <td>0.186465</td>\n",
       "      <td>-0.429449</td>\n",
       "      <td>...</td>\n",
       "      <td>-0.546614</td>\n",
       "      <td>0.416026</td>\n",
       "      <td>0.308117</td>\n",
       "      <td>0.417974</td>\n",
       "      <td>-0.024424</td>\n",
       "      <td>-0.081384</td>\n",
       "      <td>-0.054108</td>\n",
       "      <td>-0.565471</td>\n",
       "      <td>0.238397</td>\n",
       "      <td>-0.151503</td>\n",
       "    </tr>\n",
       "    <tr>\n",
       "      <th>...</th>\n",
       "      <td>...</td>\n",
       "      <td>...</td>\n",
       "      <td>...</td>\n",
       "      <td>...</td>\n",
       "      <td>...</td>\n",
       "      <td>...</td>\n",
       "      <td>...</td>\n",
       "      <td>...</td>\n",
       "      <td>...</td>\n",
       "      <td>...</td>\n",
       "      <td>...</td>\n",
       "      <td>...</td>\n",
       "      <td>...</td>\n",
       "      <td>...</td>\n",
       "      <td>...</td>\n",
       "      <td>...</td>\n",
       "      <td>...</td>\n",
       "      <td>...</td>\n",
       "      <td>...</td>\n",
       "      <td>...</td>\n",
       "      <td>...</td>\n",
       "    </tr>\n",
       "    <tr>\n",
       "      <th>19995</th>\n",
       "      <td>Laura Ingalls Wilder: A Biography</td>\n",
       "      <td>-0.403143</td>\n",
       "      <td>0.363144</td>\n",
       "      <td>0.155645</td>\n",
       "      <td>-0.172864</td>\n",
       "      <td>-0.286736</td>\n",
       "      <td>0.149748</td>\n",
       "      <td>0.219769</td>\n",
       "      <td>0.153758</td>\n",
       "      <td>-0.391053</td>\n",
       "      <td>...</td>\n",
       "      <td>-0.580549</td>\n",
       "      <td>0.488930</td>\n",
       "      <td>0.374508</td>\n",
       "      <td>0.475096</td>\n",
       "      <td>-0.006809</td>\n",
       "      <td>-0.014865</td>\n",
       "      <td>-0.026088</td>\n",
       "      <td>-0.559379</td>\n",
       "      <td>0.238179</td>\n",
       "      <td>-0.168233</td>\n",
       "    </tr>\n",
       "    <tr>\n",
       "      <th>19996</th>\n",
       "      <td>The Turn of the Screw and Other Stories</td>\n",
       "      <td>-0.388522</td>\n",
       "      <td>0.361636</td>\n",
       "      <td>0.125020</td>\n",
       "      <td>-0.133809</td>\n",
       "      <td>-0.314835</td>\n",
       "      <td>0.145734</td>\n",
       "      <td>0.251890</td>\n",
       "      <td>0.180652</td>\n",
       "      <td>-0.389939</td>\n",
       "      <td>...</td>\n",
       "      <td>-0.553560</td>\n",
       "      <td>0.492386</td>\n",
       "      <td>0.355061</td>\n",
       "      <td>0.442034</td>\n",
       "      <td>-0.003934</td>\n",
       "      <td>-0.059204</td>\n",
       "      <td>-0.064713</td>\n",
       "      <td>-0.577788</td>\n",
       "      <td>0.233060</td>\n",
       "      <td>-0.179872</td>\n",
       "    </tr>\n",
       "    <tr>\n",
       "      <th>19997</th>\n",
       "      <td>Don Juan Tenorio</td>\n",
       "      <td>-0.361378</td>\n",
       "      <td>0.340595</td>\n",
       "      <td>0.132025</td>\n",
       "      <td>-0.166883</td>\n",
       "      <td>-0.286280</td>\n",
       "      <td>0.186917</td>\n",
       "      <td>0.241576</td>\n",
       "      <td>0.215877</td>\n",
       "      <td>-0.377350</td>\n",
       "      <td>...</td>\n",
       "      <td>-0.443439</td>\n",
       "      <td>0.452658</td>\n",
       "      <td>0.267660</td>\n",
       "      <td>0.428232</td>\n",
       "      <td>-0.051930</td>\n",
       "      <td>-0.085906</td>\n",
       "      <td>-0.067523</td>\n",
       "      <td>-0.559536</td>\n",
       "      <td>0.238448</td>\n",
       "      <td>-0.116780</td>\n",
       "    </tr>\n",
       "    <tr>\n",
       "      <th>19998</th>\n",
       "      <td>Elphame's Choice (Partholon, #4)</td>\n",
       "      <td>-0.388571</td>\n",
       "      <td>0.352787</td>\n",
       "      <td>0.113793</td>\n",
       "      <td>-0.150072</td>\n",
       "      <td>-0.388165</td>\n",
       "      <td>0.126084</td>\n",
       "      <td>0.256321</td>\n",
       "      <td>0.195664</td>\n",
       "      <td>-0.392025</td>\n",
       "      <td>...</td>\n",
       "      <td>-0.581985</td>\n",
       "      <td>0.488232</td>\n",
       "      <td>0.336257</td>\n",
       "      <td>0.462039</td>\n",
       "      <td>-0.016271</td>\n",
       "      <td>-0.091678</td>\n",
       "      <td>-0.091495</td>\n",
       "      <td>-0.591330</td>\n",
       "      <td>0.187014</td>\n",
       "      <td>-0.151512</td>\n",
       "    </tr>\n",
       "    <tr>\n",
       "      <th>19999</th>\n",
       "      <td>Blood and Sand (Elemental World, #2)</td>\n",
       "      <td>-0.381779</td>\n",
       "      <td>0.354914</td>\n",
       "      <td>0.127045</td>\n",
       "      <td>-0.147776</td>\n",
       "      <td>-0.325802</td>\n",
       "      <td>0.147445</td>\n",
       "      <td>0.226469</td>\n",
       "      <td>0.167263</td>\n",
       "      <td>-0.422694</td>\n",
       "      <td>...</td>\n",
       "      <td>-0.559874</td>\n",
       "      <td>0.466755</td>\n",
       "      <td>0.344733</td>\n",
       "      <td>0.439278</td>\n",
       "      <td>-0.021173</td>\n",
       "      <td>-0.057899</td>\n",
       "      <td>-0.063002</td>\n",
       "      <td>-0.553956</td>\n",
       "      <td>0.228697</td>\n",
       "      <td>-0.159777</td>\n",
       "    </tr>\n",
       "  </tbody>\n",
       "</table>\n",
       "<p>19907 rows × 101 columns</p>\n",
       "</div>"
      ],
      "text/plain": [
       "                                                   title       f_0       f_1  \\\n",
       "0                The Hunger Games (The Hunger Games, #1) -0.373169  0.350620   \n",
       "1      Harry Potter and the Sorcerer's Stone (Harry P... -0.352381  0.401103   \n",
       "2                                  To Kill a Mockingbird -0.367063  0.383555   \n",
       "3                                       The Great Gatsby -0.332005  0.360995   \n",
       "4                                 The Fault in Our Stars -0.388036  0.371054   \n",
       "...                                                  ...       ...       ...   \n",
       "19995                  Laura Ingalls Wilder: A Biography -0.403143  0.363144   \n",
       "19996            The Turn of the Screw and Other Stories -0.388522  0.361636   \n",
       "19997                                   Don Juan Tenorio -0.361378  0.340595   \n",
       "19998                   Elphame's Choice (Partholon, #4) -0.388571  0.352787   \n",
       "19999               Blood and Sand (Elemental World, #2) -0.381779  0.354914   \n",
       "\n",
       "            f_2       f_3       f_4       f_5       f_6       f_7       f_8  \\\n",
       "0      0.119413 -0.133217 -0.325976  0.143434  0.245777  0.178249 -0.411206   \n",
       "1      0.134197 -0.124104 -0.367576  0.137611  0.240948  0.171266 -0.451973   \n",
       "2      0.116054 -0.122833 -0.318778  0.141613  0.269815  0.193826 -0.425557   \n",
       "3      0.115008 -0.110071 -0.293177  0.159606  0.274343  0.187480 -0.388977   \n",
       "4      0.145875 -0.119477 -0.337119  0.135948  0.247158  0.186465 -0.429449   \n",
       "...         ...       ...       ...       ...       ...       ...       ...   \n",
       "19995  0.155645 -0.172864 -0.286736  0.149748  0.219769  0.153758 -0.391053   \n",
       "19996  0.125020 -0.133809 -0.314835  0.145734  0.251890  0.180652 -0.389939   \n",
       "19997  0.132025 -0.166883 -0.286280  0.186917  0.241576  0.215877 -0.377350   \n",
       "19998  0.113793 -0.150072 -0.388165  0.126084  0.256321  0.195664 -0.392025   \n",
       "19999  0.127045 -0.147776 -0.325802  0.147445  0.226469  0.167263 -0.422694   \n",
       "\n",
       "       ...      f_90      f_91      f_92      f_93      f_94      f_95  \\\n",
       "0      ... -0.554344  0.475560  0.332995  0.435598 -0.045632 -0.062133   \n",
       "1      ... -0.527947  0.445088  0.367797  0.388028 -0.017222 -0.031716   \n",
       "2      ... -0.530788  0.469015  0.312722  0.429721 -0.043864 -0.055515   \n",
       "3      ... -0.509817  0.460756  0.314595  0.368781 -0.034070 -0.052203   \n",
       "4      ... -0.546614  0.416026  0.308117  0.417974 -0.024424 -0.081384   \n",
       "...    ...       ...       ...       ...       ...       ...       ...   \n",
       "19995  ... -0.580549  0.488930  0.374508  0.475096 -0.006809 -0.014865   \n",
       "19996  ... -0.553560  0.492386  0.355061  0.442034 -0.003934 -0.059204   \n",
       "19997  ... -0.443439  0.452658  0.267660  0.428232 -0.051930 -0.085906   \n",
       "19998  ... -0.581985  0.488232  0.336257  0.462039 -0.016271 -0.091678   \n",
       "19999  ... -0.559874  0.466755  0.344733  0.439278 -0.021173 -0.057899   \n",
       "\n",
       "           f_96      f_97      f_98      f_99  \n",
       "0     -0.065313 -0.558776  0.220094 -0.172420  \n",
       "1     -0.057656 -0.543721  0.230047 -0.169782  \n",
       "2     -0.059491 -0.555098  0.231740 -0.165736  \n",
       "3     -0.079225 -0.560967  0.220970 -0.167123  \n",
       "4     -0.054108 -0.565471  0.238397 -0.151503  \n",
       "...         ...       ...       ...       ...  \n",
       "19995 -0.026088 -0.559379  0.238179 -0.168233  \n",
       "19996 -0.064713 -0.577788  0.233060 -0.179872  \n",
       "19997 -0.067523 -0.559536  0.238448 -0.116780  \n",
       "19998 -0.091495 -0.591330  0.187014 -0.151512  \n",
       "19999 -0.063002 -0.553956  0.228697 -0.159777  \n",
       "\n",
       "[19907 rows x 101 columns]"
      ]
     },
     "execution_count": 41,
     "metadata": {},
     "output_type": "execute_result"
    }
   ],
   "source": [
    "#As a resulting of our word embedding technique we associated each book to a 100 -dim numerical vector:\n",
    "df[['title']+embedding]"
   ]
  },
  {
   "cell_type": "markdown",
   "id": "053b2211",
   "metadata": {},
   "source": [
    "## KMeans Clustering"
   ]
  },
  {
   "cell_type": "markdown",
   "id": "50286ca8",
   "metadata": {},
   "source": [
    "Now that we have represented each book by a point in a multidimentional space, we can use the distance between each books to find out which books are similar to each other."
   ]
  },
  {
   "cell_type": "code",
   "execution_count": 42,
   "id": "b680e2b8",
   "metadata": {},
   "outputs": [],
   "source": [
    "from sklearn.cluster import KMeans"
   ]
  },
  {
   "cell_type": "code",
   "execution_count": 43,
   "id": "97606457",
   "metadata": {},
   "outputs": [
    {
     "data": {
      "text/html": [
       "<div>\n",
       "<style scoped>\n",
       "    .dataframe tbody tr th:only-of-type {\n",
       "        vertical-align: middle;\n",
       "    }\n",
       "\n",
       "    .dataframe tbody tr th {\n",
       "        vertical-align: top;\n",
       "    }\n",
       "\n",
       "    .dataframe thead th {\n",
       "        text-align: right;\n",
       "    }\n",
       "</style>\n",
       "<table border=\"1\" class=\"dataframe\">\n",
       "  <thead>\n",
       "    <tr style=\"text-align: right;\">\n",
       "      <th></th>\n",
       "      <th>f_0</th>\n",
       "      <th>f_1</th>\n",
       "      <th>f_2</th>\n",
       "      <th>f_3</th>\n",
       "      <th>f_4</th>\n",
       "      <th>f_5</th>\n",
       "      <th>f_6</th>\n",
       "      <th>f_7</th>\n",
       "      <th>f_8</th>\n",
       "      <th>f_9</th>\n",
       "      <th>...</th>\n",
       "      <th>f_90</th>\n",
       "      <th>f_91</th>\n",
       "      <th>f_92</th>\n",
       "      <th>f_93</th>\n",
       "      <th>f_94</th>\n",
       "      <th>f_95</th>\n",
       "      <th>f_96</th>\n",
       "      <th>f_97</th>\n",
       "      <th>f_98</th>\n",
       "      <th>f_99</th>\n",
       "    </tr>\n",
       "  </thead>\n",
       "  <tbody>\n",
       "    <tr>\n",
       "      <th>0</th>\n",
       "      <td>-0.373169</td>\n",
       "      <td>0.350620</td>\n",
       "      <td>0.119413</td>\n",
       "      <td>-0.133217</td>\n",
       "      <td>-0.325976</td>\n",
       "      <td>0.143434</td>\n",
       "      <td>0.245777</td>\n",
       "      <td>0.178249</td>\n",
       "      <td>-0.411206</td>\n",
       "      <td>0.174251</td>\n",
       "      <td>...</td>\n",
       "      <td>-0.554344</td>\n",
       "      <td>0.475560</td>\n",
       "      <td>0.332995</td>\n",
       "      <td>0.435598</td>\n",
       "      <td>-0.045632</td>\n",
       "      <td>-0.062133</td>\n",
       "      <td>-0.065313</td>\n",
       "      <td>-0.558776</td>\n",
       "      <td>0.220094</td>\n",
       "      <td>-0.172420</td>\n",
       "    </tr>\n",
       "    <tr>\n",
       "      <th>1</th>\n",
       "      <td>-0.352381</td>\n",
       "      <td>0.401103</td>\n",
       "      <td>0.134197</td>\n",
       "      <td>-0.124104</td>\n",
       "      <td>-0.367576</td>\n",
       "      <td>0.137611</td>\n",
       "      <td>0.240948</td>\n",
       "      <td>0.171266</td>\n",
       "      <td>-0.451973</td>\n",
       "      <td>0.159818</td>\n",
       "      <td>...</td>\n",
       "      <td>-0.527947</td>\n",
       "      <td>0.445088</td>\n",
       "      <td>0.367797</td>\n",
       "      <td>0.388028</td>\n",
       "      <td>-0.017222</td>\n",
       "      <td>-0.031716</td>\n",
       "      <td>-0.057656</td>\n",
       "      <td>-0.543721</td>\n",
       "      <td>0.230047</td>\n",
       "      <td>-0.169782</td>\n",
       "    </tr>\n",
       "    <tr>\n",
       "      <th>2</th>\n",
       "      <td>-0.367063</td>\n",
       "      <td>0.383555</td>\n",
       "      <td>0.116054</td>\n",
       "      <td>-0.122833</td>\n",
       "      <td>-0.318778</td>\n",
       "      <td>0.141613</td>\n",
       "      <td>0.269815</td>\n",
       "      <td>0.193826</td>\n",
       "      <td>-0.425557</td>\n",
       "      <td>0.191153</td>\n",
       "      <td>...</td>\n",
       "      <td>-0.530788</td>\n",
       "      <td>0.469015</td>\n",
       "      <td>0.312722</td>\n",
       "      <td>0.429721</td>\n",
       "      <td>-0.043864</td>\n",
       "      <td>-0.055515</td>\n",
       "      <td>-0.059491</td>\n",
       "      <td>-0.555098</td>\n",
       "      <td>0.231740</td>\n",
       "      <td>-0.165736</td>\n",
       "    </tr>\n",
       "    <tr>\n",
       "      <th>3</th>\n",
       "      <td>-0.332005</td>\n",
       "      <td>0.360995</td>\n",
       "      <td>0.115008</td>\n",
       "      <td>-0.110071</td>\n",
       "      <td>-0.293177</td>\n",
       "      <td>0.159606</td>\n",
       "      <td>0.274343</td>\n",
       "      <td>0.187480</td>\n",
       "      <td>-0.388977</td>\n",
       "      <td>0.184570</td>\n",
       "      <td>...</td>\n",
       "      <td>-0.509817</td>\n",
       "      <td>0.460756</td>\n",
       "      <td>0.314595</td>\n",
       "      <td>0.368781</td>\n",
       "      <td>-0.034070</td>\n",
       "      <td>-0.052203</td>\n",
       "      <td>-0.079225</td>\n",
       "      <td>-0.560967</td>\n",
       "      <td>0.220970</td>\n",
       "      <td>-0.167123</td>\n",
       "    </tr>\n",
       "    <tr>\n",
       "      <th>4</th>\n",
       "      <td>-0.388036</td>\n",
       "      <td>0.371054</td>\n",
       "      <td>0.145875</td>\n",
       "      <td>-0.119477</td>\n",
       "      <td>-0.337119</td>\n",
       "      <td>0.135948</td>\n",
       "      <td>0.247158</td>\n",
       "      <td>0.186465</td>\n",
       "      <td>-0.429449</td>\n",
       "      <td>0.182293</td>\n",
       "      <td>...</td>\n",
       "      <td>-0.546614</td>\n",
       "      <td>0.416026</td>\n",
       "      <td>0.308117</td>\n",
       "      <td>0.417974</td>\n",
       "      <td>-0.024424</td>\n",
       "      <td>-0.081384</td>\n",
       "      <td>-0.054108</td>\n",
       "      <td>-0.565471</td>\n",
       "      <td>0.238397</td>\n",
       "      <td>-0.151503</td>\n",
       "    </tr>\n",
       "    <tr>\n",
       "      <th>...</th>\n",
       "      <td>...</td>\n",
       "      <td>...</td>\n",
       "      <td>...</td>\n",
       "      <td>...</td>\n",
       "      <td>...</td>\n",
       "      <td>...</td>\n",
       "      <td>...</td>\n",
       "      <td>...</td>\n",
       "      <td>...</td>\n",
       "      <td>...</td>\n",
       "      <td>...</td>\n",
       "      <td>...</td>\n",
       "      <td>...</td>\n",
       "      <td>...</td>\n",
       "      <td>...</td>\n",
       "      <td>...</td>\n",
       "      <td>...</td>\n",
       "      <td>...</td>\n",
       "      <td>...</td>\n",
       "      <td>...</td>\n",
       "      <td>...</td>\n",
       "    </tr>\n",
       "    <tr>\n",
       "      <th>19995</th>\n",
       "      <td>-0.403143</td>\n",
       "      <td>0.363144</td>\n",
       "      <td>0.155645</td>\n",
       "      <td>-0.172864</td>\n",
       "      <td>-0.286736</td>\n",
       "      <td>0.149748</td>\n",
       "      <td>0.219769</td>\n",
       "      <td>0.153758</td>\n",
       "      <td>-0.391053</td>\n",
       "      <td>0.195766</td>\n",
       "      <td>...</td>\n",
       "      <td>-0.580549</td>\n",
       "      <td>0.488930</td>\n",
       "      <td>0.374508</td>\n",
       "      <td>0.475096</td>\n",
       "      <td>-0.006809</td>\n",
       "      <td>-0.014865</td>\n",
       "      <td>-0.026088</td>\n",
       "      <td>-0.559379</td>\n",
       "      <td>0.238179</td>\n",
       "      <td>-0.168233</td>\n",
       "    </tr>\n",
       "    <tr>\n",
       "      <th>19996</th>\n",
       "      <td>-0.388522</td>\n",
       "      <td>0.361636</td>\n",
       "      <td>0.125020</td>\n",
       "      <td>-0.133809</td>\n",
       "      <td>-0.314835</td>\n",
       "      <td>0.145734</td>\n",
       "      <td>0.251890</td>\n",
       "      <td>0.180652</td>\n",
       "      <td>-0.389939</td>\n",
       "      <td>0.188545</td>\n",
       "      <td>...</td>\n",
       "      <td>-0.553560</td>\n",
       "      <td>0.492386</td>\n",
       "      <td>0.355061</td>\n",
       "      <td>0.442034</td>\n",
       "      <td>-0.003934</td>\n",
       "      <td>-0.059204</td>\n",
       "      <td>-0.064713</td>\n",
       "      <td>-0.577788</td>\n",
       "      <td>0.233060</td>\n",
       "      <td>-0.179872</td>\n",
       "    </tr>\n",
       "    <tr>\n",
       "      <th>19997</th>\n",
       "      <td>-0.361378</td>\n",
       "      <td>0.340595</td>\n",
       "      <td>0.132025</td>\n",
       "      <td>-0.166883</td>\n",
       "      <td>-0.286280</td>\n",
       "      <td>0.186917</td>\n",
       "      <td>0.241576</td>\n",
       "      <td>0.215877</td>\n",
       "      <td>-0.377350</td>\n",
       "      <td>0.227933</td>\n",
       "      <td>...</td>\n",
       "      <td>-0.443439</td>\n",
       "      <td>0.452658</td>\n",
       "      <td>0.267660</td>\n",
       "      <td>0.428232</td>\n",
       "      <td>-0.051930</td>\n",
       "      <td>-0.085906</td>\n",
       "      <td>-0.067523</td>\n",
       "      <td>-0.559536</td>\n",
       "      <td>0.238448</td>\n",
       "      <td>-0.116780</td>\n",
       "    </tr>\n",
       "    <tr>\n",
       "      <th>19998</th>\n",
       "      <td>-0.388571</td>\n",
       "      <td>0.352787</td>\n",
       "      <td>0.113793</td>\n",
       "      <td>-0.150072</td>\n",
       "      <td>-0.388165</td>\n",
       "      <td>0.126084</td>\n",
       "      <td>0.256321</td>\n",
       "      <td>0.195664</td>\n",
       "      <td>-0.392025</td>\n",
       "      <td>0.194688</td>\n",
       "      <td>...</td>\n",
       "      <td>-0.581985</td>\n",
       "      <td>0.488232</td>\n",
       "      <td>0.336257</td>\n",
       "      <td>0.462039</td>\n",
       "      <td>-0.016271</td>\n",
       "      <td>-0.091678</td>\n",
       "      <td>-0.091495</td>\n",
       "      <td>-0.591330</td>\n",
       "      <td>0.187014</td>\n",
       "      <td>-0.151512</td>\n",
       "    </tr>\n",
       "    <tr>\n",
       "      <th>19999</th>\n",
       "      <td>-0.381779</td>\n",
       "      <td>0.354914</td>\n",
       "      <td>0.127045</td>\n",
       "      <td>-0.147776</td>\n",
       "      <td>-0.325802</td>\n",
       "      <td>0.147445</td>\n",
       "      <td>0.226469</td>\n",
       "      <td>0.167263</td>\n",
       "      <td>-0.422694</td>\n",
       "      <td>0.186487</td>\n",
       "      <td>...</td>\n",
       "      <td>-0.559874</td>\n",
       "      <td>0.466755</td>\n",
       "      <td>0.344733</td>\n",
       "      <td>0.439278</td>\n",
       "      <td>-0.021173</td>\n",
       "      <td>-0.057899</td>\n",
       "      <td>-0.063002</td>\n",
       "      <td>-0.553956</td>\n",
       "      <td>0.228697</td>\n",
       "      <td>-0.159777</td>\n",
       "    </tr>\n",
       "  </tbody>\n",
       "</table>\n",
       "<p>19907 rows × 100 columns</p>\n",
       "</div>"
      ],
      "text/plain": [
       "            f_0       f_1       f_2       f_3       f_4       f_5       f_6  \\\n",
       "0     -0.373169  0.350620  0.119413 -0.133217 -0.325976  0.143434  0.245777   \n",
       "1     -0.352381  0.401103  0.134197 -0.124104 -0.367576  0.137611  0.240948   \n",
       "2     -0.367063  0.383555  0.116054 -0.122833 -0.318778  0.141613  0.269815   \n",
       "3     -0.332005  0.360995  0.115008 -0.110071 -0.293177  0.159606  0.274343   \n",
       "4     -0.388036  0.371054  0.145875 -0.119477 -0.337119  0.135948  0.247158   \n",
       "...         ...       ...       ...       ...       ...       ...       ...   \n",
       "19995 -0.403143  0.363144  0.155645 -0.172864 -0.286736  0.149748  0.219769   \n",
       "19996 -0.388522  0.361636  0.125020 -0.133809 -0.314835  0.145734  0.251890   \n",
       "19997 -0.361378  0.340595  0.132025 -0.166883 -0.286280  0.186917  0.241576   \n",
       "19998 -0.388571  0.352787  0.113793 -0.150072 -0.388165  0.126084  0.256321   \n",
       "19999 -0.381779  0.354914  0.127045 -0.147776 -0.325802  0.147445  0.226469   \n",
       "\n",
       "            f_7       f_8       f_9  ...      f_90      f_91      f_92  \\\n",
       "0      0.178249 -0.411206  0.174251  ... -0.554344  0.475560  0.332995   \n",
       "1      0.171266 -0.451973  0.159818  ... -0.527947  0.445088  0.367797   \n",
       "2      0.193826 -0.425557  0.191153  ... -0.530788  0.469015  0.312722   \n",
       "3      0.187480 -0.388977  0.184570  ... -0.509817  0.460756  0.314595   \n",
       "4      0.186465 -0.429449  0.182293  ... -0.546614  0.416026  0.308117   \n",
       "...         ...       ...       ...  ...       ...       ...       ...   \n",
       "19995  0.153758 -0.391053  0.195766  ... -0.580549  0.488930  0.374508   \n",
       "19996  0.180652 -0.389939  0.188545  ... -0.553560  0.492386  0.355061   \n",
       "19997  0.215877 -0.377350  0.227933  ... -0.443439  0.452658  0.267660   \n",
       "19998  0.195664 -0.392025  0.194688  ... -0.581985  0.488232  0.336257   \n",
       "19999  0.167263 -0.422694  0.186487  ... -0.559874  0.466755  0.344733   \n",
       "\n",
       "           f_93      f_94      f_95      f_96      f_97      f_98      f_99  \n",
       "0      0.435598 -0.045632 -0.062133 -0.065313 -0.558776  0.220094 -0.172420  \n",
       "1      0.388028 -0.017222 -0.031716 -0.057656 -0.543721  0.230047 -0.169782  \n",
       "2      0.429721 -0.043864 -0.055515 -0.059491 -0.555098  0.231740 -0.165736  \n",
       "3      0.368781 -0.034070 -0.052203 -0.079225 -0.560967  0.220970 -0.167123  \n",
       "4      0.417974 -0.024424 -0.081384 -0.054108 -0.565471  0.238397 -0.151503  \n",
       "...         ...       ...       ...       ...       ...       ...       ...  \n",
       "19995  0.475096 -0.006809 -0.014865 -0.026088 -0.559379  0.238179 -0.168233  \n",
       "19996  0.442034 -0.003934 -0.059204 -0.064713 -0.577788  0.233060 -0.179872  \n",
       "19997  0.428232 -0.051930 -0.085906 -0.067523 -0.559536  0.238448 -0.116780  \n",
       "19998  0.462039 -0.016271 -0.091678 -0.091495 -0.591330  0.187014 -0.151512  \n",
       "19999  0.439278 -0.021173 -0.057899 -0.063002 -0.553956  0.228697 -0.159777  \n",
       "\n",
       "[19907 rows x 100 columns]"
      ]
     },
     "execution_count": 43,
     "metadata": {},
     "output_type": "execute_result"
    }
   ],
   "source": [
    "df[embedding]"
   ]
  },
  {
   "cell_type": "code",
   "execution_count": 71,
   "id": "edeb8ad3",
   "metadata": {},
   "outputs": [
    {
     "data": {
      "text/plain": [
       "Text(0.5, 1.0, 'Elbow Curve')"
      ]
     },
     "execution_count": 71,
     "metadata": {},
     "output_type": "execute_result"
    },
    {
     "data": {
      "image/png": "[encoded data removed]",
      "text/plain": [
       "<Figure size 576x720 with 1 Axes>"
      ]
     },
     "metadata": {
      "needs_background": "light"
     },
     "output_type": "display_data"
    }
   ],
   "source": [
    "\n",
    "\n",
    "X = df[embedding]\n",
    "\n",
    "distortions =[]\n",
    "for k in range(2,30):\n",
    "    k_means = KMeans(n_clusters = k)\n",
    "    k_means.fit(X)\n",
    "    distortions.append(k_means.inertia_)\n",
    "\n",
    "fig = plt.figure(figsize=(8,10))\n",
    "plt.plot(range(2,30), distortions, 'bx-')\n",
    "plt.title(\"Elbow Curve\")"
   ]
  },
  {
   "cell_type": "markdown",
   "id": "c4f33904",
   "metadata": {},
   "source": [
    "We notice that there is no discernable elbow to pick k"
   ]
  },
  {
   "cell_type": "markdown",
   "id": "694df89e",
   "metadata": {},
   "source": [
    "## Choosing K: The Silhouette Method"
   ]
  },
  {
   "cell_type": "markdown",
   "id": "6aeea13e",
   "metadata": {},
   "source": [
    "The silhouette score is computed on every datapoint in every cluster. The silhouette score ranges from -1 (a poor clustering) to +1 (a very dense clustering) with 0 denoting the situation where clusters overlap. Some criteria for the silhouette coefficient is provided in the table below.\n",
    "\n",
    "| Range       | Interpretation                                |\n",
    "|-------------|-----------------------------------------------|\n",
    "| 0.71 - 1.0  | A strong structure has been found.            |\n",
    "| 0.51 - 0.7  | A reasonable structure has been found.        |\n",
    "| 0.26 - 0.5  | The structure is weak and could be artificial.|\n",
    "| < 0.25      | No substantial structure has been found.      |\n",
    "\n",
    "Source: http://www.stat.berkeley.edu/~spector/s133/Clus.html\n"
   ]
  },
  {
   "cell_type": "code",
   "execution_count": 65,
   "id": "fb7098f4",
   "metadata": {},
   "outputs": [
    {
     "name": "stdout",
     "output_type": "stream",
     "text": [
      "Automatically created module for IPython interactive environment\n"
     ]
    }
   ],
   "source": [
    "from sklearn.datasets import make_blobs\n",
    "from sklearn.cluster import KMeans\n",
    "from sklearn.metrics import silhouette_samples, silhouette_score\n",
    "\n",
    "import matplotlib.pyplot as plt\n",
    "import matplotlib.cm as cm\n",
    "import numpy as np\n",
    "\n",
    "print(__doc__)"
   ]
  },
  {
   "cell_type": "code",
   "execution_count": null,
   "id": "1532c71d",
   "metadata": {},
   "outputs": [],
   "source": []
  },
  {
   "cell_type": "code",
   "execution_count": 69,
   "id": "5941ecce",
   "metadata": {},
   "outputs": [
    {
     "name": "stdout",
     "output_type": "stream",
     "text": [
      "For n_clusters = 2 The average silhouette_score is : 0.1229486\n",
      "For n_clusters = 3 The average silhouette_score is : 0.09675944\n",
      "For n_clusters = 4 The average silhouette_score is : 0.07872317\n",
      "For n_clusters = 5 The average silhouette_score is : 0.06488438\n",
      "For n_clusters = 6 The average silhouette_score is : 0.060528208\n",
      "For n_clusters = 7 The average silhouette_score is : 0.05305962\n",
      "For n_clusters = 8 The average silhouette_score is : 0.051149532\n",
      "For n_clusters = 9 The average silhouette_score is : 0.05223356\n",
      "For n_clusters = 10 The average silhouette_score is : 0.04621785\n",
      "For n_clusters = 11 The average silhouette_score is : 0.047551572\n"
     ]
    },
    {
     "data": {
      "image/png": "[encoded data removed]",
      "text/plain": [
       "<Figure size 1296x504 with 1 Axes>"
      ]
     },
     "metadata": {
      "needs_background": "light"
     },
     "output_type": "display_data"
    },
    {
     "data": {
      "image/png": "[encoded data removed]",
      "text/plain": [
       "<Figure size 1296x504 with 1 Axes>"
      ]
     },
     "metadata": {
      "needs_background": "light"
     },
     "output_type": "display_data"
    },
    {
     "data": {
      "image/png": "[encoded data removed]",
      "text/plain": [
       "<Figure size 1296x504 with 1 Axes>"
      ]
     },
     "metadata": {
      "needs_background": "light"
     },
     "output_type": "display_data"
    },
    {
     "data": {
      "image/png": "[encoded data removed]",
      "text/plain": [
       "<Figure size 1296x504 with 1 Axes>"
      ]
     },
     "metadata": {
      "needs_background": "light"
     },
     "output_type": "display_data"
    },
    {
     "data": {
      "image/png": "[encoded data removed]",
      "text/plain": [
       "<Figure size 1296x504 with 1 Axes>"
      ]
     },
     "metadata": {
      "needs_background": "light"
     },
     "output_type": "display_data"
    },
    {
     "data": {
      "image/png": "[encoded data removed]",
      "text/plain": [
       "<Figure size 1296x504 with 1 Axes>"
      ]
     },
     "metadata": {
      "needs_background": "light"
     },
     "output_type": "display_data"
    },
    {
     "data": {
      "image/png": "[encoded data removed]",
      "text/plain": [
       "<Figure size 1296x504 with 1 Axes>"
      ]
     },
     "metadata": {
      "needs_background": "light"
     },
     "output_type": "display_data"
    },
    {
     "data": {
      "image/png": "[encoded data removed]",
      "text/plain": [
       "<Figure size 1296x504 with 1 Axes>"
      ]
     },
     "metadata": {
      "needs_background": "light"
     },
     "output_type": "display_data"
    },
    {
     "data": {
      "image/png": "[encoded data removed]",
      "text/plain": [
       "<Figure size 1296x504 with 1 Axes>"
      ]
     },
     "metadata": {
      "needs_background": "light"
     },
     "output_type": "display_data"
    },
    {
     "data": {
      "image/png": "[encoded data removed]",
      "text/plain": [
       "<Figure size 1296x504 with 1 Axes>"
      ]
     },
     "metadata": {
      "needs_background": "light"
     },
     "output_type": "display_data"
    }
   ],
   "source": [
    "\n",
    "\n",
    "# Generating the sample data from make_blobs\n",
    "# This particular setting has one distinct cluster and 3 clusters placed close\n",
    "# together.\n",
    "# X, y = make_blobs(n_samples=500,\n",
    "#                   n_features=2,\n",
    "#                   centers=4,\n",
    "#                   cluster_std=1,\n",
    "#                   center_box=(-10.0, 10.0),\n",
    "#                   shuffle=True,\n",
    "#                   random_state=1)  # For reproducibility\n",
    "\n",
    "range_n_clusters = [2, 3, 4, 5, 6, 7, 8, 9, 10, 11]\n",
    "\n",
    "for n_clusters in range_n_clusters:\n",
    "    fig, (ax1) = plt.subplots(1)\n",
    "    fig.set_size_inches(18, 7)\n",
    "\n",
    "    # The 1st subplot is the silhouette plot\n",
    "    # The silhouette coefficient can range from -1, 1 but in this example all\n",
    "    # lie within [-0.1, 1]\n",
    "    ax1.set_xlim([-0.1, 1])\n",
    "    # The (n_clusters+1)*10 is for inserting blank space between silhouette\n",
    "    # plots of individual clusters, to demarcate them clearly.\n",
    "    ax1.set_ylim([0, len(X) + (n_clusters + 1) * 10])\n",
    "\n",
    "    # Initialize the clusterer with n_clusters value and a random generator\n",
    "    # seed of 10 for reproducibility.\n",
    "    clusterer = KMeans(n_clusters=n_clusters, random_state=10)\n",
    "    cluster_labels = clusterer.fit_predict(X)\n",
    "\n",
    "    # The silhouette_score gives the average value for all the samples.\n",
    "    # This gives a perspective into the density and separation of the formed\n",
    "    # clusters\n",
    "    silhouette_avg = silhouette_score(X, cluster_labels)\n",
    "    print(\"For n_clusters =\", n_clusters,\n",
    "          \"The average silhouette_score is :\", silhouette_avg)\n",
    "\n",
    "    # Compute the silhouette scores for each sample\n",
    "    sample_silhouette_values = silhouette_samples(X, cluster_labels)\n",
    "\n",
    "    y_lower = 10\n",
    "    for i in range(n_clusters):\n",
    "        # Aggregate the silhouette scores for samples belonging to\n",
    "        # cluster i, and sort them\n",
    "        ith_cluster_silhouette_values = \\\n",
    "            sample_silhouette_values[cluster_labels == i]\n",
    "\n",
    "        ith_cluster_silhouette_values.sort()\n",
    "\n",
    "        size_cluster_i = ith_cluster_silhouette_values.shape[0]\n",
    "        y_upper = y_lower + size_cluster_i\n",
    "\n",
    "        color = cm.nipy_spectral(float(i) / n_clusters)\n",
    "        ax1.fill_betweenx(np.arange(y_lower, y_upper),\n",
    "                          0, ith_cluster_silhouette_values,\n",
    "                          facecolor=color, edgecolor=color, alpha=0.7)\n",
    "\n",
    "        # Label the silhouette plots with their cluster numbers at the middle\n",
    "        ax1.text(-0.05, y_lower + 0.5 * size_cluster_i, str(i))\n",
    "\n",
    "        # Compute the new y_lower for next plot\n",
    "        y_lower = y_upper + 10  # 10 for the 0 samples\n",
    "\n",
    "    ax1.set_title(\"The silhouette plot for the various clusters.\")\n",
    "    ax1.set_xlabel(\"The silhouette coefficient values\")\n",
    "    ax1.set_ylabel(\"Cluster label\")\n",
    "\n",
    "    # The vertical line for average silhouette score of all the values\n",
    "    ax1.axvline(x=silhouette_avg, color=\"red\", linestyle=\"--\")\n",
    "\n",
    "    ax1.set_yticks([])  # Clear the yaxis labels / ticks\n",
    "    ax1.set_xticks([-0.1, 0, 0.2, 0.4, 0.6, 0.8, 1])\n",
    "\n",
    "    plt.suptitle((\"Silhouette analysis for KMeans clustering on sample data \"\n",
    "        f\"with n_clusters = {n_clusters}, score={silhouette_avg}\"),\n",
    "        fontsize=14, fontweight='bold')\n",
    "\n",
    "\n",
    "plt.show()\n",
    "\n",
    "# Again, all scores are close to zero."
   ]
  },
  {
   "cell_type": "markdown",
   "id": "a79d67f1",
   "metadata": {},
   "source": [
    "## Choosing K: The Gap Statistic\n",
    "There is one last method worth covering for picking K, the so-called Gap statistic. The computation for the gap statistic builds on the sum-of-squares established in the Elbow method discussion, and compares it to the sum-of-squares of a \"null distribution,\" that is, a random set of points with no clustering. "
   ]
  },
  {
   "cell_type": "code",
   "execution_count": 76,
   "id": "144fb1cd",
   "metadata": {},
   "outputs": [
    {
     "name": "stdout",
     "output_type": "stream",
     "text": [
      "Optimal number of clusters: 10\n"
     ]
    }
   ],
   "source": [
    "import numpy as np\n",
    "from sklearn.cluster import KMeans\n",
    "\n",
    "def gap_statistic(n):\n",
    "    \"\"\"\n",
    "    Calculates the gap statistic for K-means clustering.\n",
    "    \"\"\"\n",
    "    # Find the optimal K for K-means clustering using elbow method\n",
    "    kmeans_kwargs = {\"init\": \"random\", \"n_init\": 10, \"max_iter\": 300, \"random_state\": 42}\n",
    "    sse = []\n",
    "    for k in range(1, 11):\n",
    "        kmeans = KMeans(n_clusters=k, **kmeans_kwargs)\n",
    "        kmeans.fit(X)\n",
    "        sse.append(kmeans.inertia_)\n",
    "\n",
    "    # Calculate the gap statistic for K-means clustering\n",
    "    reference_data = np.random.rand(*X.shape)\n",
    "    gaps = []\n",
    "    for k in range(1, 11):\n",
    "        kmeans = KMeans(n_clusters=k, **kmeans_kwargs)\n",
    "        kmeans.fit(X)\n",
    "        Wk = np.log(kmeans.inertia_)\n",
    "        reference_sses = []\n",
    "        for i in range(10):\n",
    "            kmeans_ref = KMeans(n_clusters=k, **kmeans_kwargs)\n",
    "            kmeans_ref.fit(reference_data)\n",
    "            reference_sses.append(np.log(kmeans_ref.inertia_))\n",
    "        Wk_ref = np.mean(reference_sses)\n",
    "        sk = np.sqrt(np.mean((reference_sses - Wk_ref) ** 2))\n",
    "        gap = Wk_ref - Wk\n",
    "        gaps.append(gap - sk)\n",
    "\n",
    "    # Find the optimal K using the gap statistic\n",
    "    optimal_k = np.argmax(gaps) + 1\n",
    "    \n",
    "    return optimal_k\n",
    "\n",
    "optimal_k = gap_statistic(X)\n",
    "print(f\"Optimal number of clusters: {optimal_k}\")\n"
   ]
  },
  {
   "cell_type": "markdown",
   "id": "dc72dc19",
   "metadata": {},
   "source": [
    "**Using Cluster Analysis**: The similar books will be grouped togther.\n",
    "\n",
    "**Setting the number of group to 6 **: We use KMeans clustering algorithm in the form of MiniBatchKmeans"
   ]
  },
  {
   "cell_type": "code",
   "execution_count": 73,
   "id": "5d3ab4ce",
   "metadata": {},
   "outputs": [],
   "source": [
    "from sklearn.cluster import MiniBatchKMeans"
   ]
  },
  {
   "cell_type": "code",
   "execution_count": 77,
   "id": "6b1b328d",
   "metadata": {},
   "outputs": [],
   "source": [
    "n_clus = 6\n",
    "km = MiniBatchKMeans(n_clusters = n_clus, random_state = 42, max_iter = 1000)\n",
    "y_kmeans = km.fit_predict(df[embedding])\n",
    "df['kmeans_cluster']= y_kmeans"
   ]
  },
  {
   "cell_type": "markdown",
   "id": "25c48377",
   "metadata": {},
   "source": [
    "## Cluster Profiling"
   ]
  },
  {
   "cell_type": "markdown",
   "id": "b797c7e1",
   "metadata": {},
   "source": [
    "Examine the most representative book from each cluster to see if the clustering work effectively.\n",
    "\n",
    "\n",
    "\n"
   ]
  },
  {
   "cell_type": "code",
   "execution_count": 78,
   "id": "eb72718d",
   "metadata": {
    "scrolled": false
   },
   "outputs": [
    {
     "name": "stdout",
     "output_type": "stream",
     "text": [
      "************* \n",
      "- CLUSTER  0\n",
      "*************\n",
      "Ruby Lennox begins narrating her life at the moment of conception, and from there takes us on a whirlwind tour of the twentieth century as seen through the eyes of an English girl determined to learn about her family and its secrets.\n",
      "--\n",
      "How do you handle an encounter with Medusa on the New Jersey interstate? What's the best way to take down a minotaur? Become an expert on everything in Percy's world with this must-have guide to the Percy Jackson and the Olympians series. Complete with interviews, puzzles, games, and original short stories by Rick Riordan.\n",
      "--\n",
      "Enzo knows he is different from other dogs: a philosopher with a nearly human soul (and an obsession with opposable thumbs), he has educated himself by watching television extensively, and by listening very closely to the words of his master, Denny Swift, an up-and-coming race car driver.\n",
      "Through Denny, Enzo has gained tremendous insight into the human condition, and he sees that life, like racing, isn't simply about going fast. On the eve of his death, Enzo takes stock of his life, recalling all that he and his family have been through.\n",
      "A heart-wrenching but deeply funny and ultimately uplifting story of family, love, loyalty, and hope, The Art of Racing in the Rainis a beautifully crafted and captivating look at the wonders and absurdities of human life...as only a dog could tell it.\n",
      "--\n",
      "Ryan lowers his lips to my ear. \"Dance with me, Beth.\"\n",
      "\"No.\" I whisper the reply. I hate him and I hate myself for wanting him to touch me again....\n",
      "\"I dare you...\"\n",
      "If anyone knew the truth about Beth Risk's home life, they'd send her mother to jail and seventeen-year-old Beth who knows where. So she protects her mom at all costs. Until the day her uncle swoops in and forces Beth to choose between her mom's freedom and her own happiness. That's how Beth finds herself living with an aunt who doesn't want her and going to a school that doesn't understand her. At all. Except for the one guy who shouldn't get her, but does....\n",
      "Ryan Stone is the town golden boy, a popular baseball star jock-with secrets he can't tell anyone. Not even the friends he shares everything with, including the constant dares to do crazy things. The craziest? Asking out the Skater girl who couldn't be less interested in him.\n",
      "But what begins as a dare becomes an intense attraction neither Ryan nor Beth expected. Suddenly, the boy with the flawless image risks his dreams-and his life-for the girl he loves, and the girl who won't let anyone get too close is daring herself to want it all....\n",
      "--\n",
      "In this thrilling new novel from the author of Industrial Magic, a pregnant werewolf may have unwittingly unleashed Jack the Ripper on twenty-first-century--and become his next target.\n",
      "Ever since she discovered she's pregnant, Elena Michaels has been on edge. After all, she's never heard of another living female werewolf, let alone one who's given birth. But thankfully, her expertise is needed to retrieve a stolen letter allegedly written by Jack the Ripper. As a distraction, the job seems simple enough--only the letter contains a portal to Victorian London's underworld, which Elena inadvertently triggers--unleashing a vicious killer and a pair of zombie thugs.\n",
      "Now Elena must find a way to seal the portal before the unwelcome visitors get what they're looking for--which, for some unknown reason, is Elena.\n",
      "--\n",
      "For centuries mystical creatures of all description were gathered into a hidden refuge called Fablehaven to prevent their extinction. The sanctuary survives today as one of the last strongholds of true magic. Enchanting? Absolutely. Exciting? You bet. Safe? Well, actually, quite the opposite.\n",
      "Kendra and her brother, Seth, have no idea that their grandfather is the current caretaker of Fablehaven. Inside the gated woods, ancient laws keep relative order among greedy trolls, mischievous satyrs, plotting witches, spiteful imps, and jealous fairies. However, when the rules get broken -- Seth is a bit too curious and reckless for his own good -- powerful forces of evil are unleashed, and Kendra and her brother face the greatest challenge of their lives. To save their family, Fablehaven, and perhaps even the world, Kendra and Seth must find the courage to do what they fear most.\n",
      "--\n",
      "In this companion volume to \"A Wrinkle In Time\" (Newbery Award winner) and \"A Wind In The Door\" fifteen-year-old Charles Wallace and the unicorn Gaudior undertake a perilous journey through time in a desperate attempt to stop the destruction of the world by the mad dictator Madog Branzillo. They are not alone in their quest. Charles Wallace's sister, Meg--grown and expecting her first child, but still able to enter her brother's thoughts and emotions by \"kything\"--goes with him in spirit.But in overcoming the challenges, Charles Wallace must face the ultimate test of his faith and will, as he is sent within four people from another time, there to search for a way to avert the tragedy threatening them all.\n",
      "--\n",
      "\"One night, after thinking it over for some time, Harold decided to go for a walk in the moonlight.\" So begins this gentle story that shows just how far your imagination can take you. Armed only with an oversized purple crayon, young Harold draws himself a landscape full of beauty and excitement. But this is no hare-brained, impulsive flight of fantasy. Cherubic, round-headed Harold conducts his adventure with the utmost prudence, letting his imagination run free, but keeping his wits about him all the while. He takes the necessary purple-crayon precautions: drawing landmarks to ensure he won't get lost; sketching a boat when he finds himself in deep water; and creating a purple pie picnic when he feels the first pangs of hunger.\n",
      "--\n",
      "Laura and her family are head to the Dakota Territory for a chance to own their own land--and stop moving. The new town of De Smet is filling up with settlers lured west by the promise of free land, and the Ingalls family must do whatever it takes too defend their claim.\n",
      "--\n",
      "It's Diary of a Wimpy Kid for girls in this hilarious novel!\n",
      "Nikki's Road to Stardom Checklist:\n",
      "[Tick] Diva showdown\n",
      "[Tick] BFF feud\n",
      "[Tick] Talented entourage to back up VIP (Very Important Pop Star!)\n",
      "Just when I was starting to get used to life at my new school, this talent competition could change everything!\n",
      "--\n",
      "************* \n",
      "- CLUSTER  1\n",
      "*************\n",
      "During a summer party at the family farm in the English countryside, sixteen-year-old Laurel Nicolson has escaped to her childhood tree house and is happily dreaming of the future. She spies a stranger coming up the long road to the farm and watches as her mother speaks to him. Before the afternoon is over, Laurel will witness a shocking crime. A crime that challenges everything she knows about her family and especially her mother, Dorothy--her vivacious, loving, nearly perfect mother.\n",
      "Now, fifty years later, Laurel is a successful and well-regarded actress living in London. The family is gathering at Greenacres farm for Dorothy's ninetieth birthday. Realizing that this may be her last chance, Laurel searches for answers to the questions that still haunt her from that long-ago day, answers that can only be found in Dorothy's past.\n",
      "Dorothy's story takes the reader from pre-WWII England through the blitz, to the '60s and beyond. It is the secret history of three strangers from vastly different worlds--Dorothy, Vivien, and Jimmy--who meet by chance in wartime London and whose lives are forever entwined. The Secret Keeper explores longings and dreams and the unexpected consequences they sometimes bring. It is an unforgettable story of lovers and friends, deception and passion that is told--in Morton's signature style--against a backdrop of events that changed the world.\n",
      "--\n",
      "She does not know what awaits her at the enemy's gate.\n",
      "Elisa is a hero.\n",
      "She led her people to victory over a terrifying, sorcerous army. Her place as the country's ruler should be secure. But it isn't.\n",
      "Her enemies come at her like ghosts in a dream, from foreign realms and even from within her own court. And her destiny as the chosen one has not yet been fulfilled.\n",
      "To conquer the power she bears, once and for all, Elisa must follow a trial of long-forgotten--and forbidden--clues, from the deep, hidden catacombs of her own city to the treacherous seas. With her go a one-eyed spy, a traitor, and the man whom--despite everything--she is falling in love with.\n",
      "If she's lucky, she will return from this journey. But there will be a cost.\n",
      "--\n",
      "Rose Drayton lives on the Edge, between the world of the Broken (where people drive cars, shop at Wal-Mart, and magic is a fairy tale) and the Weird (where blueblood aristocrats rule, changelings roam, and the strength of your magic can change your destiny). Only Edgers like Rose can easily travel from one world to the next, but they never truly belong in either.\n",
      "Rose thought if she practiced her magic, she could build a better life for herself. But things didn't turn out how she planned, and now she works a minimum wage, off the books job in the Broken just to survive. Then Declan Camarine, a blueblood noble straight out of the deepest part of the Weird, comes into her life, determined to have her (and her power).\n",
      "But when a terrible danger invades the Edge from the Weird, a flood of creatures hungry for magic, Declan and Rose must work together to destroy them--or they'll devour the Edge and everyone in it.\n",
      "--\n",
      "Mr. Hoppy is in love with Mrs. Silver, but her heart belongs to Alfie, her pet tortoise. Mr. Hoppy is too shy to approach Mrs. Silver, until one day he comes up with a brilliant idea to win her heart. If Mr. Hoppy's plan works, Mrs. Silver will certainly fall in love with him. But it's going to take one hundred and forty tortoises, an ancient spell, and a little bit of magic.\n",
      "--\n",
      "In this latest #1 international bestseller, the hilarious and twisted author of Soul Music delivers readers once again into Discworld. Since the captain of the City Watch has left the force to become a gentleman, Discworld is in search of a few good cops. And being a cop in this unpredictable universe is no easy job, so the search goes on for a few good trolls, dwarves, and such.\n",
      "--\n",
      "A fantastic starter set for new Tolkien fans or readers interested in rediscovering the magic of Middle-earth, this three-volume box set features paperback editions of the complete trilogy -- The Fellowship of the Ring, The Two Towers,and The Return of the King-- each with art from the New Line Productions feature film on the cover.\n",
      "J.R.R. Tolkien's The Lord of the Ringstrilogy is a genuine masterpiece. The most widely read and influential fantasy epic of all time, it is also quite simply one of the most memorable and beloved tales ever told. Originally published in 1954, The Lord of the Ringsset the framework upon which all epic/quest fantasy since has been built. Through the urgings of the enigmatic wizard Gandalf, young hobbit Frodo Baggins embarks on an urgent, incredibly treacherous journey to destroy the One Ring. This ring -- created and then lost by the Dark Lord, Sauron, centuries earlier -- is a weapon of evil, one that Sauron desperately wants returned to him. With the power of the ring once again his own, the Dark Lord will unleash his wrath upon all of Middle-earth. The only way to prevent this horrible fate from becoming reality is to return the Ring to Mordor, the only place it can be destroyed. Unfortunately for our heroes, Mordor is also Sauron's lair. The Lord of the Ringstrilogy is essential reading not only for fans of fantasy but for lovers of classic literature as well...\n",
      "Librarian's note: this edition shares an ISBN with the \u0001published by Houghton Mifflin Company\n",
      "--\n",
      "2 cassettes / 2 hours\n",
      "Read by F. Murray Abraham\n",
      "\"Allah!\"\n",
      "With that shrill cry, three Muslim terrorists blow up a key Soviet oil complex, creating a critical oil shortage that threatens the stability of the USSR.\n",
      "To offer the effects of this disaster, members of the Politburo and the KGB devise a brilliant plan of diplomatic trickery - a sequence of events designed to pit the NATO allies against each other - a distraction calculated to enable the Soviets to seize all the oil in the Persian Gulf.\n",
      "But as this spellbinding story of international intrigue and global politics nears its climax, the Soviets are faced with another prospect, one they hadn't planned on: a full-scale conflict in which nobody can win.\n",
      "--\n",
      "Sadie White's summer job isn't going to be on the beach life-guarding or working at rental booths like most kids her age. With her single mother's increasing pregnancy and refusal to work, Sadie has to take over her mother's job as a domestic servant for one of the wealthy summer families on a nearby island.\n",
      "When the family arrives at their summer getaway, Sadie is surprised to learn that the owner of the house is Jax Stone, one of the hottest teen rockers in the world. If Sadie hadn't spent her life raising her mother and taking care of the house she might have been normal enough to be excited about working for a rock star.\n",
      "Even though Sadie isn't impressed by Jax's fame, he is drawn to her. Everything about Sadie fascinates Jax but he fights his attraction. Relationships never work in his world and as badly as he wants Sadie, he believes she deserves more. By the end of the summer, Jax discovers he can't breathe without Sadie.\n",
      "--\n",
      "Anderson Lake is a company man, AgriGen's Calorie Man in Thailand. Under cover as a factory manager, Anderson combs Bangkok's street markets in search of foodstuffs thought to be extinct, hoping to reap the bounty of history's lost calories. There, he encounters Emiko...\n",
      "Emiko is the Windup Girl, a strange and beautiful creature. One of the New People, Emiko is not human; instead, she is an engineered being, creche-grown and programmed to satisfy the decadent whims of a Kyoto businessman, but now abandoned to the streets of Bangkok. Regarded as soulless beings by some, devils by others, New People are slaves, soldiers, and toys of the rich in a chilling near future in which calorie companies rule the world, the oil age has passed, and the side effects of bio-engineered plagues run rampant across the globe.\n",
      "What Happens when calories become currency? What happens when bio-terrorism becomes a tool for corporate profits, when said bio-terrorism's genetic drift forces mankind to the cusp of post-human evolution? Award-winning author Paolo Bacigalupi delivers one of the most highly acclaimed science fiction novels of the twenty-first century.\n",
      "--\n",
      "Dear Luke,\n",
      "First let me say--I love you... I didn't want to leave you... \n",
      "Luke Richardson has returned home after burying Natalie, his beloved wife of sixteen years, ready to face the hard job of raising their three children alone. But there's something he's not prepared for--a blue envelope with his name scrawled across the front in Natalie's handwriting, waiting for him on the floor of their suburban Michigan home.\n",
      "The letter inside, written on the first day of Natalie's cancer treatment a year ago, turns out to be the first of many. Luke is convinced they're genuine, but who is delivering them? As his obsession with the letters grows, Luke uncovers long-buried secrets that make him question everything he knew about his wife and their family. But the revelations also point the way toward a future where love goes on--in written words, in memories, and in the promises it's never too late to keep.\n",
      "--\n",
      "************* \n",
      "- CLUSTER  2\n",
      "*************\n"
     ]
    },
    {
     "name": "stdout",
     "output_type": "stream",
     "text": [
      "Once a week, an eclectic group of women comes together at a New York City yarn shop to work on their latest projects - and share the stories of their lives...\n",
      "At the center of Walker and Daughter is the shop's owner, Georgia, who is overwhelmed with juggling the store and single-handedly raising her teenage daughter. Happy to escape the demands of her life, she looks forward to her Friday Night Knitting Club, where she and her friends - Anita, Peri, Darwin, Lucie, and K.C. - exchange knitting tips, jokes, and their deepest secrets. But when the man who once broke Georgia's heart suddenly shows up, demanding a role in their daughter's life, her world is shattered.\n",
      "Luckily, Georgia's friends are there for encouragement, sharing their own tales of intimacy, heartbreak, and miracle making. And when the unthinkable happens, these women will discover that what they've created isn't just a knitting club; its a sisterhood.\n",
      "--\n",
      "A novel of serendipity, of fortunes won and lost, and of the spectre of imprisonment that hangs over all aspects of Victorian society, Charles Dickens's Little Dorritis edited with an introduction by Stephen Wall in Penguin Classics.\n",
      "When Arthur Clennam returns to England after many years abroad, he takes a kindly interest in Amy Dorrit, his mother's seamstress, and in the affairs of Amy's father, William Dorrit, a man of shabby grandeur, long imprisoned for debt in Marshalsea prison. As Arthur soon discovers, the dark shadow of the prison stretches far beyond its walls to affect the lives of many, from the kindly Mr Panks, the reluctant rent-collector of Bleeding Heart Yard, and the tipsily garrulous Flora Finching, to Merdle, an unscrupulous financier, and the bureaucratic Barnacles in the Circumlocution Office. A masterly evocation of the state and psychology of imprisonment, Little Dorritis one of the supreme works of Dickens's maturity.\n",
      "Stephen Wall's introduction examines Dickens's transformation of childhood memories of his father's incarceration in the Marshalsea debtors' prison. This revised edition includes expanded notes, appendices and suggestion for further reading by Helen Small, a chronology of Dickens's life and works, and original illustrations.\n",
      "Charles Dickens is one of the best-loved novelists in the English language, whose 200th anniversary was celebrated in 2012. His most famous books, including Oliver Twist, Great Expectations, A Tale of Two Cities, David Copperfieldand The Pickwick Papers, have been adapted for stage and screen and read by millions.\n",
      "If you enjoyed Little Dorrit, you might like Dickens's Barnaby Rudge, also available in Penguin Classics.\n",
      "--\n",
      "Sometimes dead is better....When the Creeds move into a beautiful old house in rural Maine, it all seems too good to be true: physician father, beautiful wife, charming little daughter, adorable infant son -- and now an idyllic home. As a family, they've got it all...right down to the friendly cat. But the nearby woods hide a blood-chilling truth -- more terrifying than death itself...and hideously more powerful.\n",
      "--\n",
      "Enigmatic and sexy, Professor Gabriel Emerson is a well respected Dante specialist by day, but by night he devotes himself to an uninhibited life of pleasure. He uses his notorious good looks and sophisticated charm to gratify his every whim, but is secretly tortured by his dark past and consumed by the profound belief that he is beyond all hope of redemption.\n",
      "When the sweet and innocent Julia Mitchell enrolls as his graduate student, his attraction and mysterious connection to her not only jeopardizes his career, but sends him on a journey in which his past and his present collide.\n",
      "An intriguing and sinful exploration of seduction, forbidden love and redemption, \"Gabriel's Inferno\" is a captivating and wildly passionate tale of one man's escape from his own personal hell as he tries to earn the impossible...forgiveness and love.\n",
      "--\n",
      "A groundbreaking work of investigation and cultural history that may change the way America thinks about the way it eats.\n",
      "Are we what we eat? To a degree both engrossing and alarming, the story of fast food is the story of postwar America. Though created by a handful of mavericks, the fast food industry has triggered the homogenization of our society. Fast food has hastened the malling of our landscape, widened the chasm between rich and poor, fueled an epidemic of obesity, and propelled the juggernaut of American cultural imperialism abroad.\n",
      "That's a lengthy list of charges, but Eric Schlosser makes them stick with an artful mix of first-rate reportage, wry wit, and careful reasoning. Schlosser's myth-shattering survey stretches from the California subdivisions where the business was born to the industrial corridor along the New Jersey Turnpike where many of fast food's flavors are concocted. He hangs out with the teenagers who make the restaurants run and communes with those unlucky enough to hold America's most dangerous job -- meatpacker. He travels to Las Vegas for a giddily surreal franchisers' convention where Mikhail Gorbachev delivers the keynote address. He even ventures to England and Germany to clock the rate at which those countries are becoming fast food nations.\n",
      "Along the way, Schlosser unearths a trove of fascinating, unsettling truths -- from the unholy alliance between fast food and Hollywood to the seismic changes the industry has wrought in food production, popular culture, and even real estate. He also uncovers the fast food chains' efforts to reel in the youngest, most susceptible consumers even while they hone their institutionalized exploitation of teenagers and minorities. Schlosser then turns a critical eye toward the hot topic of globalization -- a phenomenon launched by fast food. Fast Food Nation is a groundbreaking work of investigation and cultural history that may change the way America thinks about the way it eats.\n",
      "--\n",
      "Sarah Nickerson is like any other career-driven supermom in Welmont, the affluent Boston suburb where she leads a hectic but charmed life with her husband Bob, faithful nanny, and three children - Lucy, Charlie, and nine-month-old Linus. Between recruiting the best and brightest minds as the vice president of human resources at Berkley Consulting; shuttling the kids to soccer, day care, and piano lessons; convincing her son's teacher that he may not, in fact, have ADD; and making it home in time for dinner, it's a wonder this over-scheduled, over-achieving Harvard graduate has time to breathe.\n",
      "A self-confessed balloon about to burst, Sarah miraculously manages every minute of her life like an air traffic controller. Until one fateful day, while driving to work and trying to make a phone call, she looks away from the road for one second too long. In the blink of an eye, all the rapidly moving parts of her jam-packed life come to a screeching halt. \n",
      "A traumatic brain injury completely erases the left side of her world, and for once, Sarah relinquishes control to those around her, including her formerly absent mother. Without the ability to even floss her own teeth, she struggles to find answers about her past and her uncertain future. \n",
      "Now, as she wills herself to regain her independence and heal, Sarah must learn that her real destiny - her new, true life - may in fact lie far from the world of conference calls and spreadsheets. And that a happiness and peace greater than all the success in the world is close within reach, if only she slows down long enough to notice.\n",
      "--\n",
      "Maybe it was a grandparent, or a teacher or a colleague. Someone older, patient and wise, who understood you when you were young and searching, and gave you sound advice to help you make your way through it. For Mitch Albom, that person was Morrie Schwartz, his college professor from nearly twenty years ago.\n",
      "Maybe, like Mitch, you lost track of this mentor as you made your way, and the insights faded. Wouldn't you like to see that person again, ask the bigger questions that still haunt you?\n",
      "Mitch Albom had that second chance. He rediscovered Morrie in the last months of the older man's life. Knowing he was dying of ALS - or motor neurone disease - Mitch visited Morrie in his study every Tuesday, just as they used to back in college. Their rekindled relationship turned into one final 'class': lessons in how to live.\n",
      "--\n",
      "For sixty years, Jews have prospered in the Federal District of Sitka, a \"temporary\" safe haven created in the wake of revelations of the Holocaust and the shocking 1948 collapse of the fledgling state of Israel. Now the District is set to revert to Alaskan control, and their dream is coming to an end: once again the tides of history threaten to sweep them up and carry them off into the unknown.\n",
      "For sixty years, Jewish refugees and their descendants have prospered in the Federal District of Sitka, a \"temporary\" safe haven created in the wake of revelations of the Holocaust and the shocking 1948 collapse of the fledgling state of Israel. Proud, grateful, and longing to be American, the Jews of the Sitka District have created their own little world in the Alaskan panhandle, a vibrant, gritty, soulful, and complex frontier city that moves to the music of Yiddish. For sixty years they have been left alone, neglected and half-forgotten in a backwater of history. Now the District is set to revert to Alaskan control, and their dream is coming to an end: once again the tides of history threaten to sweep them up and carry them off into the unknown.\n",
      "But homicide detective Meyer Landsman of the District Police has enough problems without worrying about the upcoming Reversion. His life is a shambles, his marriage a wreck, his career a disaster. He and his half-Tlingit partner, Berko Shemets, can't catch a break in any of their outstanding cases. Landsman's new supervisor is the love of his life--and also his worst nightmare. And in the cheap hotel where he has washed up, someone has just committed a murder--right under Landsman's nose. Out of habit, obligation, and a mysterious sense that it somehow offers him a shot at redeeming himself, Landsman begins to investigate the killing of his neighbor, a former chess prodigy. But when word comes down from on high that the case is to be dropped immediately, Landsman soon finds himself contending with all the powerful forces of faith, obsession, hopefulness, evil, and salvation that are his heritage--and with the unfinished business of his marriage to Bina Gelbfish, the one person who understands his darkest fears.\n",
      "At once a gripping whodunit, a love story, an homage to 1940s noir, and an exploration of the mysteries of exile and redemption, The Yiddish Policemen's Union is a novel only Michael Chabon could have written.\n",
      "--\n",
      "Virginia Lee Burton won the Caldecott Medal in 1943 for her memorable picture book The Little House, a poignant story of a cute country cottage that becomes engulfed by the city that grows up around it. The house has an expressive face of windows and doors, and even the feelings of a person, so she's sad when she's surrounded by the dirty, noisy city's hustle and bustle: \"She missed the field of daisies / and the apple trees dancing in the moonlight.\" Fortunately, there's a happy ending, as the house is taken back to the country where she belongs.\n",
      "--\n",
      "Northanger Abbeyis often referred to as Jane Austen's Gothic parody. Decrepit castles, locked rooms, mysterious chests, cryptic notes, and tyrannical fathers give the story an uncanny air, but one with a decidedly satirical twist.\n",
      "The story's heroine is Catherine Morland, an innocent seventeen-year-old woman from a country parsonage. While spending a few weeks in Bath with a family friend, Catherine meets and falls in love with Henry Tilney, who invites her to visit his family estate, Northanger Abbey. Once there, Catherine, a great reader of Gothic thrillers, lets the shadowy atmosphere of the old mansion fill her mind with terrible suspicions. What is the mystery surrounding the death of Henry's mother? Is the family concealing a terrible secret within the elegant rooms of the Abbey? Can she trust Henry, or is he part of an evil conspiracy? Catherine finds dreadful portents in the most prosaic events, until Henry persuades her to see the peril in confusing life with art.\n",
      "--\n",
      "************* \n",
      "- CLUSTER  3\n",
      "*************\n",
      "Y'all need to get yourselves together. Here's a newsflash from the only High Priestess you have left at this dang school: Zoey isn't dead. And believe me, I know dead. I've been there, done that and got the fricken tee-shirt.\n",
      "Zoey Redbird is the youngest High Priestess in House of Night history and is the only person--vamp or fledgling--that can stop the evil Neferet from raising all kinds of immortal trouble. And she might just have a chance if she wasn't so busy being dead.Well, dead is too strong a word. Stevie Rae knows she can bring her BFF back from her unscheduled va-cay in the Otherworld. But it's going to take a lot more than hoping to bring Zoey back. Stevie Rae will have to give up a few secrets of her own...\n",
      "--\n",
      "In the latest masterpiece by Emma Donoghue, bestselling author of Room, an English nurse brought to a small Irish village to observe what appears to be a miracle-a girl said to have survived without food for months-soon finds herself fighting to save the child's life.\n",
      "Tourists flock to the cabin of eleven-year-old Anna O'Donnell, who believes herself to be living off manna from heaven, and a journalist is sent to cover the sensation. Lib Wright, a veteran of Florence Nightingale's Crimean campaign, is hired to keep watch over the girl.\n",
      "Written with all the propulsive tension that made Rooma huge bestseller, THE WONDER works beautifully on many levels--a tale of two strangers who transform each other's lives, a powerful psychological thriller, and a story of love pitted against evil.\n",
      "The latest masterpiece by Emma Donoghue, bestselling author of Room*.\n",
      "--\n",
      "\"How about a story? Spin us a yarn.\"\n",
      "Instantly, Phoebe Winterbottom came to mind. \"I could tell you an extensively strange story,\" I warned.\n",
      "\"Oh, good!\" Gram said. \"Delicious!\"\n",
      "And that is how I happened to tell them about Phoebe, her disappearing mother, and the lunatic.\n",
      "As Sal entertains her grandparents with Phoebe's outrageous story, her own story begins to unfold -- the story of a thirteen-year-old girl whose only wish is to be reunited with her missing mother.\n",
      "In her own award-winning style, Sharon Creech intricately weaves together two tales, one funny, one bittersweet, to create a heartwarming, compelling, and utterly moving story of love, loss, and the complexity of human emotion.\n",
      "--\n",
      "During an unnamed battle, 18-year-old private Henry Fleming survives what he considers to be a lost cause by escaping into a nearby wood, deserting his battalion. He finds a group of injured men in which one of the group, the \"Tattered Soldier\", asks Henry, who's often referred to as \"The Youth\", where he's wounded. Henry, embarrassed that he's whole, wanders thru the forest. He ultimately decides that running was the best thing, & that he's a small part of the army responsible for saving himself. When he learns that his battalion had won the battle, Henry feels guilty. As a result, he returns to his battalion & is injured when a cannon operator hits him in the head because he wouldn't let go of his arm. When he returns to camp, the other soldiers believe he was harmed by a bullet grazing him in battle. The next morning he goes into battle for a 3rd time. While looking for a stream from which to attain water, he discovers from the commanding officer that his regiment has a lackluster reputation. The officer speaks casually about sacrificing Henry's regiment because they're nothing more than \"mule drivers\" & \"mud diggers\". With no regiments to spare, the general orders his men forward. In the final battle, Henry becomes one of the best fighters in his battalion as well as the flag bearer, finally proving his courage as a man.\n",
      "--\n",
      "The sky is dark with wings . . .\n",
      "And time is running out for Luce and Daniel.\n",
      "In order to stop Lucifer from erasing the past, they must find the place where the Fall began. Only Luce can break the curse, and it is her choice alone that will decide all of their fates.\n",
      "But as Dark Forces gather, great sacrifices will have to be made in this final, epic struggle . . .\n",
      "In the fight for Luce, and for Love, who will win?\n",
      "The astonishing climax to the Fallen series. Heaven can't wait any longer.\n",
      "--\n",
      "alternate cover for ISBN \u0001\n",
      "The haunting, humorous and tender story of the brief lives of the five entrancing Lisbon sisters, The Virgin Suicides, now a major film, is Jeffrey Eugenides's classic debut novel.\n",
      "The shocking thing about the girls was how nearly normal they seemed when their mother let them out for the one and only date of their lives. Twenty years on, their enigmatic personalities are embalmed in the memories of the boys who worshipped them and who now recall their shared adolescence: the brassiere draped over a crucifix belonging to the promiscuous Lux; the sisters' breathtaking appearance on the night of the dance; and the sultry, sleepy street across which they watched a family disintegrate and fragile lives disappear.\n",
      "--\n",
      "Marvel Comics presents the new Ms. Marvel, the groundbreaking heroine that has become an international sensation!\n",
      "Kamala Khan is an ordinary girl from Jersey City -- until she's suddenly empowered with extraordinary gifts. But who truly is the new Ms. Marvel? Teenager? Muslim? Inhuman? Find out as she takes the Marvel Universe by storm! When Kamala discovers the dangers of her newfound powers, she unlocks a secret behind them, as well. Is Kamala ready to wield these immense new gifts? Or will the weight of the legacy before her be too much to bear? Kamala has no idea, either. But she's comin' for you, Jersey!\n",
      "It's history in the making from acclaimed writer G. Willow Wilson (Air, Cairo) and beloved artist Adrian Alphona (RUNAWAYS)! Collecting MS. MARVEL (2014) #1-5 and material from ALL-NEW MARVEL NOW! POINT ONE #1.\n",
      "--\n",
      "From award-winning writer Brian K. Vaughan (Pride of Baghdad, Ex Machina) and critically acclaimed artist Fiona Staples (Mystery Society, Done to Death), Sagais sweeping tale of one young family fighting to find their place in the universe. Thanks to her star-crossed parents Marko and Alana, newborn baby Hazel has already survived lethal assassins, rampaging armies, and horrific monsters, but in the cold vastness of outer space, the little girl encounters her strangest adventure yet... grandparents.\n",
      "Collecting: Saga7-12\n",
      "--\n",
      "They watched Danilo Silva for days before they finally grabbed him. He was living alone, a quiet life on a shady street in Brazil; a simple life in a modest home, certainly not one of luxury. Certainly no evidence of the fortune they thought he had stolen. He was much thinner and his face had been altered. He spoke a different language, and spoke it very well.\n",
      "But Danilo had a past with many chapters. Four years earlier he had been Patrick Lanigan, a young partner in a prominent Biloxi law firm. He had a pretty wife, a new daughter, and a bright future. Then one cold winter night Patrick was trapped in a burning car and died a horrible death. When he was buried his casket held nothing more than his ashes.\n",
      "From a short distance away, Patrick watched his own burial. Then he fled. Six weeks later, a fortune was stolen from his ex-law firm's offshore account. And Patrick fled some more.\n",
      "But they found him.\n",
      "--\n",
      "Though he battled for seven years to marry her, Henry is disenchanted with Anne Boleyn. She has failed to give him a son and her sharp intelligence and audacious will alienate his old friends and the noble families of England. When the discarded Katherine dies in exile from the court, Anne stands starkly exposed, the focus of gossip and malice.\n",
      "At a word from Henry, Thomas Cromwell is ready to bring her down. Over three terrifying weeks, Anne is ensnared in a web of conspiracy, while the demure Jane Seymour stands waiting her turn for the poisoned wedding ring. But Anne and her powerful family will not yield without a ferocious struggle. Hilary Mantel's Bring Up the Bodiesfollows the dramatic trial of the queen and her suitors for adultery and treason. To defeat the Boleyns, Cromwell must ally with his natural enemies, the papist aristocracy. What price will he pay for Anne's head?\n",
      "--\n",
      "************* \n",
      "- CLUSTER  4\n",
      "*************\n",
      "Continuing the epic of the Mayfair witches, this brilliantly imagined tale takes listeners on a wondrous journey back through the centuries.\n",
      "--\n",
      "To Libby Mason, Mr. Right has always meant Mr. Rich. A twenty seven-year-old publicist, she's barely able to afford her fashionable and fabulous lifestyle and often has to foot the bill for dates with Struggling Writer Nick, a sexy but perpetually strapped-for-cash guy she's dating (no commitments - really). So when Ed, Britain's wealthiest but stodgiest bachelor, enters the picture, her idea of the fairy tale romance is turned on it's head.\n",
      "Mr. Maybeis the tale of her heartfelt but hilarious deliberation, irresistibly chronicled by bestselling author Jane Green. On one hand, Nick makes up for his low bank-account balance by his performance in the sack, or in the bathtub, as the case may be. But life with him means little more than nightly trips to the bar, a dark and grungy apartment, and plenty of dull political tirades to boot. But those blue eyes, and that tender heart...\n",
      "On the other hand, there's Ed, whose luxurious house and gargantuan bank account are quite tempting to the starving Libby. But his unsavory mustache and bumbling ways make Libby wonder if the platinum AMEX and unlimited \"retail therapy\" are worth it. He may have fallen in love with her at first sight, but nothing seems to solve his lackluster performance in the sack - even speed reading The Joy of Sex. When the diamond shopping commences, Libby is forced to realize that the time for \"maybe\" is up.\n",
      "Taking romantic comedy to a hip, sparkling new level, Mr. Maybeis a classic tale of what happens to one girl when her heart and her head aren't looking for the same thing. With a laugh and minute and a heroine whose struggles in the dating jungle will remind you of your own, Mr. Maybe is a story that all will leave you smitten.\n",
      "--\n",
      "In Destined, the forces of Light and Dark collide as their epic struggle focuses on Tulsa's House of Night. Zoey is home where she belongs, safe with her Guardian Warrior, Stark, by her side - and preparing to face off against Neferet. Kalona has released his hold on Rephaim, and, through Nyx's gift of a human form, he and Stevie Rae are finally able to be together - if Rephaim can truly walk the path of the Goddess and stay free of his father's shadow.\n",
      "But is Zoey really safe? Does she truly know those who are closest to her? And will love win when it is tested by the very soul of Darkness?\n",
      "--\n",
      "Emma's struggle with an abusive home life came to a heart pounding conclusion in the final chapters of \"Reason to Breathe\". Now everyone in Weslyn knows Emma's secret, but Carol can't hurt Emma anymore. Some are still haunted by the horror of that night, and some must face the repercussions of their choices. Fans of Rebecca Donovan's debut novel will discover there's still much to learn about Emma's life.\n",
      "--\n",
      "First published over 50 years ago, J.R.R. Tolkien's 'The Hobbit' has become one of the best-loved books of all time. Now Tolkien's fantasy classic has been adapted into a fully painted graphic novel.\n",
      "'The Hobbit' is the story of Bilbo Baggins...a quiet and contented hobbit whose life is turned upside down when he joins the wizard Gandalf and thirteen dwarves on their quest to reclaim the dwarves' stolen treasure. It is a journey fraught with danger - and in the end it is Bilbo alone who must face the guardian of this treasure, the most-dreaded dragon Smaug.\n",
      "Illustrated in full colour throughout, and accompanied by the carefully abridged text of the original novel, this handsome authorised edition will introduce new generations to a magical masterpiece - and be treasured by Hobbit fans of all ages, everywhere.\n",
      "--\n",
      "Jo Becker has every reason to be content. She has three dynamic daughters, a loving marriage, and a rewarding career. But she feels a sense of unease. Then an old housemate reappears, sending Jo back to a distant past when she lived in a communal house in Cambridge, Massachusetts. Drawn deeper into her memories of that fateful summer in 1968, Jo begins to obsess about the person she once was. As she is pulled farther from her present life, her husband, and her world, Jo struggles against becoming enveloped by her past and its dark secret.\n",
      "\"Riveting . . . While I Was Gone [celebrates] what is impulsive in human nature.\"\n",
      "-The New York Times\n",
      "\"Miller weaves her themes of secrecy, betrayal, and forgiveness into a narrative that shines.\"\n",
      "-Time\n",
      "\"[While I Was Gone] swoops gracefully between the past and the present, between a woman's complex feelings about her husband and her equally complex fantasies-and fears-about another man. . . . [Miller writes] well about the trials of faith.\"\n",
      "-The New York Times Book Review\n",
      "\"Quietly gripping . . . Jo shines steadily as the flawed and thoroughly modern heroine. As in her 1986 novel, The Good Mother, Miller shows how impulses can fracture the family.\"\n",
      "-USA Today\n",
      "\"Marvelous . . . poignant . . . powerful.\"\n",
      "-Seattle Times/Post Intelligencer\n",
      "--\n",
      "Now in paperback, the New York Timesbestseller by one of rock's most provocative figures Scar Tissueis Anthony Kiedis's searingly honest memoir of a life spent in the fast lane.\n",
      "In 1983, four self-described \"knuckleheads\" burst out of the mosh-pitted mosaic of the neo-punk rock scene in L.A. with their own unique brand of cosmic hardcore mayhem funk. Over twenty years later, the Red Hot Chili Peppers, against all odds, have become one of the most successful bands in the world. Though the band has gone through many incarnations, Anthony Kiedis, the group's lyricist and dynamic lead singer, has been there for the whole roller-coaster ride. Whether he's recollecting the influence of the beautiful, strong women who have been his muses, or retracing a journey that has included appearances as diverse as a performance before half a million people at Woodstock or an audience of one at the humble compound of the exiled Dalai Lama, Kiedis shares a compelling story about the price of success and excess.\n",
      "Scar Tissueis a story of dedication and debauchery, of intrigue and integrity, of recklessness and redemption--a story that could only have come out of the world of rock.\n",
      "--\n",
      "Chimamanda Ngozi Adichie weaves together the lives of three characters swept up in the turbulence of a seminal moment in modern African history: Biafra's impassioned struggle to establish an independent republic in Nigeria in the 1960s, and the chilling violence that followed.\n",
      "A masterly, haunting new novel from a writer heralded by The Washington Post Book World as \"the 21st-century daughter of Chinua Achebe,\" Half of a Yellow Sun re-creates a seminal moment in modern African history: Biafra's impassioned struggle to establish an independent republic in Nigeria in the 1960s, and the chilling violence that followed.\n",
      "With astonishing empathy and the effortless grace of a natural storyteller, Chimamanda Ngozi Adichie weaves together the lives of three characters swept up in the turbulence of the decade. Thirteen-year-old Ugwu is employed as a houseboy for a university professor full of revolutionary zeal. Olanna is the professor's beautiful mistress, who has abandoned her life of privilege in Lagos for a dusty university town and the charisma of her new lover. And Richard is a shy young Englishman in thrall to Olanna's twin sister, an enigmatic figure who refuses to belong to anyone. As Nigerian troops advance and the three must run for their lives, their ideals are severely tested, as are their loyalties to one another.\n",
      "Epic, ambitious, and triumphantly realized, Half of a Yellow Sun is a remarkable novel about moral responsibility, about the end of colonialism, about ethnic allegiances, about class and race--and the ways in which love can complicate them all. Adichie brilliantly evokes the promise and the devastating disappointments that marked this time and place, bringing us one of the most powerful, dramatic, and intensely emotional pictures of modern Africa that we have ever had.\n",
      "--\n",
      "In a dark, dark wood\n",
      "Nora hasn't seen Clare for ten years. Not since Nora walked out of school one day and never went back.\n",
      "There was a dark, dark house\n",
      "Until, out of the blue, an invitation to Clare's hen do arrives. Is this a chance for Nora to finally put her past behind her?\n",
      "And in the dark, dark house there was a dark, dark room\n",
      "But something goes wrong. Very wrong.\n",
      "And in the dark, dark room.... \n",
      "Some things can't stay secret for ever.\n",
      "--\n",
      "In the deft hands of Neil Gaiman, magic is no mere illusion... and anything is possible. In this, Gaiman's first book of short stories, his imagination and supreme artistry transform a mundane world into a place of terrible wonders -- a place where an old woman can purchase the Holy Grail at a thrift store, where assassins advertise their services in the Yellow Pages under \"Pest Control,\" and where a frightened young boy must barter for his life with a mean-spirited troll living beneath a bridge by the railroad tracks. Explore a new reality -- obscured by smoke and darkness, yet brilliantly tangible -- in this extraordinary collection of short works by a master prestidigitator. It will dazzle your senses, touch your heart, and haunt your dreams.\n",
      "--\n",
      "************* \n",
      "- CLUSTER  5\n",
      "*************\n",
      "Welcome to the hilarious, strange, elegiac, outrageous world of David Sedaris. In Naked, Sedaris turns the mania for memoir on its proverbial ear, mining the exceedingly rich terrain of his life, his family, and his unique worldview--a sensibility at once take-no-prisoners sharp and deeply charitable. A tart-tongued mother does dead-on imitations of her young son's nervous tics, to the great amusement of his teachers; a stint of Kerouackian wandering is undertaken (of course!) with a quadriplegic companion; a family gathers for a wedding in the face of imminent death. Through it all is Sedaris's unmistakable voice, without doubt one of the freshest in American writing.\n",
      "--\n",
      "In the summer of 2006, Emma Price watched helplessly as her six-year-old son's red coat was fished out of the River Ouse. It was the tragic story of the year - a little boy, Aiden, wandered away from school during a terrible flood, fell into the river, and drowned.\n",
      "His body was never recovered.\n",
      "Ten years later, Emma has finally rediscovered the joy in life. She's married, pregnant, and in control again...\n",
      "... until Aiden returns.\n",
      "Too traumatized to speak, he raises endless questions and answers none. Only his body tells the story of his decade-long disappearance. The historic broken bones and injuries cast a mere glimpse into the horrors Aiden has experienced. Aiden never drowned. Aiden was taken.\n",
      "As Emma attempts to reconnect with her now teenage son, she must unmask the monster who took him away from her. But who, in their tiny village, could be capable of such a crime?\n",
      "It's Aiden who has the answers, but he cannot tell the unspeakable.\n",
      "This dark and disturbing psychological novel will appeal to fans of The Widow and The Butterfly Garden.\n",
      "--\n",
      "Favorites for nearly 100 years, these classic novels follow the adventures of the spirited redhead Anne Shirley, who comes to stay at Green Gables and wins the hearts of everyone she meets.\n",
      "Includes Anne of Green Gables, Anne of Avonlea, Anne of the Island, Anne of Windy Poplars, Anne's House of Dreams, Anne of Ingleside, Rainbow Valley and Rilla of Ingleside - the whole collection. Each book includes: The original, unabridged text; a specially commissioned biography of L.M. Montgomery; a map of Prince Edward Island.\n",
      "--\n",
      "What do you do? Tim Ferriss has trouble answering the question. Depending on when you ask this controversial Princeton University guest lecturer, he might answer: \"I race motorcycles in Europe.\" \"I ski in the Andes.\" \"I scuba dive in Panama.\" \"I dance tango in Buenos Aires.\" He has spent more than five years learning the secrets of the New Rich, a fast-growing subculture who has abandoned the \"deferred-life plan\" and instead mastered the new currencies-time and mobility-to create luxury lifestyles in the here and now. Whether you are an overworked employee or an entrepreneur trapped in your own business, this book is the compass for a new and revolutionary world.\n",
      "Join Tim Ferriss as he teaches you:\n",
      "- How to outsource your life to overseas virtual assistants for $5 per hour and do whatever you want?\n",
      "- How blue-chip escape artists travel the world without quitting their jobs?\n",
      "- How to eliminate 50% of your work in 48 hours using the principles of a forgotten Italian economist?\n",
      "- How to trade a long-haul career for short work bursts and freuent \"mini-retirements\"?\n",
      "- What the crucial difference is between absolute and relative income?\n",
      "- How to train your boss to value performance over presence, or kill your job (or company) if it's beyond repair?\n",
      "- What automated cash-flow \"muses\" are and how to create one in 2 to 4 weeks?\n",
      "- How to cultivate selective ignorance-and create time-with a low-information diet?\n",
      "- What the management secrets of Remote Control CEOs are?\n",
      "- How to get free housing worldwide and airfare at 50-80% off?\n",
      "- How to fill the void and create a meaningful life after removing work and the office\n",
      "--\n",
      "When Nell Channing arrives on charming Three Sisters Island, she believes that she's finally found refuge from her abusive husband--and from the terrifying life she fled so desperately eight months ago... But even in this quiet, peaceful place, Nell never feels entirely at ease. Careful to conceal her true identity, she takes a job as a cook at the local bookstore cafe--and begins to explore her feelings for the island sheriff, Zack Todd. But there is a part of herself she can never reveal to him--for she must continue to guard her secrets if she wants to keep the past at bay. One careless word, one misplaced confidence, and the new life she's created so carefully could shatter completely. Just as Nell starts to wonder if she'll ever be able to break free of her fear, she realizes that the island suffers under a terrible curse--one that can only be broken by the descendants of the Three Sisters, the witches who settled the island back in 1692. And now, with the help of two other strong, gifted women--and with the nightmares of the past haunting her every step--she must find the power to save her home, her love...and herself...\n",
      "--\n",
      "To most people, Fiona Bristow seems to have an idyllic life--a quaint house on an island off Seattle's coast, a thriving dog-training school and a challenging volunteer job performing Canine Search and Rescue. Not to mention her three intensely loyal Labs. But Fiona got to this point by surviving a nightmare.\n",
      "Several years ago, Fiona was the only survivor of the Red Scarf Killer, who shot and killed Fiona's cop fiance and his K-9 partner.\n",
      "On Orcas Island, Fiona has found the peace and solitude necessary to rebuild her life. But all that changes on the day Simon Doyle barrels up her drive, desperate for her help. He's an intensely private wood artist and the reluctant owner of an out-of-control puppy named Jaws.\n",
      "As Fiona embarks on training Jaws, and Simon begins to appreciate both dog and trainer, the past tears back into Fiona's life. A copycat killer has emerged out of the shadows, a man whose bloodlust has been channeled by a master with one motive: to reclaim the woman who slipped out of his hands . . .\n",
      "--\n",
      "Danny's life seems perfect: his home is a gypsy caravan, he's the youngest car mechanic around, and his best friend is his dad, who never runs out of wonderful stories to tell. And when Danny discovers his father's secret, he's off on the adventure of a lifetime. Here's Roald Dahl's famous story about a 9-year-old boy, his dad, and a daring and hilarious pheasant-snatching expedition. Just as important, it's the story of the love between a boy and his father who, in Danny's own words, is \"the most marvelous and exciting father a boy ever had.\"\n",
      "--\n",
      "Pierson's puppeteers, three-leg two-head aliens find immense structure in unexplored part of the universe. Frightened of meeting the builders, they send a team of two humans, a puppeteer and a kzin, eight-foot red-fur catlike alien. Ringworld is 180 million miles across, sun at center. But the expedition crashes, and crew face disastrously long trek.\n",
      "--\n",
      "A brilliant satire of mass culture and the numbing effects of technology, White Noisetells the story of Jack Gladney, a teacher of Hitler studies at a liberal arts college in Middle America. Jack and his fourth wife, Babette, bound by their love, fear of death, and four ultramodern offspring, navigate the rocky passages of family life to the background babble of brand-name consumerism. Then a lethal black chemical cloud, unleashed by an industrial accident, floats over their lives, an \"airborne toxic event\" that is a more urgent and visible version of the white noise engulfing the Gladneys--the radio transmissions, sirens, microwaves, and TV murmurings that constitute the music of American magic and dread.\n",
      "--\n",
      "GIFTED AND CURSED\n",
      "Kaitlyn Fairchild has always felt like an outsider. Her haunting eyes and prophetic drawings have earned her a reputation as a witch. But Kait's not a witch: she's psychic. Tired of being shunned, Kait accepts an invitation to attend the Zetes Institute, where she can study with other psychic teens and have a fresh start.\n",
      "As Kaitlyn learns to hone her abilities with four other gifted students, she starts to discover the intensity of her power - and the joy of having true friends. But those friendships quickly become complicated when Kait finds herself torn between two irresistible guys. Rob is a healer - kind and gentle, he's surrounded by good energy, while Gabriel is aggressive and mysterious - a telepath concealing his true nature. Together, Rob and Gabriel's opposing forces start to threaten the group's stability, and when an experiment traps the five teens in a psychic link - a link that threatens their sanity and their lives - Kaitlyn must decide who to trust and who to love...\n",
      "--\n"
     ]
    }
   ],
   "source": [
    "for cluster in range(n_clus):\n",
    "    print('************* ')\n",
    "    print('- CLUSTER ',str(cluster))\n",
    "    print('*************')\n",
    "    bks=df[df['kmeans_cluster']==cluster]\n",
    "    most_representative_docs = np.argsort(\n",
    "    np.linalg.norm(bks[embedding] - km.cluster_centers_[cluster], axis=1)\n",
    ")\n",
    "    del bks\n",
    "    centroid_index= most_representative_docs[0]\n",
    "    centroid=[]\n",
    "    for i in range(100):\n",
    "        feature='f_'+str(i)\n",
    "    for d in most_representative_docs[:10]:\n",
    "        print(df.reset_index().description[d])\n",
    "        print(\"--\")"
   ]
  },
  {
   "cell_type": "code",
   "execution_count": 79,
   "id": "79ac44f7",
   "metadata": {},
   "outputs": [],
   "source": [
    "#Saving the new df\n",
    "df.to_csv(r'/Users/maryamnozari/Desktop/Springboard/BookRecommendationSystems/BookRecommendationSystems.csv')\n"
   ]
  },
  {
   "cell_type": "markdown",
   "id": "6659c774",
   "metadata": {},
   "source": [
    "**The rest of this notebook is run on a different notebook due to the size of the visualization**"
   ]
  },
  {
   "cell_type": "markdown",
   "id": "ea148c8b",
   "metadata": {},
   "source": [
    "## Cluster Visualization"
   ]
  },
  {
   "cell_type": "markdown",
   "id": "e77fdf04",
   "metadata": {},
   "source": [
    "To visualize high-dimensional datasets we can use techniques known as **dimensionality reduction**. \n",
    "\n",
    "**t-Distributed Stochastic Neighbor Embedding (t-SNE)*** is a technique for dimensionality reduction that allows to map an high-dimensional distribution to a 2-dim plane. Since this is computationally quite heavy, another dimensionality reduction technique is used in conjunction with it, e.g. **Principal Component Analysis** or **PCA**. \n",
    "\n",
    "\n",
    "PCA is a technique for reducing the number of dimensions in a dataset while retaining most information. It analyzes the correlation between dimensions and attempts to provide a minimum number of variables that keeps the maximum amount of variation or information about the original data distribution. \n",
    "\n",
    "we will first reduce our dimensions from 100 to 50 using PCA, and eventually using t-sne to visualize our clusters in 2 dimensions. "
   ]
  },
  {
   "cell_type": "markdown",
   "id": "b4d2d300",
   "metadata": {},
   "source": [
    "## Reducing Variables with PCA"
   ]
  },
  {
   "cell_type": "code",
   "execution_count": 49,
   "id": "6b055cd9",
   "metadata": {},
   "outputs": [],
   "source": [
    "#from sklearn.decomposition import PCA\n",
    "#from sklearn.manifold import TSNE"
   ]
  },
  {
   "cell_type": "code",
   "execution_count": 50,
   "id": "2136d2cf",
   "metadata": {},
   "outputs": [],
   "source": [
    "#pca_50 = PCA(n_components = 50)\n"
   ]
  },
  {
   "cell_type": "code",
   "execution_count": 51,
   "id": "ac9014da",
   "metadata": {},
   "outputs": [],
   "source": [
    "#pca_50_result = pca_50.fit_transform(df[embedding])"
   ]
  },
  {
   "cell_type": "code",
   "execution_count": 52,
   "id": "e4123b8b",
   "metadata": {},
   "outputs": [],
   "source": [
    "#pca_50_result "
   ]
  },
  {
   "cell_type": "code",
   "execution_count": 53,
   "id": "ef650c68",
   "metadata": {},
   "outputs": [],
   "source": [
    "#Cumulative variation for 50 principal components\n",
    "#np.sum(pca_50.explained_variance_ratio_)"
   ]
  },
  {
   "cell_type": "markdown",
   "id": "9b1ba325",
   "metadata": {},
   "source": [
    "## Execute TSNE Model"
   ]
  },
  {
   "cell_type": "code",
   "execution_count": 54,
   "id": "9e2ff1e3",
   "metadata": {},
   "outputs": [],
   "source": [
    "#tsne = TSNE(n_components= 2, verbose= 0, perplexity= 30, n_iter = 2000)\n",
    "#tsne_pca_result = tsne.fit_transform(pca_50_result)"
   ]
  },
  {
   "cell_type": "code",
   "execution_count": 55,
   "id": "45fb311f",
   "metadata": {},
   "outputs": [],
   "source": [
    "#df['tsne_1'] = tsne_pca_result[:,0]\n",
    "#df['tsne_2']= tsne_pca_result[:,1]"
   ]
  },
  {
   "cell_type": "markdown",
   "id": "539b9cc1",
   "metadata": {},
   "source": [
    "## Plot clusters in a 2-dimentional plane"
   ]
  },
  {
   "cell_type": "code",
   "execution_count": 56,
   "id": "b02065b4",
   "metadata": {},
   "outputs": [],
   "source": [
    "#plt.figure(figsize=(10,8))\n",
    "#sns.scatterplot(x= 'tsne_1', y = 'tsne_2', hue = 'kmeans_cluster', s= 30, palette = 'Paired', data = df)"
   ]
  },
  {
   "cell_type": "code",
   "execution_count": 57,
   "id": "1538e1ca",
   "metadata": {},
   "outputs": [],
   "source": [
    "#sample_titles = ['To Kill a Mockingbird','The Great Gatsby', 'Dear and Glorious Physician']\n",
    "\n",
    "\n",
    "#for t in sample_titles:\n",
    "    #x=df.loc[df['title']==t,'tsne_1'].tolist()[0]\n",
    "    #y=df.loc[df['title']==t,'tsne_2'].tolist()[0]\n",
    "    \n",
    "    #plt.scatter(x,y)\n",
    "    #plt.annotate(t,(x,y),xytext=(x-70,y),arrowprops={'arrowstyle':'fancy'})\n",
    "#plt.xlabel('tsne_1')\n",
    "#plt.ylabel('tsne_2')\n",
    "#plt.xlim([-100,100])\n",
    "#plt.ylim([-100,100])\n",
    "#plt.show()\n",
    "\n",
    "\n",
    "\n",
    "\n",
    "\n",
    "\n"
   ]
  },
  {
   "cell_type": "code",
   "execution_count": 58,
   "id": "350e2273",
   "metadata": {},
   "outputs": [],
   "source": [
    "#print(df[:20])"
   ]
  },
  {
   "cell_type": "code",
   "execution_count": 59,
   "id": "d0e83480",
   "metadata": {},
   "outputs": [],
   "source": [
    "# Let's find two similar books based on similar book column to test the model with similar genres. "
   ]
  },
  {
   "cell_type": "code",
   "execution_count": 60,
   "id": "bbfed96b",
   "metadata": {
    "scrolled": true
   },
   "outputs": [],
   "source": [
    "#df.loc[df.book_id==10051706, 'title'].values[0]"
   ]
  },
  {
   "cell_type": "code",
   "execution_count": 61,
   "id": "98680943",
   "metadata": {},
   "outputs": [],
   "source": [
    "#df.loc[df.book_id==10327303, 'title'].values[0]"
   ]
  },
  {
   "cell_type": "markdown",
   "id": "92154cee",
   "metadata": {},
   "source": [
    "Samples of books dealing with different themes were assigned to different clusters and lay far from each other in the plot and sample of similar books are in similar clusters.\n",
    "\n",
    "\n",
    "\n",
    "\n",
    "\n",
    "\n"
   ]
  },
  {
   "cell_type": "code",
   "execution_count": 62,
   "id": "30640648",
   "metadata": {},
   "outputs": [],
   "source": [
    "#sample_titles = ['Au Revoir, Crazy European Chick (Perry & Gobi, #1)','Uncommon Criminals (Heist Society, #2)']\n",
    "\n",
    "\n",
    "#for t in sample_titles:\n",
    "    #x=df.loc[df['title']==t,'tsne_1'].tolist()[0]\n",
    "    #y=df.loc[df['title']==t,'tsne_2'].tolist()[0]\n",
    "    \n",
    "    #plt.scatter(x,y)\n",
    "    #plt.annotate(t,(x,y),xytext=(x-70,y),arrowprops={'arrowstyle':'fancy'})\n",
    "#plt.xlabel('tsne_1')\n",
    "#plt.ylabel('tsne_2')\n",
    "#plt.xlim([-100,100])\n",
    "#plt.ylim([-100,100])\n",
    "#plt.show()\n"
   ]
  },
  {
   "cell_type": "markdown",
   "id": "a33600c1",
   "metadata": {},
   "source": [
    "It seemes that that cluster 7 and 1 are very close to eachother and therefore our model is performing well."
   ]
  },
  {
   "cell_type": "code",
   "execution_count": 63,
   "id": "915a983d",
   "metadata": {},
   "outputs": [],
   "source": [
    "#!pwd"
   ]
  },
  {
   "cell_type": "code",
   "execution_count": 64,
   "id": "3a57ab38",
   "metadata": {},
   "outputs": [],
   "source": [
    "# save the data to a new csv file\n",
    "#df.to_csv(index=False)"
   ]
  }
 ],
 "metadata": {
  "kernelspec": {
   "display_name": "Python 3 (ipykernel)",
   "language": "python",
   "name": "python3"
  },
  "language_info": {
   "codemirror_mode": {
    "name": "ipython",
    "version": 3
   },
   "file_extension": ".py",
   "mimetype": "text/x-python",
   "name": "python",
   "nbconvert_exporter": "python",
   "pygments_lexer": "ipython3",
   "version": "3.9.12"
  }
 },
 "nbformat": 4,
 "nbformat_minor": 5
}
